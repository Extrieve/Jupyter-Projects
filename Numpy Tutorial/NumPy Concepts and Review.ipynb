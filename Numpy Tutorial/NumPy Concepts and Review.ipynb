{
 "cells": [
  {
   "cell_type": "code",
   "execution_count": 1,
   "id": "a421ba66",
   "metadata": {},
   "outputs": [],
   "source": [
    "import sys\n",
    "import numpy as np"
   ]
  },
  {
   "cell_type": "markdown",
   "id": "7879f1ee",
   "metadata": {},
   "source": [
    "# Basics"
   ]
  },
  {
   "cell_type": "code",
   "execution_count": 26,
   "id": "26909107",
   "metadata": {},
   "outputs": [
    {
     "name": "stdout",
     "output_type": "stream",
     "text": [
      "[1. 2. 3.]\n"
     ]
    },
    {
     "data": {
      "text/plain": [
       "array([[27, 79, 79, 63, 75],\n",
       "       [73, 27, 20, 69, 76],\n",
       "       [64, 29, 89, 90, 65],\n",
       "       [44, 45, 23, 29, 96],\n",
       "       [ 0, 97, 78, 49, 52]])"
      ]
     },
     "execution_count": 26,
     "metadata": {},
     "output_type": "execute_result"
    }
   ],
   "source": [
    "myarr = np.array([1,2,3], dtype='float64')\n",
    "print(myarr)\n",
    "\n",
    "random = np.random.randint(101, size=[5,5])\n",
    "random"
   ]
  },
  {
   "cell_type": "code",
   "execution_count": 18,
   "id": "66456df9",
   "metadata": {},
   "outputs": [
    {
     "data": {
      "text/plain": [
       "array([[42, 90],\n",
       "       [53, 30]])"
      ]
     },
     "execution_count": 18,
     "metadata": {},
     "output_type": "execute_result"
    }
   ],
   "source": [
    "random[2:4,1:3]"
   ]
  },
  {
   "cell_type": "code",
   "execution_count": 23,
   "id": "86373277",
   "metadata": {},
   "outputs": [
    {
     "data": {
      "text/plain": [
       "array([[80, 35, 96, 54, 51],\n",
       "       [85, 42, 90, 77, 47],\n",
       "       [82,  9, 34, 24, 59]])"
      ]
     },
     "execution_count": 23,
     "metadata": {},
     "output_type": "execute_result"
    }
   ],
   "source": [
    "# You can select multiple individual elements from the matrix in this way.\n",
    "random[[0, 2, -1]]"
   ]
  },
  {
   "cell_type": "markdown",
   "id": "bc4876b4",
   "metadata": {},
   "source": [
    "## Array Types"
   ]
  },
  {
   "cell_type": "code",
   "execution_count": 27,
   "id": "d1e5766e",
   "metadata": {},
   "outputs": [
    {
     "data": {
      "text/plain": [
       "dtype('float64')"
      ]
     },
     "execution_count": 27,
     "metadata": {},
     "output_type": "execute_result"
    }
   ],
   "source": [
    "myarr.dtype"
   ]
  },
  {
   "cell_type": "code",
   "execution_count": 25,
   "id": "2f549d54",
   "metadata": {},
   "outputs": [
    {
     "data": {
      "text/plain": [
       "(5, 5)"
      ]
     },
     "execution_count": 25,
     "metadata": {},
     "output_type": "execute_result"
    }
   ],
   "source": [
    "random.shape"
   ]
  },
  {
   "cell_type": "code",
   "execution_count": 40,
   "id": "1154893c",
   "metadata": {},
   "outputs": [
    {
     "data": {
      "text/plain": [
       "dtype('<U1')"
      ]
     },
     "execution_count": 40,
     "metadata": {},
     "output_type": "execute_result"
    }
   ],
   "source": [
    "charArr = np.array(['a', 'c', 'e'])\n",
    "charArr.dtype"
   ]
  },
  {
   "cell_type": "markdown",
   "id": "20d047af",
   "metadata": {},
   "source": [
    "## Dimensions and Shapes"
   ]
  },
  {
   "cell_type": "code",
   "execution_count": 29,
   "id": "72aaec14",
   "metadata": {},
   "outputs": [
    {
     "data": {
      "text/plain": [
       "(5, 5)"
      ]
     },
     "execution_count": 29,
     "metadata": {},
     "output_type": "execute_result"
    }
   ],
   "source": [
    "random.shape"
   ]
  },
  {
   "cell_type": "code",
   "execution_count": 30,
   "id": "66d8dcf2",
   "metadata": {},
   "outputs": [
    {
     "data": {
      "text/plain": [
       "(3,)"
      ]
     },
     "execution_count": 30,
     "metadata": {},
     "output_type": "execute_result"
    }
   ],
   "source": [
    "myarr.shape"
   ]
  },
  {
   "cell_type": "code",
   "execution_count": 31,
   "id": "fc724a41",
   "metadata": {},
   "outputs": [
    {
     "data": {
      "text/plain": [
       "25"
      ]
     },
     "execution_count": 31,
     "metadata": {},
     "output_type": "execute_result"
    }
   ],
   "source": [
    "random.size"
   ]
  },
  {
   "cell_type": "code",
   "execution_count": 32,
   "id": "1ca53939",
   "metadata": {},
   "outputs": [
    {
     "data": {
      "text/plain": [
       "3"
      ]
     },
     "execution_count": 32,
     "metadata": {},
     "output_type": "execute_result"
    }
   ],
   "source": [
    "charArr.size"
   ]
  },
  {
   "cell_type": "code",
   "execution_count": 41,
   "id": "13bf4271",
   "metadata": {},
   "outputs": [
    {
     "data": {
      "text/plain": [
       "4"
      ]
     },
     "execution_count": 41,
     "metadata": {},
     "output_type": "execute_result"
    }
   ],
   "source": [
    "charArr = np.append(charArr, 'b')\n",
    "charArr.size"
   ]
  },
  {
   "cell_type": "code",
   "execution_count": 36,
   "id": "6b72e930",
   "metadata": {},
   "outputs": [
    {
     "data": {
      "text/plain": [
       "array(['a', 'c', 'e'], dtype='<U1')"
      ]
     },
     "execution_count": 36,
     "metadata": {},
     "output_type": "execute_result"
    }
   ],
   "source": []
  },
  {
   "cell_type": "markdown",
   "id": "ed57d9dc",
   "metadata": {},
   "source": [
    "## Basic Stats"
   ]
  },
  {
   "cell_type": "code",
   "execution_count": 10,
   "id": "7c93fe86",
   "metadata": {},
   "outputs": [
    {
     "data": {
      "text/plain": [
       "array([[  6,  65,  64,  88,  83,   3,  95,  24,  53,  92],\n",
       "       [ 58,  29,  18,  48,  65,  83,  29,  69,   5,  84],\n",
       "       [  8,  62,  62,  84,   6,  85,  68,  19,  28,  42],\n",
       "       [ 36,  62, 100,  19,  11,   4,  97,  74,  24,  67],\n",
       "       [ 48,  31,  31,  93,  26,  87,  71,  35,  82,  83],\n",
       "       [ 18,  13,  78,   2,  82,  93,  69,  85,  17,  52],\n",
       "       [ 12,   3,  21,  86,  84,  30,  22,  31,  45,  98],\n",
       "       [ 95,  72,  34,   0,  29,  41,  83,  46,  22,  73],\n",
       "       [ 35,  70,  30,  98,  20,  24,  91,   4,  14,  72],\n",
       "       [  7,  18,  70,  20,  95,  66,  19, 100,  28,   9]])"
      ]
     },
     "execution_count": 10,
     "metadata": {},
     "output_type": "execute_result"
    }
   ],
   "source": [
    "sample_arr = np.random.randint(101, size=[10, 10])\n",
    "sample_arr"
   ]
  },
  {
   "cell_type": "code",
   "execution_count": 44,
   "id": "7f34e064",
   "metadata": {},
   "outputs": [
    {
     "data": {
      "text/plain": [
       "4609"
      ]
     },
     "execution_count": 44,
     "metadata": {},
     "output_type": "execute_result"
    }
   ],
   "source": [
    "sample_arr.sum()"
   ]
  },
  {
   "cell_type": "code",
   "execution_count": 45,
   "id": "5df5c484",
   "metadata": {},
   "outputs": [
    {
     "data": {
      "text/plain": [
       "46.09"
      ]
     },
     "execution_count": 45,
     "metadata": {},
     "output_type": "execute_result"
    }
   ],
   "source": [
    "sample_arr.mean()"
   ]
  },
  {
   "cell_type": "code",
   "execution_count": 46,
   "id": "94253295",
   "metadata": {},
   "outputs": [
    {
     "data": {
      "text/plain": [
       "30.58728330532151"
      ]
     },
     "execution_count": 46,
     "metadata": {},
     "output_type": "execute_result"
    }
   ],
   "source": [
    "sample_arr.std()"
   ]
  },
  {
   "cell_type": "code",
   "execution_count": 47,
   "id": "227a2bb9",
   "metadata": {},
   "outputs": [
    {
     "data": {
      "text/plain": [
       "443"
      ]
     },
     "execution_count": 47,
     "metadata": {},
     "output_type": "execute_result"
    }
   ],
   "source": [
    "# We can specify specific regions of the arr for stats\n",
    "sample_arr[0].sum()"
   ]
  },
  {
   "cell_type": "code",
   "execution_count": 48,
   "id": "b07380da",
   "metadata": {},
   "outputs": [
    {
     "data": {
      "text/plain": [
       "44.3"
      ]
     },
     "execution_count": 48,
     "metadata": {},
     "output_type": "execute_result"
    }
   ],
   "source": [
    "sample_arr[0].mean()"
   ]
  },
  {
   "cell_type": "code",
   "execution_count": 49,
   "id": "c691b92f",
   "metadata": {},
   "outputs": [
    {
     "data": {
      "text/plain": [
       "array([402, 582, 481, 376, 490, 538, 243, 515, 445, 537])"
      ]
     },
     "execution_count": 49,
     "metadata": {},
     "output_type": "execute_result"
    }
   ],
   "source": [
    "# We can also specify it by axis\n",
    "sample_arr.sum(axis=0)"
   ]
  },
  {
   "cell_type": "markdown",
   "id": "0a0fc11e",
   "metadata": {},
   "source": [
    "## Broadcasting and Vectorized Operations"
   ]
  },
  {
   "cell_type": "code",
   "execution_count": 57,
   "id": "3e4a985c",
   "metadata": {},
   "outputs": [
    {
     "data": {
      "text/plain": [
       "array([0, 1, 2, 3, 4, 5, 6, 7, 8, 9])"
      ]
     },
     "execution_count": 57,
     "metadata": {},
     "output_type": "execute_result"
    }
   ],
   "source": [
    "newArr = np.arange(10)\n",
    "newArr"
   ]
  },
  {
   "cell_type": "code",
   "execution_count": 54,
   "id": "71f7e3e7",
   "metadata": {},
   "outputs": [
    {
     "data": {
      "text/plain": [
       "array([10, 11, 12, 13, 14, 15, 16, 17, 18, 19])"
      ]
     },
     "execution_count": 54,
     "metadata": {},
     "output_type": "execute_result"
    }
   ],
   "source": [
    "newArr + 10"
   ]
  },
  {
   "cell_type": "code",
   "execution_count": 58,
   "id": "191990c2",
   "metadata": {},
   "outputs": [
    {
     "data": {
      "text/plain": [
       "array([10, 11, 12, 13, 14, 15, 16, 17, 18, 19])"
      ]
     },
     "execution_count": 58,
     "metadata": {},
     "output_type": "execute_result"
    }
   ],
   "source": [
    "newArr += 10\n",
    "newArr"
   ]
  },
  {
   "cell_type": "code",
   "execution_count": 66,
   "id": "c6794b3f",
   "metadata": {},
   "outputs": [
    {
     "data": {
      "text/plain": [
       "array([-90, -88, -86, -84, -82, -80, -78, -76, -74, -72, -70, -68, -66,\n",
       "       -64, -62, -60, -58, -56, -54, -52, -50, -48, -46, -44, -42, -40,\n",
       "       -38, -36, -34, -32, -30, -28, -26, -24, -22, -20, -18, -16, -14,\n",
       "       -12, -10,  -8,  -6,  -4,  -2,   0,   2,   4,   6,   8,  10,  12,\n",
       "        14,  16,  18,  20,  22,  24,  26,  28,  30,  32,  34,  36,  38,\n",
       "        40,  42,  44,  46,  48,  50,  52,  54,  56,  58,  60,  62,  64,\n",
       "        66,  68,  70,  72,  74,  76,  78,  80,  82,  84,  86,  88,  90])"
      ]
     },
     "execution_count": 66,
     "metadata": {},
     "output_type": "execute_result"
    }
   ],
   "source": [
    "a = np.arange(10, 101)\n",
    "b = np.arange(-100, - 9)\n",
    "a + b"
   ]
  },
  {
   "cell_type": "markdown",
   "id": "abe41b2b",
   "metadata": {},
   "source": [
    "## Boolean Arrays"
   ]
  },
  {
   "cell_type": "code",
   "execution_count": 2,
   "id": "452f5332",
   "metadata": {},
   "outputs": [
    {
     "data": {
      "text/plain": [
       "array([0, 1, 2, 3])"
      ]
     },
     "execution_count": 2,
     "metadata": {},
     "output_type": "execute_result"
    }
   ],
   "source": [
    "a = np.arange(4)\n",
    "a"
   ]
  },
  {
   "cell_type": "code",
   "execution_count": 3,
   "id": "0744ab38",
   "metadata": {},
   "outputs": [
    {
     "data": {
      "text/plain": [
       "array([0, 3])"
      ]
     },
     "execution_count": 3,
     "metadata": {},
     "output_type": "execute_result"
    }
   ],
   "source": [
    "a[[0, -1]]"
   ]
  },
  {
   "cell_type": "code",
   "execution_count": 4,
   "id": "fcf6caf4",
   "metadata": {},
   "outputs": [
    {
     "data": {
      "text/plain": [
       "array([0, 2])"
      ]
     },
     "execution_count": 4,
     "metadata": {},
     "output_type": "execute_result"
    }
   ],
   "source": [
    "# Select elements by boolean vals\n",
    "a[[True, False, True, False]]"
   ]
  },
  {
   "cell_type": "code",
   "execution_count": 5,
   "id": "cd2f03ef",
   "metadata": {},
   "outputs": [
    {
     "data": {
      "text/plain": [
       "array([False, False,  True,  True])"
      ]
     },
     "execution_count": 5,
     "metadata": {},
     "output_type": "execute_result"
    }
   ],
   "source": [
    "# Compare the whole iterator with a condition\n",
    "a >= 2"
   ]
  },
  {
   "cell_type": "code",
   "execution_count": 6,
   "id": "5111238f",
   "metadata": {},
   "outputs": [
    {
     "data": {
      "text/plain": [
       "array([2, 3])"
      ]
     },
     "execution_count": 6,
     "metadata": {},
     "output_type": "execute_result"
    }
   ],
   "source": [
    "# Select all elements that satisfy the inner condition\n",
    "a[a>=2]"
   ]
  },
  {
   "cell_type": "code",
   "execution_count": 7,
   "id": "06397a23",
   "metadata": {},
   "outputs": [
    {
     "data": {
      "text/plain": [
       "array([2, 3])"
      ]
     },
     "execution_count": 7,
     "metadata": {},
     "output_type": "execute_result"
    }
   ],
   "source": [
    "# Select all elements that are greater than the mean\n",
    "a[a > a.mean()]"
   ]
  },
  {
   "cell_type": "code",
   "execution_count": 8,
   "id": "9530b655",
   "metadata": {},
   "outputs": [
    {
     "data": {
      "text/plain": [
       "array([0, 1])"
      ]
     },
     "execution_count": 8,
     "metadata": {},
     "output_type": "execute_result"
    }
   ],
   "source": [
    "# Select all elements that are NOT greater than the iterator mean\n",
    "a[~(a > a.mean())]"
   ]
  },
  {
   "cell_type": "markdown",
   "id": "20782dcc",
   "metadata": {},
   "source": [
    "## Linear Algebra"
   ]
  },
  {
   "cell_type": "code",
   "execution_count": 20,
   "id": "58d9b1ae",
   "metadata": {},
   "outputs": [
    {
     "data": {
      "text/plain": [
       "array([[1, 2, 3],\n",
       "       [4, 5, 6],\n",
       "       [7, 8, 9]])"
      ]
     },
     "execution_count": 20,
     "metadata": {},
     "output_type": "execute_result"
    }
   ],
   "source": [
    "a = np.arange(1, 10)\n",
    "a = a.reshape((3,3))\n",
    "a"
   ]
  },
  {
   "cell_type": "code",
   "execution_count": 21,
   "id": "cee206be",
   "metadata": {},
   "outputs": [
    {
     "data": {
      "text/plain": [
       "array([[9, 1, 1],\n",
       "       [4, 5, 3],\n",
       "       [1, 5, 9]])"
      ]
     },
     "execution_count": 21,
     "metadata": {},
     "output_type": "execute_result"
    }
   ],
   "source": [
    "b = np.random.randint(1, 10, size=(3,3))\n",
    "b"
   ]
  },
  {
   "cell_type": "code",
   "execution_count": 22,
   "id": "742bb58b",
   "metadata": {},
   "outputs": [
    {
     "data": {
      "text/plain": [
       "array([[ 20,  26,  34],\n",
       "       [ 62,  59,  73],\n",
       "       [104,  92, 112]])"
      ]
     },
     "execution_count": 22,
     "metadata": {},
     "output_type": "execute_result"
    }
   ],
   "source": [
    "a.dot(b)"
   ]
  },
  {
   "cell_type": "markdown",
   "id": "57bf2a19",
   "metadata": {},
   "source": [
    "## Size of Objects in Memory"
   ]
  },
  {
   "cell_type": "code",
   "execution_count": 23,
   "id": "4946254a",
   "metadata": {},
   "outputs": [
    {
     "data": {
      "text/plain": [
       "28"
      ]
     },
     "execution_count": 23,
     "metadata": {},
     "output_type": "execute_result"
    }
   ],
   "source": [
    "# Regular python int = 24bytes\n",
    "sys.getsizeof(1)"
   ]
  },
  {
   "cell_type": "code",
   "execution_count": 24,
   "id": "b6d25538",
   "metadata": {},
   "outputs": [
    {
     "data": {
      "text/plain": [
       "72"
      ]
     },
     "execution_count": 24,
     "metadata": {},
     "output_type": "execute_result"
    }
   ],
   "source": [
    "# Regular size of long in python\n",
    "sys.getsizeof(10**100)"
   ]
  },
  {
   "cell_type": "code",
   "execution_count": 25,
   "id": "825c3ef3",
   "metadata": {},
   "outputs": [
    {
     "data": {
      "text/plain": [
       "4"
      ]
     },
     "execution_count": 25,
     "metadata": {},
     "output_type": "execute_result"
    }
   ],
   "source": [
    "# Numpy ints\n",
    "np.dtype(int).itemsize"
   ]
  },
  {
   "cell_type": "code",
   "execution_count": 26,
   "id": "401e5566",
   "metadata": {},
   "outputs": [
    {
     "data": {
      "text/plain": [
       "8"
      ]
     },
     "execution_count": 26,
     "metadata": {},
     "output_type": "execute_result"
    }
   ],
   "source": [
    "# Numpy floats\n",
    "np.dtype(float).itemsize"
   ]
  },
  {
   "cell_type": "code",
   "execution_count": 29,
   "id": "7e230d00",
   "metadata": {},
   "outputs": [
    {
     "data": {
      "text/plain": [
       "64"
      ]
     },
     "execution_count": 29,
     "metadata": {},
     "output_type": "execute_result"
    }
   ],
   "source": [
    "# Regular python list size\n",
    "sys.getsizeof([1])"
   ]
  },
  {
   "cell_type": "code",
   "execution_count": 30,
   "id": "1d6104d1",
   "metadata": {},
   "outputs": [
    {
     "data": {
      "text/plain": [
       "4"
      ]
     },
     "execution_count": 30,
     "metadata": {},
     "output_type": "execute_result"
    }
   ],
   "source": [
    "# Numpy int array o n size\n",
    "np.array([1]).nbytes"
   ]
  },
  {
   "cell_type": "markdown",
   "id": "9958b160",
   "metadata": {},
   "source": [
    "## Difference in Time Complexity / Performance"
   ]
  },
  {
   "cell_type": "code",
   "execution_count": 38,
   "id": "0586241d",
   "metadata": {},
   "outputs": [],
   "source": [
    "myList = list(range(1000000))"
   ]
  },
  {
   "cell_type": "code",
   "execution_count": 39,
   "id": "efc5f417",
   "metadata": {},
   "outputs": [],
   "source": [
    "a = np.arange(1000000)"
   ]
  },
  {
   "cell_type": "code",
   "execution_count": 40,
   "id": "b98c0dc0",
   "metadata": {},
   "outputs": [
    {
     "name": "stdout",
     "output_type": "stream",
     "text": [
      "Wall time: 3 ms\n"
     ]
    },
    {
     "data": {
      "text/plain": [
       "584144992"
      ]
     },
     "execution_count": 40,
     "metadata": {},
     "output_type": "execute_result"
    }
   ],
   "source": [
    "%time np.sum(a ** 2)"
   ]
  },
  {
   "cell_type": "code",
   "execution_count": 41,
   "id": "dca0a651",
   "metadata": {},
   "outputs": [
    {
     "name": "stdout",
     "output_type": "stream",
     "text": [
      "Wall time: 239 ms\n"
     ]
    },
    {
     "data": {
      "text/plain": [
       "333332833333500000"
      ]
     },
     "execution_count": 41,
     "metadata": {},
     "output_type": "execute_result"
    }
   ],
   "source": [
    "%time sum([item ** 2 for item in myList])"
   ]
  },
  {
   "cell_type": "code",
   "execution_count": null,
   "id": "054a85f8",
   "metadata": {},
   "outputs": [],
   "source": []
  }
 ],
 "metadata": {
  "kernelspec": {
   "display_name": "Python 3",
   "language": "python",
   "name": "python3"
  },
  "language_info": {
   "codemirror_mode": {
    "name": "ipython",
    "version": 3
   },
   "file_extension": ".py",
   "mimetype": "text/x-python",
   "name": "python",
   "nbconvert_exporter": "python",
   "pygments_lexer": "ipython3",
   "version": "3.8.8"
  }
 },
 "nbformat": 4,
 "nbformat_minor": 5
}
