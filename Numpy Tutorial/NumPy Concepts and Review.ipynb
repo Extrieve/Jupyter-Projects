{
 "cells": [
  {
   "cell_type": "code",
   "execution_count": 1,
   "id": "a421ba66",
   "metadata": {},
   "outputs": [],
   "source": [
    "import sys\n",
    "import numpy as np"
   ]
  },
  {
   "cell_type": "markdown",
   "id": "7879f1ee",
   "metadata": {},
   "source": [
    "# Basics"
   ]
  },
  {
   "cell_type": "code",
   "execution_count": 26,
   "id": "26909107",
   "metadata": {},
   "outputs": [
    {
     "name": "stdout",
     "output_type": "stream",
     "text": [
      "[1. 2. 3.]\n"
     ]
    },
    {
     "data": {
      "text/plain": [
       "array([[27, 79, 79, 63, 75],\n",
       "       [73, 27, 20, 69, 76],\n",
       "       [64, 29, 89, 90, 65],\n",
       "       [44, 45, 23, 29, 96],\n",
       "       [ 0, 97, 78, 49, 52]])"
      ]
     },
     "execution_count": 26,
     "metadata": {},
     "output_type": "execute_result"
    }
   ],
   "source": [
    "myarr = np.array([1,2,3], dtype='float64')\n",
    "print(myarr)\n",
    "\n",
    "random = np.random.randint(101, size=[5,5])\n",
    "random"
   ]
  },
  {
   "cell_type": "code",
   "execution_count": 18,
   "id": "66456df9",
   "metadata": {},
   "outputs": [
    {
     "data": {
      "text/plain": [
       "array([[42, 90],\n",
       "       [53, 30]])"
      ]
     },
     "execution_count": 18,
     "metadata": {},
     "output_type": "execute_result"
    }
   ],
   "source": [
    "random[2:4,1:3]"
   ]
  },
  {
   "cell_type": "code",
   "execution_count": 23,
   "id": "86373277",
   "metadata": {},
   "outputs": [
    {
     "data": {
      "text/plain": [
       "array([[80, 35, 96, 54, 51],\n",
       "       [85, 42, 90, 77, 47],\n",
       "       [82,  9, 34, 24, 59]])"
      ]
     },
     "execution_count": 23,
     "metadata": {},
     "output_type": "execute_result"
    }
   ],
   "source": [
    "# You can select multiple individual elements from the matrix in this way.\n",
    "random[[0, 2, -1]]"
   ]
  },
  {
   "cell_type": "markdown",
   "id": "bc4876b4",
   "metadata": {},
   "source": [
    "## Array Types"
   ]
  },
  {
   "cell_type": "code",
   "execution_count": 27,
   "id": "d1e5766e",
   "metadata": {},
   "outputs": [
    {
     "data": {
      "text/plain": [
       "dtype('float64')"
      ]
     },
     "execution_count": 27,
     "metadata": {},
     "output_type": "execute_result"
    }
   ],
   "source": [
    "myarr.dtype"
   ]
  },
  {
   "cell_type": "code",
   "execution_count": 25,
   "id": "2f549d54",
   "metadata": {},
   "outputs": [
    {
     "data": {
      "text/plain": [
       "(5, 5)"
      ]
     },
     "execution_count": 25,
     "metadata": {},
     "output_type": "execute_result"
    }
   ],
   "source": [
    "random.shape"
   ]
  },
  {
   "cell_type": "code",
   "execution_count": 40,
   "id": "1154893c",
   "metadata": {},
   "outputs": [
    {
     "data": {
      "text/plain": [
       "dtype('<U1')"
      ]
     },
     "execution_count": 40,
     "metadata": {},
     "output_type": "execute_result"
    }
   ],
   "source": [
    "charArr = np.array(['a', 'c', 'e'])\n",
    "charArr.dtype"
   ]
  },
  {
   "cell_type": "markdown",
   "id": "20d047af",
   "metadata": {},
   "source": [
    "## Dimensions and Shapes"
   ]
  },
  {
   "cell_type": "code",
   "execution_count": 29,
   "id": "72aaec14",
   "metadata": {},
   "outputs": [
    {
     "data": {
      "text/plain": [
       "(5, 5)"
      ]
     },
     "execution_count": 29,
     "metadata": {},
     "output_type": "execute_result"
    }
   ],
   "source": [
    "random.shape"
   ]
  },
  {
   "cell_type": "code",
   "execution_count": 30,
   "id": "66d8dcf2",
   "metadata": {},
   "outputs": [
    {
     "data": {
      "text/plain": [
       "(3,)"
      ]
     },
     "execution_count": 30,
     "metadata": {},
     "output_type": "execute_result"
    }
   ],
   "source": [
    "myarr.shape"
   ]
  },
  {
   "cell_type": "code",
   "execution_count": 31,
   "id": "fc724a41",
   "metadata": {},
   "outputs": [
    {
     "data": {
      "text/plain": [
       "25"
      ]
     },
     "execution_count": 31,
     "metadata": {},
     "output_type": "execute_result"
    }
   ],
   "source": [
    "random.size"
   ]
  },
  {
   "cell_type": "code",
   "execution_count": 32,
   "id": "1ca53939",
   "metadata": {},
   "outputs": [
    {
     "data": {
      "text/plain": [
       "3"
      ]
     },
     "execution_count": 32,
     "metadata": {},
     "output_type": "execute_result"
    }
   ],
   "source": [
    "charArr.size"
   ]
  },
  {
   "cell_type": "code",
   "execution_count": 41,
   "id": "13bf4271",
   "metadata": {},
   "outputs": [
    {
     "data": {
      "text/plain": [
       "4"
      ]
     },
     "execution_count": 41,
     "metadata": {},
     "output_type": "execute_result"
    }
   ],
   "source": [
    "charArr = np.append(charArr, 'b')\n",
    "charArr.size"
   ]
  },
  {
   "cell_type": "code",
   "execution_count": 36,
   "id": "6b72e930",
   "metadata": {},
   "outputs": [
    {
     "data": {
      "text/plain": [
       "array(['a', 'c', 'e'], dtype='<U1')"
      ]
     },
     "execution_count": 36,
     "metadata": {},
     "output_type": "execute_result"
    }
   ],
   "source": []
  },
  {
   "cell_type": "markdown",
   "id": "ed57d9dc",
   "metadata": {},
   "source": [
    "## Basic Stats"
   ]
  },
  {
   "cell_type": "code",
   "execution_count": 43,
   "id": "7c93fe86",
   "metadata": {},
   "outputs": [
    {
     "data": {
      "text/plain": [
       "array([[24, 51, 35, 44, 86, 22, 46, 46, 82,  7],\n",
       "       [50, 58, 83, 30, 37, 46, 21, 85, 33, 66],\n",
       "       [96, 24, 41, 28, 37, 92,  2, 45, 58,  3],\n",
       "       [ 4, 86, 15,  4, 73, 93, 34,  1, 39, 92],\n",
       "       [49, 87, 20, 62, 28, 26,  1, 90,  4, 81],\n",
       "       [64,  2, 81, 39, 12, 89,  4, 20, 87,  3],\n",
       "       [26, 50, 40, 97, 34, 41, 26, 36, 12,  8],\n",
       "       [66, 61, 80,  6, 46, 76, 10, 43, 96, 92],\n",
       "       [12, 78, 86,  2, 70, 31, 38, 81,  3, 86],\n",
       "       [11, 85,  0, 64, 67, 22, 61, 68, 31, 99]])"
      ]
     },
     "execution_count": 43,
     "metadata": {},
     "output_type": "execute_result"
    }
   ],
   "source": [
    "sample_arr = np.random.randint(101, size=[10, 10])\n",
    "sample_arr"
   ]
  },
  {
   "cell_type": "code",
   "execution_count": 44,
   "id": "7f34e064",
   "metadata": {},
   "outputs": [
    {
     "data": {
      "text/plain": [
       "4609"
      ]
     },
     "execution_count": 44,
     "metadata": {},
     "output_type": "execute_result"
    }
   ],
   "source": [
    "sample_arr.sum()"
   ]
  },
  {
   "cell_type": "code",
   "execution_count": 45,
   "id": "5df5c484",
   "metadata": {},
   "outputs": [
    {
     "data": {
      "text/plain": [
       "46.09"
      ]
     },
     "execution_count": 45,
     "metadata": {},
     "output_type": "execute_result"
    }
   ],
   "source": [
    "sample_arr.mean()"
   ]
  },
  {
   "cell_type": "code",
   "execution_count": 46,
   "id": "94253295",
   "metadata": {},
   "outputs": [
    {
     "data": {
      "text/plain": [
       "30.58728330532151"
      ]
     },
     "execution_count": 46,
     "metadata": {},
     "output_type": "execute_result"
    }
   ],
   "source": [
    "sample_arr.std()"
   ]
  },
  {
   "cell_type": "code",
   "execution_count": 47,
   "id": "227a2bb9",
   "metadata": {},
   "outputs": [
    {
     "data": {
      "text/plain": [
       "443"
      ]
     },
     "execution_count": 47,
     "metadata": {},
     "output_type": "execute_result"
    }
   ],
   "source": [
    "# We can specify specific regions of the arr for stats\n",
    "sample_arr[0].sum()"
   ]
  },
  {
   "cell_type": "code",
   "execution_count": 48,
   "id": "b07380da",
   "metadata": {},
   "outputs": [
    {
     "data": {
      "text/plain": [
       "44.3"
      ]
     },
     "execution_count": 48,
     "metadata": {},
     "output_type": "execute_result"
    }
   ],
   "source": [
    "sample_arr[0].mean()"
   ]
  },
  {
   "cell_type": "code",
   "execution_count": 49,
   "id": "c691b92f",
   "metadata": {},
   "outputs": [
    {
     "data": {
      "text/plain": [
       "array([402, 582, 481, 376, 490, 538, 243, 515, 445, 537])"
      ]
     },
     "execution_count": 49,
     "metadata": {},
     "output_type": "execute_result"
    }
   ],
   "source": [
    "# We can also specify it by axis\n",
    "sample_arr.sum(axis=0)"
   ]
  },
  {
   "cell_type": "markdown",
   "id": "0a0fc11e",
   "metadata": {},
   "source": [
    "## Broadcasting and Vectorized Operations"
   ]
  },
  {
   "cell_type": "code",
   "execution_count": 57,
   "id": "3e4a985c",
   "metadata": {},
   "outputs": [
    {
     "data": {
      "text/plain": [
       "array([0, 1, 2, 3, 4, 5, 6, 7, 8, 9])"
      ]
     },
     "execution_count": 57,
     "metadata": {},
     "output_type": "execute_result"
    }
   ],
   "source": [
    "newArr = np.arange(10)\n",
    "newArr"
   ]
  },
  {
   "cell_type": "code",
   "execution_count": 54,
   "id": "71f7e3e7",
   "metadata": {},
   "outputs": [
    {
     "data": {
      "text/plain": [
       "array([10, 11, 12, 13, 14, 15, 16, 17, 18, 19])"
      ]
     },
     "execution_count": 54,
     "metadata": {},
     "output_type": "execute_result"
    }
   ],
   "source": [
    "newArr + 10"
   ]
  },
  {
   "cell_type": "code",
   "execution_count": 58,
   "id": "191990c2",
   "metadata": {},
   "outputs": [
    {
     "data": {
      "text/plain": [
       "array([10, 11, 12, 13, 14, 15, 16, 17, 18, 19])"
      ]
     },
     "execution_count": 58,
     "metadata": {},
     "output_type": "execute_result"
    }
   ],
   "source": [
    "newArr += 10\n",
    "newArr"
   ]
  },
  {
   "cell_type": "code",
   "execution_count": 66,
   "id": "c6794b3f",
   "metadata": {},
   "outputs": [
    {
     "data": {
      "text/plain": [
       "array([-90, -88, -86, -84, -82, -80, -78, -76, -74, -72, -70, -68, -66,\n",
       "       -64, -62, -60, -58, -56, -54, -52, -50, -48, -46, -44, -42, -40,\n",
       "       -38, -36, -34, -32, -30, -28, -26, -24, -22, -20, -18, -16, -14,\n",
       "       -12, -10,  -8,  -6,  -4,  -2,   0,   2,   4,   6,   8,  10,  12,\n",
       "        14,  16,  18,  20,  22,  24,  26,  28,  30,  32,  34,  36,  38,\n",
       "        40,  42,  44,  46,  48,  50,  52,  54,  56,  58,  60,  62,  64,\n",
       "        66,  68,  70,  72,  74,  76,  78,  80,  82,  84,  86,  88,  90])"
      ]
     },
     "execution_count": 66,
     "metadata": {},
     "output_type": "execute_result"
    }
   ],
   "source": [
    "a = np.arange(10, 101)\n",
    "b = np.arange(-100, - 9)\n",
    "a + b"
   ]
  },
  {
   "cell_type": "code",
   "execution_count": null,
   "id": "4ae9158d",
   "metadata": {},
   "outputs": [],
   "source": []
  }
 ],
 "metadata": {
  "kernelspec": {
   "display_name": "Python 3",
   "language": "python",
   "name": "python3"
  },
  "language_info": {
   "codemirror_mode": {
    "name": "ipython",
    "version": 3
   },
   "file_extension": ".py",
   "mimetype": "text/x-python",
   "name": "python",
   "nbconvert_exporter": "python",
   "pygments_lexer": "ipython3",
   "version": "3.8.8"
  }
 },
 "nbformat": 4,
 "nbformat_minor": 5
}
