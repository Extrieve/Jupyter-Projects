{
 "cells": [
  {
   "cell_type": "markdown",
   "metadata": {},
   "source": [
    "# Tutorial 1 - AIRBNB - CORE STEPS\n",
    "\n",
    "**Our unit of analysis is an AIRBNB LISTING**\n",
    "\n",
    "We will see how we can transform the input variables. We won't do any predictions in this notebook!"
   ]
  },
  {
   "cell_type": "markdown",
   "metadata": {},
   "source": [
    "# Setup"
   ]
  },
  {
   "cell_type": "markdown",
   "metadata": {},
   "source": [
    "Hey, this is a comment"
   ]
  },
  {
   "cell_type": "code",
   "execution_count": 1,
   "metadata": {
    "ExecuteTime": {
     "end_time": "2022-02-11T16:26:01.270902Z",
     "start_time": "2022-02-11T16:25:59.839043Z"
    }
   },
   "outputs": [],
   "source": [
    "# Common imports\n",
    "# This is a comment\n",
    "\n",
    "import numpy as np\n",
    "import pandas as pd\n",
    "\n",
    "np.random.seed(42)\n"
   ]
  },
  {
   "cell_type": "markdown",
   "metadata": {},
   "source": [
    "# Get the data"
   ]
  },
  {
   "cell_type": "code",
   "execution_count": 3,
   "metadata": {
    "ExecuteTime": {
     "end_time": "2022-02-11T16:26:58.470282Z",
     "start_time": "2022-02-11T16:26:58.404573Z"
    }
   },
   "outputs": [
    {
     "data": {
      "text/html": [
       "<div>\n",
       "<style scoped>\n",
       "    .dataframe tbody tr th:only-of-type {\n",
       "        vertical-align: middle;\n",
       "    }\n",
       "\n",
       "    .dataframe tbody tr th {\n",
       "        vertical-align: top;\n",
       "    }\n",
       "\n",
       "    .dataframe thead th {\n",
       "        text-align: right;\n",
       "    }\n",
       "</style>\n",
       "<table border=\"1\" class=\"dataframe\">\n",
       "  <thead>\n",
       "    <tr style=\"text-align: right;\">\n",
       "      <th></th>\n",
       "      <th>host_is_superhost</th>\n",
       "      <th>host_identity_verified</th>\n",
       "      <th>neighbourhood_cleansed</th>\n",
       "      <th>latitude</th>\n",
       "      <th>longitude</th>\n",
       "      <th>property_type</th>\n",
       "      <th>room_type</th>\n",
       "      <th>accommodates</th>\n",
       "      <th>bathrooms</th>\n",
       "      <th>bedrooms</th>\n",
       "      <th>...</th>\n",
       "      <th>guests_included</th>\n",
       "      <th>price_per_extra_person</th>\n",
       "      <th>minimum_nights</th>\n",
       "      <th>number_of_reviews</th>\n",
       "      <th>number_days_btw_first_last_review</th>\n",
       "      <th>review_scores_rating</th>\n",
       "      <th>cancellation_policy</th>\n",
       "      <th>price</th>\n",
       "      <th>price_gte_150</th>\n",
       "      <th>price_category</th>\n",
       "    </tr>\n",
       "  </thead>\n",
       "  <tbody>\n",
       "    <tr>\n",
       "      <th>0</th>\n",
       "      <td>0</td>\n",
       "      <td>0</td>\n",
       "      <td>Roslindale</td>\n",
       "      <td>42.282619</td>\n",
       "      <td>-71.133068</td>\n",
       "      <td>House</td>\n",
       "      <td>Entire home/apt</td>\n",
       "      <td>4</td>\n",
       "      <td>1.5</td>\n",
       "      <td>2.0</td>\n",
       "      <td>...</td>\n",
       "      <td>1</td>\n",
       "      <td>0</td>\n",
       "      <td>2</td>\n",
       "      <td>0</td>\n",
       "      <td>0</td>\n",
       "      <td>NaN</td>\n",
       "      <td>moderate</td>\n",
       "      <td>250</td>\n",
       "      <td>1</td>\n",
       "      <td>gte_226</td>\n",
       "    </tr>\n",
       "    <tr>\n",
       "      <th>1</th>\n",
       "      <td>0</td>\n",
       "      <td>1</td>\n",
       "      <td>Roslindale</td>\n",
       "      <td>42.286241</td>\n",
       "      <td>-71.134374</td>\n",
       "      <td>Apartment</td>\n",
       "      <td>Private room</td>\n",
       "      <td>2</td>\n",
       "      <td>1.0</td>\n",
       "      <td>1.0</td>\n",
       "      <td>...</td>\n",
       "      <td>0</td>\n",
       "      <td>0</td>\n",
       "      <td>2</td>\n",
       "      <td>36</td>\n",
       "      <td>804</td>\n",
       "      <td>94.0</td>\n",
       "      <td>moderate</td>\n",
       "      <td>65</td>\n",
       "      <td>0</td>\n",
       "      <td>lte_75</td>\n",
       "    </tr>\n",
       "    <tr>\n",
       "      <th>2</th>\n",
       "      <td>1</td>\n",
       "      <td>1</td>\n",
       "      <td>Roslindale</td>\n",
       "      <td>42.292438</td>\n",
       "      <td>-71.135765</td>\n",
       "      <td>Apartment</td>\n",
       "      <td>Private room</td>\n",
       "      <td>2</td>\n",
       "      <td>1.0</td>\n",
       "      <td>1.0</td>\n",
       "      <td>...</td>\n",
       "      <td>1</td>\n",
       "      <td>20</td>\n",
       "      <td>3</td>\n",
       "      <td>41</td>\n",
       "      <td>2574</td>\n",
       "      <td>98.0</td>\n",
       "      <td>moderate</td>\n",
       "      <td>65</td>\n",
       "      <td>0</td>\n",
       "      <td>lte_75</td>\n",
       "    </tr>\n",
       "    <tr>\n",
       "      <th>3</th>\n",
       "      <td>0</td>\n",
       "      <td>0</td>\n",
       "      <td>Roslindale</td>\n",
       "      <td>42.281106</td>\n",
       "      <td>-71.121021</td>\n",
       "      <td>House</td>\n",
       "      <td>Private room</td>\n",
       "      <td>4</td>\n",
       "      <td>1.0</td>\n",
       "      <td>1.0</td>\n",
       "      <td>...</td>\n",
       "      <td>2</td>\n",
       "      <td>25</td>\n",
       "      <td>1</td>\n",
       "      <td>1</td>\n",
       "      <td>0</td>\n",
       "      <td>100.0</td>\n",
       "      <td>moderate</td>\n",
       "      <td>75</td>\n",
       "      <td>0</td>\n",
       "      <td>lte_75</td>\n",
       "    </tr>\n",
       "    <tr>\n",
       "      <th>4</th>\n",
       "      <td>1</td>\n",
       "      <td>1</td>\n",
       "      <td>Roslindale</td>\n",
       "      <td>42.284512</td>\n",
       "      <td>-71.136258</td>\n",
       "      <td>House</td>\n",
       "      <td>Private room</td>\n",
       "      <td>2</td>\n",
       "      <td>1.5</td>\n",
       "      <td>1.0</td>\n",
       "      <td>...</td>\n",
       "      <td>1</td>\n",
       "      <td>0</td>\n",
       "      <td>2</td>\n",
       "      <td>29</td>\n",
       "      <td>380</td>\n",
       "      <td>99.0</td>\n",
       "      <td>flexible</td>\n",
       "      <td>79</td>\n",
       "      <td>0</td>\n",
       "      <td>btw_75-150</td>\n",
       "    </tr>\n",
       "    <tr>\n",
       "      <th>5</th>\n",
       "      <td>1</td>\n",
       "      <td>1</td>\n",
       "      <td>Roslindale</td>\n",
       "      <td>42.291690</td>\n",
       "      <td>-71.131893</td>\n",
       "      <td>Condominium</td>\n",
       "      <td>Private room</td>\n",
       "      <td>2</td>\n",
       "      <td>1.0</td>\n",
       "      <td>1.0</td>\n",
       "      <td>...</td>\n",
       "      <td>1</td>\n",
       "      <td>0</td>\n",
       "      <td>2</td>\n",
       "      <td>8</td>\n",
       "      <td>130</td>\n",
       "      <td>100.0</td>\n",
       "      <td>flexible</td>\n",
       "      <td>75</td>\n",
       "      <td>0</td>\n",
       "      <td>lte_75</td>\n",
       "    </tr>\n",
       "    <tr>\n",
       "      <th>6</th>\n",
       "      <td>0</td>\n",
       "      <td>1</td>\n",
       "      <td>Roslindale</td>\n",
       "      <td>42.281390</td>\n",
       "      <td>-71.131190</td>\n",
       "      <td>Apartment</td>\n",
       "      <td>Entire home/apt</td>\n",
       "      <td>3</td>\n",
       "      <td>1.0</td>\n",
       "      <td>1.0</td>\n",
       "      <td>...</td>\n",
       "      <td>1</td>\n",
       "      <td>25</td>\n",
       "      <td>1</td>\n",
       "      <td>57</td>\n",
       "      <td>421</td>\n",
       "      <td>90.0</td>\n",
       "      <td>strict</td>\n",
       "      <td>100</td>\n",
       "      <td>0</td>\n",
       "      <td>btw_75-150</td>\n",
       "    </tr>\n",
       "    <tr>\n",
       "      <th>7</th>\n",
       "      <td>1</td>\n",
       "      <td>1</td>\n",
       "      <td>Roslindale</td>\n",
       "      <td>42.281946</td>\n",
       "      <td>-71.141022</td>\n",
       "      <td>House</td>\n",
       "      <td>Private room</td>\n",
       "      <td>2</td>\n",
       "      <td>2.0</td>\n",
       "      <td>1.0</td>\n",
       "      <td>...</td>\n",
       "      <td>1</td>\n",
       "      <td>15</td>\n",
       "      <td>1</td>\n",
       "      <td>67</td>\n",
       "      <td>840</td>\n",
       "      <td>96.0</td>\n",
       "      <td>moderate</td>\n",
       "      <td>75</td>\n",
       "      <td>0</td>\n",
       "      <td>lte_75</td>\n",
       "    </tr>\n",
       "    <tr>\n",
       "      <th>8</th>\n",
       "      <td>1</td>\n",
       "      <td>1</td>\n",
       "      <td>Roslindale</td>\n",
       "      <td>42.285878</td>\n",
       "      <td>-71.124910</td>\n",
       "      <td>Condominium</td>\n",
       "      <td>Private room</td>\n",
       "      <td>2</td>\n",
       "      <td>1.0</td>\n",
       "      <td>1.0</td>\n",
       "      <td>...</td>\n",
       "      <td>2</td>\n",
       "      <td>0</td>\n",
       "      <td>2</td>\n",
       "      <td>65</td>\n",
       "      <td>355</td>\n",
       "      <td>96.0</td>\n",
       "      <td>moderate</td>\n",
       "      <td>58</td>\n",
       "      <td>0</td>\n",
       "      <td>lte_75</td>\n",
       "    </tr>\n",
       "    <tr>\n",
       "      <th>9</th>\n",
       "      <td>1</td>\n",
       "      <td>1</td>\n",
       "      <td>Roslindale</td>\n",
       "      <td>42.288820</td>\n",
       "      <td>-71.139510</td>\n",
       "      <td>Apartment</td>\n",
       "      <td>Entire home/apt</td>\n",
       "      <td>5</td>\n",
       "      <td>1.0</td>\n",
       "      <td>2.0</td>\n",
       "      <td>...</td>\n",
       "      <td>4</td>\n",
       "      <td>25</td>\n",
       "      <td>4</td>\n",
       "      <td>33</td>\n",
       "      <td>876</td>\n",
       "      <td>94.0</td>\n",
       "      <td>strict</td>\n",
       "      <td>229</td>\n",
       "      <td>1</td>\n",
       "      <td>gte_226</td>\n",
       "    </tr>\n",
       "  </tbody>\n",
       "</table>\n",
       "<p>10 rows × 23 columns</p>\n",
       "</div>"
      ],
      "text/plain": [
       "   host_is_superhost  host_identity_verified neighbourhood_cleansed  \\\n",
       "0                  0                       0             Roslindale   \n",
       "1                  0                       1             Roslindale   \n",
       "2                  1                       1             Roslindale   \n",
       "3                  0                       0             Roslindale   \n",
       "4                  1                       1             Roslindale   \n",
       "5                  1                       1             Roslindale   \n",
       "6                  0                       1             Roslindale   \n",
       "7                  1                       1             Roslindale   \n",
       "8                  1                       1             Roslindale   \n",
       "9                  1                       1             Roslindale   \n",
       "\n",
       "    latitude  longitude property_type        room_type  accommodates  \\\n",
       "0  42.282619 -71.133068         House  Entire home/apt             4   \n",
       "1  42.286241 -71.134374     Apartment     Private room             2   \n",
       "2  42.292438 -71.135765     Apartment     Private room             2   \n",
       "3  42.281106 -71.121021         House     Private room             4   \n",
       "4  42.284512 -71.136258         House     Private room             2   \n",
       "5  42.291690 -71.131893   Condominium     Private room             2   \n",
       "6  42.281390 -71.131190     Apartment  Entire home/apt             3   \n",
       "7  42.281946 -71.141022         House     Private room             2   \n",
       "8  42.285878 -71.124910   Condominium     Private room             2   \n",
       "9  42.288820 -71.139510     Apartment  Entire home/apt             5   \n",
       "\n",
       "   bathrooms  bedrooms  ...  guests_included price_per_extra_person  \\\n",
       "0        1.5       2.0  ...                1                      0   \n",
       "1        1.0       1.0  ...                0                      0   \n",
       "2        1.0       1.0  ...                1                     20   \n",
       "3        1.0       1.0  ...                2                     25   \n",
       "4        1.5       1.0  ...                1                      0   \n",
       "5        1.0       1.0  ...                1                      0   \n",
       "6        1.0       1.0  ...                1                     25   \n",
       "7        2.0       1.0  ...                1                     15   \n",
       "8        1.0       1.0  ...                2                      0   \n",
       "9        1.0       2.0  ...                4                     25   \n",
       "\n",
       "   minimum_nights  number_of_reviews  number_days_btw_first_last_review  \\\n",
       "0               2                  0                                  0   \n",
       "1               2                 36                                804   \n",
       "2               3                 41                               2574   \n",
       "3               1                  1                                  0   \n",
       "4               2                 29                                380   \n",
       "5               2                  8                                130   \n",
       "6               1                 57                                421   \n",
       "7               1                 67                                840   \n",
       "8               2                 65                                355   \n",
       "9               4                 33                                876   \n",
       "\n",
       "   review_scores_rating  cancellation_policy  price  price_gte_150  \\\n",
       "0                   NaN             moderate    250              1   \n",
       "1                  94.0             moderate     65              0   \n",
       "2                  98.0             moderate     65              0   \n",
       "3                 100.0             moderate     75              0   \n",
       "4                  99.0             flexible     79              0   \n",
       "5                 100.0             flexible     75              0   \n",
       "6                  90.0               strict    100              0   \n",
       "7                  96.0             moderate     75              0   \n",
       "8                  96.0             moderate     58              0   \n",
       "9                  94.0               strict    229              1   \n",
       "\n",
       "  price_category  \n",
       "0        gte_226  \n",
       "1         lte_75  \n",
       "2         lte_75  \n",
       "3         lte_75  \n",
       "4     btw_75-150  \n",
       "5         lte_75  \n",
       "6     btw_75-150  \n",
       "7         lte_75  \n",
       "8         lte_75  \n",
       "9        gte_226  \n",
       "\n",
       "[10 rows x 23 columns]"
      ]
     },
     "execution_count": 3,
     "metadata": {},
     "output_type": "execute_result"
    }
   ],
   "source": [
    "#We will predict the \"median_house_value\" value in the data set:\n",
    "\n",
    "airbnb = pd.read_csv(\"airbnb.csv\")\n",
    "\n",
    "\n",
    "airbnb.head(10)"
   ]
  },
  {
   "cell_type": "code",
   "execution_count": 4,
   "metadata": {
    "ExecuteTime": {
     "end_time": "2022-02-11T16:32:58.631585Z",
     "start_time": "2022-02-11T16:32:58.616581Z"
    },
    "scrolled": true
   },
   "outputs": [
    {
     "data": {
      "text/plain": [
       "(10272, 23)"
      ]
     },
     "execution_count": 4,
     "metadata": {},
     "output_type": "execute_result"
    }
   ],
   "source": [
    "# Find the total number of rows\n",
    "\n",
    "airbnb.shape"
   ]
  },
  {
   "cell_type": "code",
   "execution_count": 5,
   "metadata": {
    "ExecuteTime": {
     "end_time": "2022-02-11T16:33:01.603246Z",
     "start_time": "2022-02-11T16:33:01.584242Z"
    }
   },
   "outputs": [
    {
     "data": {
      "text/plain": [
       "host_is_superhost                       0\n",
       "host_identity_verified                  0\n",
       "neighbourhood_cleansed                  0\n",
       "latitude                                0\n",
       "longitude                               0\n",
       "property_type                           9\n",
       "room_type                               0\n",
       "accommodates                            0\n",
       "bathrooms                              36\n",
       "bedrooms                               30\n",
       "beds                                   24\n",
       "bed_type                                0\n",
       "Number of amenities                     0\n",
       "guests_included                         0\n",
       "price_per_extra_person                  0\n",
       "minimum_nights                          0\n",
       "number_of_reviews                       0\n",
       "number_days_btw_first_last_review       0\n",
       "review_scores_rating                 2283\n",
       "cancellation_policy                     0\n",
       "price                                   0\n",
       "price_gte_150                           0\n",
       "price_category                          0\n",
       "dtype: int64"
      ]
     },
     "execution_count": 5,
     "metadata": {},
     "output_type": "execute_result"
    }
   ],
   "source": [
    "# Check the missing values\n",
    "\n",
    "airbnb.isna().sum()"
   ]
  },
  {
   "cell_type": "markdown",
   "metadata": {},
   "source": [
    "### Should we remove these rows or not???"
   ]
  },
  {
   "cell_type": "code",
   "execution_count": null,
   "metadata": {},
   "outputs": [],
   "source": [
    "# If we want to remove them, use the following code:\n",
    "\n",
    "# airbnb.dropna(axis=0, inplace=True)"
   ]
  },
  {
   "cell_type": "markdown",
   "metadata": {},
   "source": [
    "# Split data (train/test)"
   ]
  },
  {
   "cell_type": "code",
   "execution_count": 6,
   "metadata": {
    "ExecuteTime": {
     "end_time": "2022-02-11T16:33:07.211571Z",
     "start_time": "2022-02-11T16:33:04.895925Z"
    }
   },
   "outputs": [],
   "source": [
    "from sklearn.model_selection import train_test_split\n",
    "\n",
    "train, test = train_test_split(airbnb, test_size=0.3)"
   ]
  },
  {
   "cell_type": "code",
   "execution_count": 7,
   "metadata": {
    "ExecuteTime": {
     "end_time": "2022-02-11T16:33:07.227576Z",
     "start_time": "2022-02-11T16:33:07.212572Z"
    }
   },
   "outputs": [
    {
     "data": {
      "text/plain": [
       "(7190, 23)"
      ]
     },
     "execution_count": 7,
     "metadata": {},
     "output_type": "execute_result"
    }
   ],
   "source": [
    "train.shape"
   ]
  },
  {
   "cell_type": "code",
   "execution_count": 8,
   "metadata": {
    "ExecuteTime": {
     "end_time": "2022-02-11T16:33:09.380480Z",
     "start_time": "2022-02-11T16:33:09.367477Z"
    }
   },
   "outputs": [
    {
     "data": {
      "text/plain": [
       "(3082, 23)"
      ]
     },
     "execution_count": 8,
     "metadata": {},
     "output_type": "execute_result"
    }
   ],
   "source": [
    "test.shape"
   ]
  },
  {
   "cell_type": "code",
   "execution_count": 9,
   "metadata": {
    "ExecuteTime": {
     "end_time": "2022-02-11T16:33:11.651790Z",
     "start_time": "2022-02-11T16:33:11.623791Z"
    }
   },
   "outputs": [
    {
     "data": {
      "text/html": [
       "<div>\n",
       "<style scoped>\n",
       "    .dataframe tbody tr th:only-of-type {\n",
       "        vertical-align: middle;\n",
       "    }\n",
       "\n",
       "    .dataframe tbody tr th {\n",
       "        vertical-align: top;\n",
       "    }\n",
       "\n",
       "    .dataframe thead th {\n",
       "        text-align: right;\n",
       "    }\n",
       "</style>\n",
       "<table border=\"1\" class=\"dataframe\">\n",
       "  <thead>\n",
       "    <tr style=\"text-align: right;\">\n",
       "      <th></th>\n",
       "      <th>host_is_superhost</th>\n",
       "      <th>host_identity_verified</th>\n",
       "      <th>neighbourhood_cleansed</th>\n",
       "      <th>latitude</th>\n",
       "      <th>longitude</th>\n",
       "      <th>property_type</th>\n",
       "      <th>room_type</th>\n",
       "      <th>accommodates</th>\n",
       "      <th>bathrooms</th>\n",
       "      <th>bedrooms</th>\n",
       "      <th>...</th>\n",
       "      <th>guests_included</th>\n",
       "      <th>price_per_extra_person</th>\n",
       "      <th>minimum_nights</th>\n",
       "      <th>number_of_reviews</th>\n",
       "      <th>number_days_btw_first_last_review</th>\n",
       "      <th>review_scores_rating</th>\n",
       "      <th>cancellation_policy</th>\n",
       "      <th>price</th>\n",
       "      <th>price_gte_150</th>\n",
       "      <th>price_category</th>\n",
       "    </tr>\n",
       "  </thead>\n",
       "  <tbody>\n",
       "    <tr>\n",
       "      <th>3437</th>\n",
       "      <td>0</td>\n",
       "      <td>1</td>\n",
       "      <td>Roslindale</td>\n",
       "      <td>42.287641</td>\n",
       "      <td>-71.129883</td>\n",
       "      <td>Apartment</td>\n",
       "      <td>Entire home/apt</td>\n",
       "      <td>5</td>\n",
       "      <td>1.0</td>\n",
       "      <td>2.0</td>\n",
       "      <td>...</td>\n",
       "      <td>5</td>\n",
       "      <td>30</td>\n",
       "      <td>2</td>\n",
       "      <td>12</td>\n",
       "      <td>68</td>\n",
       "      <td>97.0</td>\n",
       "      <td>moderate</td>\n",
       "      <td>150</td>\n",
       "      <td>1</td>\n",
       "      <td>btw_75-150</td>\n",
       "    </tr>\n",
       "    <tr>\n",
       "      <th>6622</th>\n",
       "      <td>0</td>\n",
       "      <td>0</td>\n",
       "      <td>Allston</td>\n",
       "      <td>42.354976</td>\n",
       "      <td>-71.129493</td>\n",
       "      <td>Apartment</td>\n",
       "      <td>Private room</td>\n",
       "      <td>1</td>\n",
       "      <td>2.0</td>\n",
       "      <td>1.0</td>\n",
       "      <td>...</td>\n",
       "      <td>1</td>\n",
       "      <td>0</td>\n",
       "      <td>17</td>\n",
       "      <td>1</td>\n",
       "      <td>0</td>\n",
       "      <td>100.0</td>\n",
       "      <td>strict</td>\n",
       "      <td>45</td>\n",
       "      <td>0</td>\n",
       "      <td>lte_75</td>\n",
       "    </tr>\n",
       "    <tr>\n",
       "      <th>2262</th>\n",
       "      <td>0</td>\n",
       "      <td>1</td>\n",
       "      <td>Fenway</td>\n",
       "      <td>42.343264</td>\n",
       "      <td>-71.090912</td>\n",
       "      <td>Apartment</td>\n",
       "      <td>Private room</td>\n",
       "      <td>1</td>\n",
       "      <td>1.0</td>\n",
       "      <td>1.0</td>\n",
       "      <td>...</td>\n",
       "      <td>1</td>\n",
       "      <td>30</td>\n",
       "      <td>2</td>\n",
       "      <td>5</td>\n",
       "      <td>310</td>\n",
       "      <td>100.0</td>\n",
       "      <td>flexible</td>\n",
       "      <td>100</td>\n",
       "      <td>0</td>\n",
       "      <td>btw_75-150</td>\n",
       "    </tr>\n",
       "    <tr>\n",
       "      <th>2246</th>\n",
       "      <td>0</td>\n",
       "      <td>1</td>\n",
       "      <td>Fenway</td>\n",
       "      <td>42.340861</td>\n",
       "      <td>-71.088289</td>\n",
       "      <td>Apartment</td>\n",
       "      <td>Entire home/apt</td>\n",
       "      <td>3</td>\n",
       "      <td>1.0</td>\n",
       "      <td>0.0</td>\n",
       "      <td>...</td>\n",
       "      <td>1</td>\n",
       "      <td>0</td>\n",
       "      <td>3</td>\n",
       "      <td>32</td>\n",
       "      <td>474</td>\n",
       "      <td>95.0</td>\n",
       "      <td>strict</td>\n",
       "      <td>142</td>\n",
       "      <td>0</td>\n",
       "      <td>btw_75-150</td>\n",
       "    </tr>\n",
       "    <tr>\n",
       "      <th>835</th>\n",
       "      <td>0</td>\n",
       "      <td>1</td>\n",
       "      <td>Roxbury</td>\n",
       "      <td>42.335659</td>\n",
       "      <td>-71.085204</td>\n",
       "      <td>Apartment</td>\n",
       "      <td>Entire home/apt</td>\n",
       "      <td>6</td>\n",
       "      <td>1.0</td>\n",
       "      <td>3.0</td>\n",
       "      <td>...</td>\n",
       "      <td>3</td>\n",
       "      <td>10</td>\n",
       "      <td>3</td>\n",
       "      <td>3</td>\n",
       "      <td>22</td>\n",
       "      <td>93.0</td>\n",
       "      <td>strict</td>\n",
       "      <td>229</td>\n",
       "      <td>1</td>\n",
       "      <td>gte_226</td>\n",
       "    </tr>\n",
       "  </tbody>\n",
       "</table>\n",
       "<p>5 rows × 23 columns</p>\n",
       "</div>"
      ],
      "text/plain": [
       "      host_is_superhost  host_identity_verified neighbourhood_cleansed  \\\n",
       "3437                  0                       1             Roslindale   \n",
       "6622                  0                       0                Allston   \n",
       "2262                  0                       1                 Fenway   \n",
       "2246                  0                       1                 Fenway   \n",
       "835                   0                       1                Roxbury   \n",
       "\n",
       "       latitude  longitude property_type        room_type  accommodates  \\\n",
       "3437  42.287641 -71.129883     Apartment  Entire home/apt             5   \n",
       "6622  42.354976 -71.129493     Apartment     Private room             1   \n",
       "2262  42.343264 -71.090912     Apartment     Private room             1   \n",
       "2246  42.340861 -71.088289     Apartment  Entire home/apt             3   \n",
       "835   42.335659 -71.085204     Apartment  Entire home/apt             6   \n",
       "\n",
       "      bathrooms  bedrooms  ...  guests_included price_per_extra_person  \\\n",
       "3437        1.0       2.0  ...                5                     30   \n",
       "6622        2.0       1.0  ...                1                      0   \n",
       "2262        1.0       1.0  ...                1                     30   \n",
       "2246        1.0       0.0  ...                1                      0   \n",
       "835         1.0       3.0  ...                3                     10   \n",
       "\n",
       "      minimum_nights  number_of_reviews  number_days_btw_first_last_review  \\\n",
       "3437               2                 12                                 68   \n",
       "6622              17                  1                                  0   \n",
       "2262               2                  5                                310   \n",
       "2246               3                 32                                474   \n",
       "835                3                  3                                 22   \n",
       "\n",
       "      review_scores_rating  cancellation_policy  price  price_gte_150  \\\n",
       "3437                  97.0             moderate    150              1   \n",
       "6622                 100.0               strict     45              0   \n",
       "2262                 100.0             flexible    100              0   \n",
       "2246                  95.0               strict    142              0   \n",
       "835                   93.0               strict    229              1   \n",
       "\n",
       "     price_category  \n",
       "3437     btw_75-150  \n",
       "6622         lte_75  \n",
       "2262     btw_75-150  \n",
       "2246     btw_75-150  \n",
       "835         gte_226  \n",
       "\n",
       "[5 rows x 23 columns]"
      ]
     },
     "execution_count": 9,
     "metadata": {},
     "output_type": "execute_result"
    }
   ],
   "source": [
    "train.head()"
   ]
  },
  {
   "cell_type": "code",
   "execution_count": 10,
   "metadata": {
    "ExecuteTime": {
     "end_time": "2022-02-11T16:33:13.247376Z",
     "start_time": "2022-02-11T16:33:13.232373Z"
    }
   },
   "outputs": [
    {
     "data": {
      "text/html": [
       "<div>\n",
       "<style scoped>\n",
       "    .dataframe tbody tr th:only-of-type {\n",
       "        vertical-align: middle;\n",
       "    }\n",
       "\n",
       "    .dataframe tbody tr th {\n",
       "        vertical-align: top;\n",
       "    }\n",
       "\n",
       "    .dataframe thead th {\n",
       "        text-align: right;\n",
       "    }\n",
       "</style>\n",
       "<table border=\"1\" class=\"dataframe\">\n",
       "  <thead>\n",
       "    <tr style=\"text-align: right;\">\n",
       "      <th></th>\n",
       "      <th>host_is_superhost</th>\n",
       "      <th>host_identity_verified</th>\n",
       "      <th>neighbourhood_cleansed</th>\n",
       "      <th>latitude</th>\n",
       "      <th>longitude</th>\n",
       "      <th>property_type</th>\n",
       "      <th>room_type</th>\n",
       "      <th>accommodates</th>\n",
       "      <th>bathrooms</th>\n",
       "      <th>bedrooms</th>\n",
       "      <th>...</th>\n",
       "      <th>guests_included</th>\n",
       "      <th>price_per_extra_person</th>\n",
       "      <th>minimum_nights</th>\n",
       "      <th>number_of_reviews</th>\n",
       "      <th>number_days_btw_first_last_review</th>\n",
       "      <th>review_scores_rating</th>\n",
       "      <th>cancellation_policy</th>\n",
       "      <th>price</th>\n",
       "      <th>price_gte_150</th>\n",
       "      <th>price_category</th>\n",
       "    </tr>\n",
       "  </thead>\n",
       "  <tbody>\n",
       "    <tr>\n",
       "      <th>8047</th>\n",
       "      <td>0</td>\n",
       "      <td>1</td>\n",
       "      <td>Back Bay</td>\n",
       "      <td>42.355263</td>\n",
       "      <td>-71.072793</td>\n",
       "      <td>Apartment</td>\n",
       "      <td>Entire home/apt</td>\n",
       "      <td>6</td>\n",
       "      <td>2.0</td>\n",
       "      <td>3.0</td>\n",
       "      <td>...</td>\n",
       "      <td>1</td>\n",
       "      <td>0</td>\n",
       "      <td>3</td>\n",
       "      <td>52</td>\n",
       "      <td>2314</td>\n",
       "      <td>88.0</td>\n",
       "      <td>super_strict_30</td>\n",
       "      <td>389</td>\n",
       "      <td>1</td>\n",
       "      <td>gte_226</td>\n",
       "    </tr>\n",
       "    <tr>\n",
       "      <th>7809</th>\n",
       "      <td>0</td>\n",
       "      <td>1</td>\n",
       "      <td>South End</td>\n",
       "      <td>42.343438</td>\n",
       "      <td>-71.076884</td>\n",
       "      <td>Apartment</td>\n",
       "      <td>Entire home/apt</td>\n",
       "      <td>2</td>\n",
       "      <td>1.0</td>\n",
       "      <td>0.0</td>\n",
       "      <td>...</td>\n",
       "      <td>1</td>\n",
       "      <td>0</td>\n",
       "      <td>7</td>\n",
       "      <td>3</td>\n",
       "      <td>239</td>\n",
       "      <td>67.0</td>\n",
       "      <td>strict</td>\n",
       "      <td>150</td>\n",
       "      <td>1</td>\n",
       "      <td>btw_75-150</td>\n",
       "    </tr>\n",
       "    <tr>\n",
       "      <th>3658</th>\n",
       "      <td>0</td>\n",
       "      <td>1</td>\n",
       "      <td>Jamaica Plain</td>\n",
       "      <td>42.289653</td>\n",
       "      <td>-71.114721</td>\n",
       "      <td>House</td>\n",
       "      <td>Private room</td>\n",
       "      <td>3</td>\n",
       "      <td>1.0</td>\n",
       "      <td>1.0</td>\n",
       "      <td>...</td>\n",
       "      <td>1</td>\n",
       "      <td>10</td>\n",
       "      <td>2</td>\n",
       "      <td>145</td>\n",
       "      <td>1641</td>\n",
       "      <td>92.0</td>\n",
       "      <td>moderate</td>\n",
       "      <td>70</td>\n",
       "      <td>0</td>\n",
       "      <td>lte_75</td>\n",
       "    </tr>\n",
       "    <tr>\n",
       "      <th>318</th>\n",
       "      <td>0</td>\n",
       "      <td>1</td>\n",
       "      <td>Jamaica Plain</td>\n",
       "      <td>42.307768</td>\n",
       "      <td>-71.116258</td>\n",
       "      <td>House</td>\n",
       "      <td>Private room</td>\n",
       "      <td>3</td>\n",
       "      <td>1.0</td>\n",
       "      <td>1.0</td>\n",
       "      <td>...</td>\n",
       "      <td>2</td>\n",
       "      <td>25</td>\n",
       "      <td>3</td>\n",
       "      <td>97</td>\n",
       "      <td>885</td>\n",
       "      <td>95.0</td>\n",
       "      <td>moderate</td>\n",
       "      <td>93</td>\n",
       "      <td>0</td>\n",
       "      <td>btw_75-150</td>\n",
       "    </tr>\n",
       "    <tr>\n",
       "      <th>3014</th>\n",
       "      <td>0</td>\n",
       "      <td>0</td>\n",
       "      <td>South Boston</td>\n",
       "      <td>42.336446</td>\n",
       "      <td>-71.040487</td>\n",
       "      <td>House</td>\n",
       "      <td>Private room</td>\n",
       "      <td>2</td>\n",
       "      <td>1.0</td>\n",
       "      <td>1.0</td>\n",
       "      <td>...</td>\n",
       "      <td>1</td>\n",
       "      <td>25</td>\n",
       "      <td>1</td>\n",
       "      <td>8</td>\n",
       "      <td>104</td>\n",
       "      <td>100.0</td>\n",
       "      <td>moderate</td>\n",
       "      <td>99</td>\n",
       "      <td>0</td>\n",
       "      <td>btw_75-150</td>\n",
       "    </tr>\n",
       "  </tbody>\n",
       "</table>\n",
       "<p>5 rows × 23 columns</p>\n",
       "</div>"
      ],
      "text/plain": [
       "      host_is_superhost  host_identity_verified neighbourhood_cleansed  \\\n",
       "8047                  0                       1               Back Bay   \n",
       "7809                  0                       1              South End   \n",
       "3658                  0                       1          Jamaica Plain   \n",
       "318                   0                       1          Jamaica Plain   \n",
       "3014                  0                       0           South Boston   \n",
       "\n",
       "       latitude  longitude property_type        room_type  accommodates  \\\n",
       "8047  42.355263 -71.072793     Apartment  Entire home/apt             6   \n",
       "7809  42.343438 -71.076884     Apartment  Entire home/apt             2   \n",
       "3658  42.289653 -71.114721         House     Private room             3   \n",
       "318   42.307768 -71.116258         House     Private room             3   \n",
       "3014  42.336446 -71.040487         House     Private room             2   \n",
       "\n",
       "      bathrooms  bedrooms  ...  guests_included price_per_extra_person  \\\n",
       "8047        2.0       3.0  ...                1                      0   \n",
       "7809        1.0       0.0  ...                1                      0   \n",
       "3658        1.0       1.0  ...                1                     10   \n",
       "318         1.0       1.0  ...                2                     25   \n",
       "3014        1.0       1.0  ...                1                     25   \n",
       "\n",
       "      minimum_nights  number_of_reviews  number_days_btw_first_last_review  \\\n",
       "8047               3                 52                               2314   \n",
       "7809               7                  3                                239   \n",
       "3658               2                145                               1641   \n",
       "318                3                 97                                885   \n",
       "3014               1                  8                                104   \n",
       "\n",
       "      review_scores_rating  cancellation_policy  price  price_gte_150  \\\n",
       "8047                  88.0      super_strict_30    389              1   \n",
       "7809                  67.0               strict    150              1   \n",
       "3658                  92.0             moderate     70              0   \n",
       "318                   95.0             moderate     93              0   \n",
       "3014                 100.0             moderate     99              0   \n",
       "\n",
       "     price_category  \n",
       "8047        gte_226  \n",
       "7809     btw_75-150  \n",
       "3658         lte_75  \n",
       "318      btw_75-150  \n",
       "3014     btw_75-150  \n",
       "\n",
       "[5 rows x 23 columns]"
      ]
     },
     "execution_count": 10,
     "metadata": {},
     "output_type": "execute_result"
    }
   ],
   "source": [
    "test.head()"
   ]
  },
  {
   "cell_type": "markdown",
   "metadata": {},
   "source": [
    "# Prepare the data"
   ]
  },
  {
   "cell_type": "code",
   "execution_count": 11,
   "metadata": {
    "ExecuteTime": {
     "end_time": "2022-02-11T16:33:15.416800Z",
     "start_time": "2022-02-11T16:33:15.375790Z"
    },
    "scrolled": true
   },
   "outputs": [
    {
     "data": {
      "text/html": [
       "<div>\n",
       "<style scoped>\n",
       "    .dataframe tbody tr th:only-of-type {\n",
       "        vertical-align: middle;\n",
       "    }\n",
       "\n",
       "    .dataframe tbody tr th {\n",
       "        vertical-align: top;\n",
       "    }\n",
       "\n",
       "    .dataframe thead th {\n",
       "        text-align: right;\n",
       "    }\n",
       "</style>\n",
       "<table border=\"1\" class=\"dataframe\">\n",
       "  <thead>\n",
       "    <tr style=\"text-align: right;\">\n",
       "      <th></th>\n",
       "      <th>host_is_superhost</th>\n",
       "      <th>host_identity_verified</th>\n",
       "      <th>latitude</th>\n",
       "      <th>longitude</th>\n",
       "      <th>accommodates</th>\n",
       "      <th>bathrooms</th>\n",
       "      <th>bedrooms</th>\n",
       "      <th>beds</th>\n",
       "      <th>Number of amenities</th>\n",
       "      <th>guests_included</th>\n",
       "      <th>price_per_extra_person</th>\n",
       "      <th>minimum_nights</th>\n",
       "      <th>number_of_reviews</th>\n",
       "      <th>number_days_btw_first_last_review</th>\n",
       "      <th>review_scores_rating</th>\n",
       "      <th>price</th>\n",
       "      <th>price_gte_150</th>\n",
       "    </tr>\n",
       "  </thead>\n",
       "  <tbody>\n",
       "    <tr>\n",
       "      <th>count</th>\n",
       "      <td>7190.000000</td>\n",
       "      <td>7190.000000</td>\n",
       "      <td>7190.000000</td>\n",
       "      <td>7190.000000</td>\n",
       "      <td>7190.000000</td>\n",
       "      <td>7171.000000</td>\n",
       "      <td>7171.000000</td>\n",
       "      <td>7174.000000</td>\n",
       "      <td>7190.000000</td>\n",
       "      <td>7190.000000</td>\n",
       "      <td>7190.000000</td>\n",
       "      <td>7190.000000</td>\n",
       "      <td>7190.000000</td>\n",
       "      <td>7190.000000</td>\n",
       "      <td>5581.000000</td>\n",
       "      <td>7190.000000</td>\n",
       "      <td>7190.000000</td>\n",
       "    </tr>\n",
       "    <tr>\n",
       "      <th>mean</th>\n",
       "      <td>0.109458</td>\n",
       "      <td>0.730737</td>\n",
       "      <td>42.339698</td>\n",
       "      <td>-71.085623</td>\n",
       "      <td>2.963282</td>\n",
       "      <td>1.190211</td>\n",
       "      <td>1.221169</td>\n",
       "      <td>1.561054</td>\n",
       "      <td>14.885257</td>\n",
       "      <td>1.411127</td>\n",
       "      <td>10.878025</td>\n",
       "      <td>3.031154</td>\n",
       "      <td>19.136161</td>\n",
       "      <td>274.028512</td>\n",
       "      <td>91.875291</td>\n",
       "      <td>158.682893</td>\n",
       "      <td>0.490821</td>\n",
       "    </tr>\n",
       "    <tr>\n",
       "      <th>std</th>\n",
       "      <td>0.312234</td>\n",
       "      <td>0.443608</td>\n",
       "      <td>0.024680</td>\n",
       "      <td>0.031656</td>\n",
       "      <td>1.690650</td>\n",
       "      <td>0.427613</td>\n",
       "      <td>0.717506</td>\n",
       "      <td>0.935145</td>\n",
       "      <td>4.810939</td>\n",
       "      <td>1.012971</td>\n",
       "      <td>19.002493</td>\n",
       "      <td>6.592199</td>\n",
       "      <td>35.882092</td>\n",
       "      <td>404.797307</td>\n",
       "      <td>9.614535</td>\n",
       "      <td>90.450492</td>\n",
       "      <td>0.499950</td>\n",
       "    </tr>\n",
       "    <tr>\n",
       "      <th>min</th>\n",
       "      <td>0.000000</td>\n",
       "      <td>0.000000</td>\n",
       "      <td>42.235942</td>\n",
       "      <td>-71.171789</td>\n",
       "      <td>1.000000</td>\n",
       "      <td>0.000000</td>\n",
       "      <td>0.000000</td>\n",
       "      <td>0.000000</td>\n",
       "      <td>0.000000</td>\n",
       "      <td>0.000000</td>\n",
       "      <td>0.000000</td>\n",
       "      <td>1.000000</td>\n",
       "      <td>0.000000</td>\n",
       "      <td>0.000000</td>\n",
       "      <td>20.000000</td>\n",
       "      <td>10.000000</td>\n",
       "      <td>0.000000</td>\n",
       "    </tr>\n",
       "    <tr>\n",
       "      <th>25%</th>\n",
       "      <td>0.000000</td>\n",
       "      <td>0.000000</td>\n",
       "      <td>42.329160</td>\n",
       "      <td>-71.106295</td>\n",
       "      <td>2.000000</td>\n",
       "      <td>1.000000</td>\n",
       "      <td>1.000000</td>\n",
       "      <td>1.000000</td>\n",
       "      <td>12.000000</td>\n",
       "      <td>1.000000</td>\n",
       "      <td>0.000000</td>\n",
       "      <td>1.000000</td>\n",
       "      <td>1.000000</td>\n",
       "      <td>0.000000</td>\n",
       "      <td>89.000000</td>\n",
       "      <td>82.000000</td>\n",
       "      <td>0.000000</td>\n",
       "    </tr>\n",
       "    <tr>\n",
       "      <th>50%</th>\n",
       "      <td>0.000000</td>\n",
       "      <td>1.000000</td>\n",
       "      <td>42.345171</td>\n",
       "      <td>-71.078999</td>\n",
       "      <td>2.000000</td>\n",
       "      <td>1.000000</td>\n",
       "      <td>1.000000</td>\n",
       "      <td>1.000000</td>\n",
       "      <td>15.000000</td>\n",
       "      <td>1.000000</td>\n",
       "      <td>0.000000</td>\n",
       "      <td>2.000000</td>\n",
       "      <td>5.000000</td>\n",
       "      <td>88.000000</td>\n",
       "      <td>95.000000</td>\n",
       "      <td>145.000000</td>\n",
       "      <td>0.000000</td>\n",
       "    </tr>\n",
       "    <tr>\n",
       "      <th>75%</th>\n",
       "      <td>0.000000</td>\n",
       "      <td>1.000000</td>\n",
       "      <td>42.354591</td>\n",
       "      <td>-71.062637</td>\n",
       "      <td>4.000000</td>\n",
       "      <td>1.000000</td>\n",
       "      <td>1.000000</td>\n",
       "      <td>2.000000</td>\n",
       "      <td>18.000000</td>\n",
       "      <td>1.000000</td>\n",
       "      <td>20.000000</td>\n",
       "      <td>3.000000</td>\n",
       "      <td>21.000000</td>\n",
       "      <td>398.000000</td>\n",
       "      <td>98.000000</td>\n",
       "      <td>209.000000</td>\n",
       "      <td>1.000000</td>\n",
       "    </tr>\n",
       "    <tr>\n",
       "      <th>max</th>\n",
       "      <td>1.000000</td>\n",
       "      <td>1.000000</td>\n",
       "      <td>42.389982</td>\n",
       "      <td>-71.000100</td>\n",
       "      <td>16.000000</td>\n",
       "      <td>5.000000</td>\n",
       "      <td>5.000000</td>\n",
       "      <td>16.000000</td>\n",
       "      <td>30.000000</td>\n",
       "      <td>14.000000</td>\n",
       "      <td>200.000000</td>\n",
       "      <td>273.000000</td>\n",
       "      <td>404.000000</td>\n",
       "      <td>2680.000000</td>\n",
       "      <td>100.000000</td>\n",
       "      <td>499.000000</td>\n",
       "      <td>1.000000</td>\n",
       "    </tr>\n",
       "  </tbody>\n",
       "</table>\n",
       "</div>"
      ],
      "text/plain": [
       "       host_is_superhost  host_identity_verified     latitude    longitude  \\\n",
       "count        7190.000000             7190.000000  7190.000000  7190.000000   \n",
       "mean            0.109458                0.730737    42.339698   -71.085623   \n",
       "std             0.312234                0.443608     0.024680     0.031656   \n",
       "min             0.000000                0.000000    42.235942   -71.171789   \n",
       "25%             0.000000                0.000000    42.329160   -71.106295   \n",
       "50%             0.000000                1.000000    42.345171   -71.078999   \n",
       "75%             0.000000                1.000000    42.354591   -71.062637   \n",
       "max             1.000000                1.000000    42.389982   -71.000100   \n",
       "\n",
       "       accommodates    bathrooms     bedrooms         beds  \\\n",
       "count   7190.000000  7171.000000  7171.000000  7174.000000   \n",
       "mean       2.963282     1.190211     1.221169     1.561054   \n",
       "std        1.690650     0.427613     0.717506     0.935145   \n",
       "min        1.000000     0.000000     0.000000     0.000000   \n",
       "25%        2.000000     1.000000     1.000000     1.000000   \n",
       "50%        2.000000     1.000000     1.000000     1.000000   \n",
       "75%        4.000000     1.000000     1.000000     2.000000   \n",
       "max       16.000000     5.000000     5.000000    16.000000   \n",
       "\n",
       "       Number of amenities  guests_included  price_per_extra_person  \\\n",
       "count          7190.000000      7190.000000             7190.000000   \n",
       "mean             14.885257         1.411127               10.878025   \n",
       "std               4.810939         1.012971               19.002493   \n",
       "min               0.000000         0.000000                0.000000   \n",
       "25%              12.000000         1.000000                0.000000   \n",
       "50%              15.000000         1.000000                0.000000   \n",
       "75%              18.000000         1.000000               20.000000   \n",
       "max              30.000000        14.000000              200.000000   \n",
       "\n",
       "       minimum_nights  number_of_reviews  number_days_btw_first_last_review  \\\n",
       "count     7190.000000        7190.000000                        7190.000000   \n",
       "mean         3.031154          19.136161                         274.028512   \n",
       "std          6.592199          35.882092                         404.797307   \n",
       "min          1.000000           0.000000                           0.000000   \n",
       "25%          1.000000           1.000000                           0.000000   \n",
       "50%          2.000000           5.000000                          88.000000   \n",
       "75%          3.000000          21.000000                         398.000000   \n",
       "max        273.000000         404.000000                        2680.000000   \n",
       "\n",
       "       review_scores_rating        price  price_gte_150  \n",
       "count           5581.000000  7190.000000    7190.000000  \n",
       "mean              91.875291   158.682893       0.490821  \n",
       "std                9.614535    90.450492       0.499950  \n",
       "min               20.000000    10.000000       0.000000  \n",
       "25%               89.000000    82.000000       0.000000  \n",
       "50%               95.000000   145.000000       0.000000  \n",
       "75%               98.000000   209.000000       1.000000  \n",
       "max              100.000000   499.000000       1.000000  "
      ]
     },
     "execution_count": 11,
     "metadata": {},
     "output_type": "execute_result"
    }
   ],
   "source": [
    "# Descriptive statistics of numerical variables\n",
    "\n",
    "train.describe()"
   ]
  },
  {
   "cell_type": "code",
   "execution_count": 12,
   "metadata": {
    "ExecuteTime": {
     "end_time": "2022-02-11T16:33:16.361414Z",
     "start_time": "2022-02-11T16:33:16.351410Z"
    }
   },
   "outputs": [
    {
     "data": {
      "text/plain": [
       "host_is_superhost                       0\n",
       "host_identity_verified                  0\n",
       "neighbourhood_cleansed                  0\n",
       "latitude                                0\n",
       "longitude                               0\n",
       "property_type                           8\n",
       "room_type                               0\n",
       "accommodates                            0\n",
       "bathrooms                              19\n",
       "bedrooms                               19\n",
       "beds                                   16\n",
       "bed_type                                0\n",
       "Number of amenities                     0\n",
       "guests_included                         0\n",
       "price_per_extra_person                  0\n",
       "minimum_nights                          0\n",
       "number_of_reviews                       0\n",
       "number_days_btw_first_last_review       0\n",
       "review_scores_rating                 1609\n",
       "cancellation_policy                     0\n",
       "price                                   0\n",
       "price_gte_150                           0\n",
       "price_category                          0\n",
       "dtype: int64"
      ]
     },
     "execution_count": 12,
     "metadata": {},
     "output_type": "execute_result"
    }
   ],
   "source": [
    "# Total missing values in each column\n",
    "\n",
    "train.isna().sum()"
   ]
  },
  {
   "cell_type": "markdown",
   "metadata": {},
   "source": [
    "## Separate the POTENTIAL target columns. Separate numerical and categorical inputs"
   ]
  },
  {
   "cell_type": "code",
   "execution_count": 13,
   "metadata": {
    "ExecuteTime": {
     "end_time": "2022-02-11T16:33:17.975322Z",
     "start_time": "2022-02-11T16:33:17.960318Z"
    }
   },
   "outputs": [
    {
     "data": {
      "text/plain": [
       "host_is_superhost                      int64\n",
       "host_identity_verified                 int64\n",
       "neighbourhood_cleansed                object\n",
       "latitude                             float64\n",
       "longitude                            float64\n",
       "property_type                         object\n",
       "room_type                             object\n",
       "accommodates                           int64\n",
       "bathrooms                            float64\n",
       "bedrooms                             float64\n",
       "beds                                 float64\n",
       "bed_type                              object\n",
       "Number of amenities                    int64\n",
       "guests_included                        int64\n",
       "price_per_extra_person                 int64\n",
       "minimum_nights                         int64\n",
       "number_of_reviews                      int64\n",
       "number_days_btw_first_last_review      int64\n",
       "review_scores_rating                 float64\n",
       "cancellation_policy                   object\n",
       "price                                  int64\n",
       "price_gte_150                          int64\n",
       "price_category                        object\n",
       "dtype: object"
      ]
     },
     "execution_count": 13,
     "metadata": {},
     "output_type": "execute_result"
    }
   ],
   "source": [
    "train.dtypes"
   ]
  },
  {
   "cell_type": "code",
   "execution_count": 14,
   "metadata": {
    "ExecuteTime": {
     "end_time": "2022-02-11T16:33:19.761816Z",
     "start_time": "2022-02-11T16:33:19.744307Z"
    }
   },
   "outputs": [],
   "source": [
    "train_targets = train[['price', 'price_gte_150', 'price_category']]\n",
    "\n",
    "train_numeric_columns = train[['latitude', 'longitude', 'accommodates', \n",
    "                   'bathrooms', 'bedrooms', 'beds', 'Number of amenities', \n",
    "                   'guests_included', 'price_per_extra_person', 'minimum_nights', \n",
    "                   'number_of_reviews', 'number_days_btw_first_last_review', 'review_scores_rating']]\n",
    "\n",
    "train_binary_columns = train[['host_is_superhost', 'host_identity_verified']]\n",
    "\n",
    "train_categorical_columns = train[['neighbourhood_cleansed', 'property_type', 'room_type', 'bed_type', 'cancellation_policy']]"
   ]
  },
  {
   "cell_type": "code",
   "execution_count": 15,
   "metadata": {
    "ExecuteTime": {
     "end_time": "2022-02-11T16:33:20.610674Z",
     "start_time": "2022-02-11T16:33:20.591670Z"
    }
   },
   "outputs": [
    {
     "data": {
      "text/html": [
       "<div>\n",
       "<style scoped>\n",
       "    .dataframe tbody tr th:only-of-type {\n",
       "        vertical-align: middle;\n",
       "    }\n",
       "\n",
       "    .dataframe tbody tr th {\n",
       "        vertical-align: top;\n",
       "    }\n",
       "\n",
       "    .dataframe thead th {\n",
       "        text-align: right;\n",
       "    }\n",
       "</style>\n",
       "<table border=\"1\" class=\"dataframe\">\n",
       "  <thead>\n",
       "    <tr style=\"text-align: right;\">\n",
       "      <th></th>\n",
       "      <th>latitude</th>\n",
       "      <th>longitude</th>\n",
       "      <th>accommodates</th>\n",
       "      <th>bathrooms</th>\n",
       "      <th>bedrooms</th>\n",
       "      <th>beds</th>\n",
       "      <th>Number of amenities</th>\n",
       "      <th>guests_included</th>\n",
       "      <th>price_per_extra_person</th>\n",
       "      <th>minimum_nights</th>\n",
       "      <th>number_of_reviews</th>\n",
       "      <th>number_days_btw_first_last_review</th>\n",
       "      <th>review_scores_rating</th>\n",
       "    </tr>\n",
       "  </thead>\n",
       "  <tbody>\n",
       "    <tr>\n",
       "      <th>3437</th>\n",
       "      <td>42.287641</td>\n",
       "      <td>-71.129883</td>\n",
       "      <td>5</td>\n",
       "      <td>1.0</td>\n",
       "      <td>2.0</td>\n",
       "      <td>3.0</td>\n",
       "      <td>19</td>\n",
       "      <td>5</td>\n",
       "      <td>30</td>\n",
       "      <td>2</td>\n",
       "      <td>12</td>\n",
       "      <td>68</td>\n",
       "      <td>97.0</td>\n",
       "    </tr>\n",
       "    <tr>\n",
       "      <th>6622</th>\n",
       "      <td>42.354976</td>\n",
       "      <td>-71.129493</td>\n",
       "      <td>1</td>\n",
       "      <td>2.0</td>\n",
       "      <td>1.0</td>\n",
       "      <td>1.0</td>\n",
       "      <td>12</td>\n",
       "      <td>1</td>\n",
       "      <td>0</td>\n",
       "      <td>17</td>\n",
       "      <td>1</td>\n",
       "      <td>0</td>\n",
       "      <td>100.0</td>\n",
       "    </tr>\n",
       "    <tr>\n",
       "      <th>2262</th>\n",
       "      <td>42.343264</td>\n",
       "      <td>-71.090912</td>\n",
       "      <td>1</td>\n",
       "      <td>1.0</td>\n",
       "      <td>1.0</td>\n",
       "      <td>1.0</td>\n",
       "      <td>14</td>\n",
       "      <td>1</td>\n",
       "      <td>30</td>\n",
       "      <td>2</td>\n",
       "      <td>5</td>\n",
       "      <td>310</td>\n",
       "      <td>100.0</td>\n",
       "    </tr>\n",
       "    <tr>\n",
       "      <th>2246</th>\n",
       "      <td>42.340861</td>\n",
       "      <td>-71.088289</td>\n",
       "      <td>3</td>\n",
       "      <td>1.0</td>\n",
       "      <td>0.0</td>\n",
       "      <td>1.0</td>\n",
       "      <td>14</td>\n",
       "      <td>1</td>\n",
       "      <td>0</td>\n",
       "      <td>3</td>\n",
       "      <td>32</td>\n",
       "      <td>474</td>\n",
       "      <td>95.0</td>\n",
       "    </tr>\n",
       "    <tr>\n",
       "      <th>835</th>\n",
       "      <td>42.335659</td>\n",
       "      <td>-71.085204</td>\n",
       "      <td>6</td>\n",
       "      <td>1.0</td>\n",
       "      <td>3.0</td>\n",
       "      <td>3.0</td>\n",
       "      <td>8</td>\n",
       "      <td>3</td>\n",
       "      <td>10</td>\n",
       "      <td>3</td>\n",
       "      <td>3</td>\n",
       "      <td>22</td>\n",
       "      <td>93.0</td>\n",
       "    </tr>\n",
       "  </tbody>\n",
       "</table>\n",
       "</div>"
      ],
      "text/plain": [
       "       latitude  longitude  accommodates  bathrooms  bedrooms  beds  \\\n",
       "3437  42.287641 -71.129883             5        1.0       2.0   3.0   \n",
       "6622  42.354976 -71.129493             1        2.0       1.0   1.0   \n",
       "2262  42.343264 -71.090912             1        1.0       1.0   1.0   \n",
       "2246  42.340861 -71.088289             3        1.0       0.0   1.0   \n",
       "835   42.335659 -71.085204             6        1.0       3.0   3.0   \n",
       "\n",
       "      Number of amenities  guests_included  price_per_extra_person  \\\n",
       "3437                   19                5                      30   \n",
       "6622                   12                1                       0   \n",
       "2262                   14                1                      30   \n",
       "2246                   14                1                       0   \n",
       "835                     8                3                      10   \n",
       "\n",
       "      minimum_nights  number_of_reviews  number_days_btw_first_last_review  \\\n",
       "3437               2                 12                                 68   \n",
       "6622              17                  1                                  0   \n",
       "2262               2                  5                                310   \n",
       "2246               3                 32                                474   \n",
       "835                3                  3                                 22   \n",
       "\n",
       "      review_scores_rating  \n",
       "3437                  97.0  \n",
       "6622                 100.0  \n",
       "2262                 100.0  \n",
       "2246                  95.0  \n",
       "835                   93.0  "
      ]
     },
     "execution_count": 15,
     "metadata": {},
     "output_type": "execute_result"
    }
   ],
   "source": [
    "train_numeric_columns.head()"
   ]
  },
  {
   "cell_type": "code",
   "execution_count": 16,
   "metadata": {
    "ExecuteTime": {
     "end_time": "2022-02-11T16:33:22.371091Z",
     "start_time": "2022-02-11T16:33:22.360089Z"
    }
   },
   "outputs": [
    {
     "data": {
      "text/html": [
       "<div>\n",
       "<style scoped>\n",
       "    .dataframe tbody tr th:only-of-type {\n",
       "        vertical-align: middle;\n",
       "    }\n",
       "\n",
       "    .dataframe tbody tr th {\n",
       "        vertical-align: top;\n",
       "    }\n",
       "\n",
       "    .dataframe thead th {\n",
       "        text-align: right;\n",
       "    }\n",
       "</style>\n",
       "<table border=\"1\" class=\"dataframe\">\n",
       "  <thead>\n",
       "    <tr style=\"text-align: right;\">\n",
       "      <th></th>\n",
       "      <th>host_is_superhost</th>\n",
       "      <th>host_identity_verified</th>\n",
       "    </tr>\n",
       "  </thead>\n",
       "  <tbody>\n",
       "    <tr>\n",
       "      <th>3437</th>\n",
       "      <td>0</td>\n",
       "      <td>1</td>\n",
       "    </tr>\n",
       "    <tr>\n",
       "      <th>6622</th>\n",
       "      <td>0</td>\n",
       "      <td>0</td>\n",
       "    </tr>\n",
       "    <tr>\n",
       "      <th>2262</th>\n",
       "      <td>0</td>\n",
       "      <td>1</td>\n",
       "    </tr>\n",
       "    <tr>\n",
       "      <th>2246</th>\n",
       "      <td>0</td>\n",
       "      <td>1</td>\n",
       "    </tr>\n",
       "    <tr>\n",
       "      <th>835</th>\n",
       "      <td>0</td>\n",
       "      <td>1</td>\n",
       "    </tr>\n",
       "  </tbody>\n",
       "</table>\n",
       "</div>"
      ],
      "text/plain": [
       "      host_is_superhost  host_identity_verified\n",
       "3437                  0                       1\n",
       "6622                  0                       0\n",
       "2262                  0                       1\n",
       "2246                  0                       1\n",
       "835                   0                       1"
      ]
     },
     "execution_count": 16,
     "metadata": {},
     "output_type": "execute_result"
    }
   ],
   "source": [
    "train_binary_columns.head()"
   ]
  },
  {
   "cell_type": "code",
   "execution_count": 17,
   "metadata": {
    "ExecuteTime": {
     "end_time": "2022-02-11T16:33:23.291967Z",
     "start_time": "2022-02-11T16:33:23.279965Z"
    }
   },
   "outputs": [
    {
     "data": {
      "text/html": [
       "<div>\n",
       "<style scoped>\n",
       "    .dataframe tbody tr th:only-of-type {\n",
       "        vertical-align: middle;\n",
       "    }\n",
       "\n",
       "    .dataframe tbody tr th {\n",
       "        vertical-align: top;\n",
       "    }\n",
       "\n",
       "    .dataframe thead th {\n",
       "        text-align: right;\n",
       "    }\n",
       "</style>\n",
       "<table border=\"1\" class=\"dataframe\">\n",
       "  <thead>\n",
       "    <tr style=\"text-align: right;\">\n",
       "      <th></th>\n",
       "      <th>neighbourhood_cleansed</th>\n",
       "      <th>property_type</th>\n",
       "      <th>room_type</th>\n",
       "      <th>bed_type</th>\n",
       "      <th>cancellation_policy</th>\n",
       "    </tr>\n",
       "  </thead>\n",
       "  <tbody>\n",
       "    <tr>\n",
       "      <th>3437</th>\n",
       "      <td>Roslindale</td>\n",
       "      <td>Apartment</td>\n",
       "      <td>Entire home/apt</td>\n",
       "      <td>Real Bed</td>\n",
       "      <td>moderate</td>\n",
       "    </tr>\n",
       "    <tr>\n",
       "      <th>6622</th>\n",
       "      <td>Allston</td>\n",
       "      <td>Apartment</td>\n",
       "      <td>Private room</td>\n",
       "      <td>Real Bed</td>\n",
       "      <td>strict</td>\n",
       "    </tr>\n",
       "    <tr>\n",
       "      <th>2262</th>\n",
       "      <td>Fenway</td>\n",
       "      <td>Apartment</td>\n",
       "      <td>Private room</td>\n",
       "      <td>Real Bed</td>\n",
       "      <td>flexible</td>\n",
       "    </tr>\n",
       "    <tr>\n",
       "      <th>2246</th>\n",
       "      <td>Fenway</td>\n",
       "      <td>Apartment</td>\n",
       "      <td>Entire home/apt</td>\n",
       "      <td>Real Bed</td>\n",
       "      <td>strict</td>\n",
       "    </tr>\n",
       "    <tr>\n",
       "      <th>835</th>\n",
       "      <td>Roxbury</td>\n",
       "      <td>Apartment</td>\n",
       "      <td>Entire home/apt</td>\n",
       "      <td>Real Bed</td>\n",
       "      <td>strict</td>\n",
       "    </tr>\n",
       "  </tbody>\n",
       "</table>\n",
       "</div>"
      ],
      "text/plain": [
       "     neighbourhood_cleansed property_type        room_type  bed_type  \\\n",
       "3437             Roslindale     Apartment  Entire home/apt  Real Bed   \n",
       "6622                Allston     Apartment     Private room  Real Bed   \n",
       "2262                 Fenway     Apartment     Private room  Real Bed   \n",
       "2246                 Fenway     Apartment  Entire home/apt  Real Bed   \n",
       "835                 Roxbury     Apartment  Entire home/apt  Real Bed   \n",
       "\n",
       "     cancellation_policy  \n",
       "3437            moderate  \n",
       "6622              strict  \n",
       "2262            flexible  \n",
       "2246              strict  \n",
       "835               strict  "
      ]
     },
     "execution_count": 17,
     "metadata": {},
     "output_type": "execute_result"
    }
   ],
   "source": [
    "train_categorical_columns.head()"
   ]
  },
  {
   "cell_type": "markdown",
   "metadata": {},
   "source": [
    "## Process the numerical variables"
   ]
  },
  {
   "cell_type": "markdown",
   "metadata": {},
   "source": [
    "### Imputation "
   ]
  },
  {
   "cell_type": "code",
   "execution_count": 18,
   "metadata": {
    "ExecuteTime": {
     "end_time": "2022-02-11T16:33:25.626541Z",
     "start_time": "2022-02-11T16:33:25.319631Z"
    }
   },
   "outputs": [],
   "source": [
    "from sklearn.impute import SimpleImputer\n",
    "\n",
    "imputer = SimpleImputer(strategy=\"mean\")"
   ]
  },
  {
   "cell_type": "code",
   "execution_count": 19,
   "metadata": {
    "ExecuteTime": {
     "end_time": "2022-02-11T16:33:26.685007Z",
     "start_time": "2022-02-11T16:33:26.672004Z"
    }
   },
   "outputs": [],
   "source": [
    "train_numeric_columns_imputed = imputer.fit_transform(train_numeric_columns)"
   ]
  },
  {
   "cell_type": "code",
   "execution_count": 20,
   "metadata": {
    "ExecuteTime": {
     "end_time": "2022-02-11T16:33:27.567243Z",
     "start_time": "2022-02-11T16:33:27.552047Z"
    },
    "scrolled": true
   },
   "outputs": [
    {
     "data": {
      "text/plain": [
       "array([[ 42.28764103, -71.12988287,   5.        , ...,  12.        ,\n",
       "         68.        ,  97.        ],\n",
       "       [ 42.35497619, -71.12949326,   1.        , ...,   1.        ,\n",
       "          0.        , 100.        ],\n",
       "       [ 42.34326408, -71.09091151,   1.        , ...,   5.        ,\n",
       "        310.        , 100.        ],\n",
       "       ...,\n",
       "       [ 42.35994471, -71.06206012,   2.        , ...,   4.        ,\n",
       "        238.        , 100.        ],\n",
       "       [ 42.31680579, -71.07352707,   2.        , ...,   3.        ,\n",
       "         34.        ,  87.        ],\n",
       "       [ 42.33128999, -71.1026941 ,   1.        , ...,   0.        ,\n",
       "          0.        ,  91.87529117]])"
      ]
     },
     "execution_count": 20,
     "metadata": {},
     "output_type": "execute_result"
    }
   ],
   "source": [
    "train_numeric_columns_imputed"
   ]
  },
  {
   "cell_type": "markdown",
   "metadata": {},
   "source": [
    "### Standardize the values\n"
   ]
  },
  {
   "cell_type": "code",
   "execution_count": 21,
   "metadata": {
    "ExecuteTime": {
     "end_time": "2022-02-11T16:33:31.063610Z",
     "start_time": "2022-02-11T16:33:31.047614Z"
    }
   },
   "outputs": [
    {
     "data": {
      "text/plain": [
       "array([[-2.10940159e+00, -1.39824237e+00,  1.20477863e+00, ...,\n",
       "        -1.98891907e-01, -5.09002499e-01,  6.05045807e-01],\n",
       "       [ 6.19067826e-01, -1.38593382e+00, -1.16133947e+00, ...,\n",
       "        -5.05472836e-01, -6.76999489e-01,  9.59239085e-01],\n",
       "       [ 1.44484652e-01, -1.67059694e-01, -1.16133947e+00, ...,\n",
       "        -3.93988861e-01,  8.88691434e-02,  9.59239085e-01],\n",
       "       ...,\n",
       "       [ 8.20395853e-01,  7.44413029e-01, -5.69809944e-01, ...,\n",
       "        -4.21859855e-01, -8.90100228e-02,  9.59239085e-01],\n",
       "       [-9.27624408e-01,  3.82149299e-01, -5.69809944e-01, ...,\n",
       "        -4.49730849e-01, -5.93000994e-01, -5.75598453e-01],\n",
       "       [-3.40714141e-01, -5.39295119e-01, -1.16133947e+00, ...,\n",
       "        -5.33343829e-01, -6.76999489e-01,  1.67779641e-15]])"
      ]
     },
     "execution_count": 21,
     "metadata": {},
     "output_type": "execute_result"
    }
   ],
   "source": [
    "from sklearn.preprocessing import StandardScaler\n",
    "\n",
    "scaler = StandardScaler()\n",
    "\n",
    "train_numeric_columns_std = scaler.fit_transform(train_numeric_columns_imputed)\n",
    "\n",
    "train_numeric_columns_std"
   ]
  },
  {
   "cell_type": "markdown",
   "metadata": {},
   "source": [
    "### Convert back to Pandas"
   ]
  },
  {
   "cell_type": "code",
   "execution_count": 22,
   "metadata": {
    "ExecuteTime": {
     "end_time": "2022-02-11T16:33:33.235091Z",
     "start_time": "2022-02-11T16:33:33.215087Z"
    }
   },
   "outputs": [
    {
     "data": {
      "text/html": [
       "<div>\n",
       "<style scoped>\n",
       "    .dataframe tbody tr th:only-of-type {\n",
       "        vertical-align: middle;\n",
       "    }\n",
       "\n",
       "    .dataframe tbody tr th {\n",
       "        vertical-align: top;\n",
       "    }\n",
       "\n",
       "    .dataframe thead th {\n",
       "        text-align: right;\n",
       "    }\n",
       "</style>\n",
       "<table border=\"1\" class=\"dataframe\">\n",
       "  <thead>\n",
       "    <tr style=\"text-align: right;\">\n",
       "      <th></th>\n",
       "      <th>latitude</th>\n",
       "      <th>longitude</th>\n",
       "      <th>accommodates</th>\n",
       "      <th>bathrooms</th>\n",
       "      <th>bedrooms</th>\n",
       "      <th>beds</th>\n",
       "      <th>Number of amenities</th>\n",
       "      <th>guests_included</th>\n",
       "      <th>price_per_extra_person</th>\n",
       "      <th>minimum_nights</th>\n",
       "      <th>number_of_reviews</th>\n",
       "      <th>number_days_btw_first_last_review</th>\n",
       "      <th>review_scores_rating</th>\n",
       "    </tr>\n",
       "  </thead>\n",
       "  <tbody>\n",
       "    <tr>\n",
       "      <th>0</th>\n",
       "      <td>-2.109402</td>\n",
       "      <td>-1.398242</td>\n",
       "      <td>1.204779</td>\n",
       "      <td>-0.445440</td>\n",
       "      <td>1.086982</td>\n",
       "      <td>1.540564</td>\n",
       "      <td>0.855348</td>\n",
       "      <td>3.543164</td>\n",
       "      <td>1.006358</td>\n",
       "      <td>-0.156431</td>\n",
       "      <td>-0.198892</td>\n",
       "      <td>-0.509002</td>\n",
       "      <td>0.605046</td>\n",
       "    </tr>\n",
       "    <tr>\n",
       "      <th>1</th>\n",
       "      <td>0.619068</td>\n",
       "      <td>-1.385934</td>\n",
       "      <td>-1.161339</td>\n",
       "      <td>1.896385</td>\n",
       "      <td>-0.308676</td>\n",
       "      <td>-0.600675</td>\n",
       "      <td>-0.599770</td>\n",
       "      <td>-0.405890</td>\n",
       "      <td>-0.572492</td>\n",
       "      <td>2.119144</td>\n",
       "      <td>-0.505473</td>\n",
       "      <td>-0.676999</td>\n",
       "      <td>0.959239</td>\n",
       "    </tr>\n",
       "    <tr>\n",
       "      <th>2</th>\n",
       "      <td>0.144485</td>\n",
       "      <td>-0.167060</td>\n",
       "      <td>-1.161339</td>\n",
       "      <td>-0.445440</td>\n",
       "      <td>-0.308676</td>\n",
       "      <td>-0.600675</td>\n",
       "      <td>-0.184022</td>\n",
       "      <td>-0.405890</td>\n",
       "      <td>1.006358</td>\n",
       "      <td>-0.156431</td>\n",
       "      <td>-0.393989</td>\n",
       "      <td>0.088869</td>\n",
       "      <td>0.959239</td>\n",
       "    </tr>\n",
       "    <tr>\n",
       "      <th>3</th>\n",
       "      <td>0.047111</td>\n",
       "      <td>-0.084198</td>\n",
       "      <td>0.021720</td>\n",
       "      <td>-0.445440</td>\n",
       "      <td>-1.704334</td>\n",
       "      <td>-0.600675</td>\n",
       "      <td>-0.184022</td>\n",
       "      <td>-0.405890</td>\n",
       "      <td>-0.572492</td>\n",
       "      <td>-0.004726</td>\n",
       "      <td>0.358528</td>\n",
       "      <td>0.494038</td>\n",
       "      <td>0.368917</td>\n",
       "    </tr>\n",
       "    <tr>\n",
       "      <th>4</th>\n",
       "      <td>-0.163661</td>\n",
       "      <td>0.013258</td>\n",
       "      <td>1.796308</td>\n",
       "      <td>-0.445440</td>\n",
       "      <td>2.482641</td>\n",
       "      <td>1.540564</td>\n",
       "      <td>-1.431267</td>\n",
       "      <td>1.568637</td>\n",
       "      <td>-0.046209</td>\n",
       "      <td>-0.004726</td>\n",
       "      <td>-0.449731</td>\n",
       "      <td>-0.622648</td>\n",
       "      <td>0.132788</td>\n",
       "    </tr>\n",
       "  </tbody>\n",
       "</table>\n",
       "</div>"
      ],
      "text/plain": [
       "   latitude  longitude  accommodates  bathrooms  bedrooms      beds  \\\n",
       "0 -2.109402  -1.398242      1.204779  -0.445440  1.086982  1.540564   \n",
       "1  0.619068  -1.385934     -1.161339   1.896385 -0.308676 -0.600675   \n",
       "2  0.144485  -0.167060     -1.161339  -0.445440 -0.308676 -0.600675   \n",
       "3  0.047111  -0.084198      0.021720  -0.445440 -1.704334 -0.600675   \n",
       "4 -0.163661   0.013258      1.796308  -0.445440  2.482641  1.540564   \n",
       "\n",
       "   Number of amenities  guests_included  price_per_extra_person  \\\n",
       "0             0.855348         3.543164                1.006358   \n",
       "1            -0.599770        -0.405890               -0.572492   \n",
       "2            -0.184022        -0.405890                1.006358   \n",
       "3            -0.184022        -0.405890               -0.572492   \n",
       "4            -1.431267         1.568637               -0.046209   \n",
       "\n",
       "   minimum_nights  number_of_reviews  number_days_btw_first_last_review  \\\n",
       "0       -0.156431          -0.198892                          -0.509002   \n",
       "1        2.119144          -0.505473                          -0.676999   \n",
       "2       -0.156431          -0.393989                           0.088869   \n",
       "3       -0.004726           0.358528                           0.494038   \n",
       "4       -0.004726          -0.449731                          -0.622648   \n",
       "\n",
       "   review_scores_rating  \n",
       "0              0.605046  \n",
       "1              0.959239  \n",
       "2              0.959239  \n",
       "3              0.368917  \n",
       "4              0.132788  "
      ]
     },
     "execution_count": 22,
     "metadata": {},
     "output_type": "execute_result"
    }
   ],
   "source": [
    "train_numeric_columns_std_df = pd.DataFrame(train_numeric_columns_std, \n",
    "                                      columns=train_numeric_columns.columns).reset_index(drop=True)\n",
    "\n",
    "train_numeric_columns_std_df.head()"
   ]
  },
  {
   "cell_type": "code",
   "execution_count": 23,
   "metadata": {
    "ExecuteTime": {
     "end_time": "2022-02-11T16:33:35.520020Z",
     "start_time": "2022-02-11T16:33:35.503016Z"
    },
    "scrolled": true
   },
   "outputs": [
    {
     "data": {
      "text/plain": [
       "(7190, 13)"
      ]
     },
     "execution_count": 23,
     "metadata": {},
     "output_type": "execute_result"
    }
   ],
   "source": [
    "train_numeric_columns_std_df.shape"
   ]
  },
  {
   "cell_type": "markdown",
   "metadata": {},
   "source": [
    "## Process the categorical variables"
   ]
  },
  {
   "cell_type": "code",
   "execution_count": 24,
   "metadata": {
    "ExecuteTime": {
     "end_time": "2022-02-11T16:33:40.454076Z",
     "start_time": "2022-02-11T16:33:40.447074Z"
    }
   },
   "outputs": [
    {
     "data": {
      "text/plain": [
       "neighbourhood_cleansed    0\n",
       "property_type             8\n",
       "room_type                 0\n",
       "bed_type                  0\n",
       "cancellation_policy       0\n",
       "dtype: int64"
      ]
     },
     "execution_count": 24,
     "metadata": {},
     "output_type": "execute_result"
    }
   ],
   "source": [
    "#Find the total number of missing values\n",
    "train_categorical_columns.isna().sum()"
   ]
  },
  {
   "cell_type": "code",
   "execution_count": 25,
   "metadata": {
    "ExecuteTime": {
     "end_time": "2022-02-11T16:33:44.369117Z",
     "start_time": "2022-02-11T16:33:44.352113Z"
    }
   },
   "outputs": [
    {
     "data": {
      "text/plain": [
       "Apartment       5344\n",
       "House           1168\n",
       "Condominium      456\n",
       "Townhouse        108\n",
       "Loft              83\n",
       "Entire Floor      10\n",
       "Villa             10\n",
       "Guesthouse         3\n",
       "Name: property_type, dtype: int64"
      ]
     },
     "execution_count": 25,
     "metadata": {},
     "output_type": "execute_result"
    }
   ],
   "source": [
    "train_categorical_columns['property_type'].value_counts()"
   ]
  },
  {
   "cell_type": "code",
   "execution_count": 26,
   "metadata": {
    "ExecuteTime": {
     "end_time": "2022-02-11T16:33:45.261332Z",
     "start_time": "2022-02-11T16:33:45.247329Z"
    }
   },
   "outputs": [
    {
     "data": {
      "text/html": [
       "<div>\n",
       "<style scoped>\n",
       "    .dataframe tbody tr th:only-of-type {\n",
       "        vertical-align: middle;\n",
       "    }\n",
       "\n",
       "    .dataframe tbody tr th {\n",
       "        vertical-align: top;\n",
       "    }\n",
       "\n",
       "    .dataframe thead th {\n",
       "        text-align: right;\n",
       "    }\n",
       "</style>\n",
       "<table border=\"1\" class=\"dataframe\">\n",
       "  <thead>\n",
       "    <tr style=\"text-align: right;\">\n",
       "      <th></th>\n",
       "      <th>neighbourhood_cleansed</th>\n",
       "      <th>property_type</th>\n",
       "      <th>room_type</th>\n",
       "      <th>bed_type</th>\n",
       "      <th>cancellation_policy</th>\n",
       "    </tr>\n",
       "  </thead>\n",
       "  <tbody>\n",
       "    <tr>\n",
       "      <th>6658</th>\n",
       "      <td>Allston</td>\n",
       "      <td>NaN</td>\n",
       "      <td>Private room</td>\n",
       "      <td>Real Bed</td>\n",
       "      <td>moderate</td>\n",
       "    </tr>\n",
       "    <tr>\n",
       "      <th>8809</th>\n",
       "      <td>Downtown</td>\n",
       "      <td>NaN</td>\n",
       "      <td>Entire home/apt</td>\n",
       "      <td>Real Bed</td>\n",
       "      <td>strict</td>\n",
       "    </tr>\n",
       "    <tr>\n",
       "      <th>8108</th>\n",
       "      <td>Back Bay</td>\n",
       "      <td>NaN</td>\n",
       "      <td>Entire home/apt</td>\n",
       "      <td>Real Bed</td>\n",
       "      <td>strict</td>\n",
       "    </tr>\n",
       "    <tr>\n",
       "      <th>1260</th>\n",
       "      <td>Back Bay</td>\n",
       "      <td>NaN</td>\n",
       "      <td>Entire home/apt</td>\n",
       "      <td>Real Bed</td>\n",
       "      <td>strict</td>\n",
       "    </tr>\n",
       "    <tr>\n",
       "      <th>1961</th>\n",
       "      <td>Downtown</td>\n",
       "      <td>NaN</td>\n",
       "      <td>Entire home/apt</td>\n",
       "      <td>Real Bed</td>\n",
       "      <td>strict</td>\n",
       "    </tr>\n",
       "    <tr>\n",
       "      <th>10082</th>\n",
       "      <td>Allston</td>\n",
       "      <td>NaN</td>\n",
       "      <td>Private room</td>\n",
       "      <td>Real Bed</td>\n",
       "      <td>moderate</td>\n",
       "    </tr>\n",
       "    <tr>\n",
       "      <th>3234</th>\n",
       "      <td>Allston</td>\n",
       "      <td>NaN</td>\n",
       "      <td>Private room</td>\n",
       "      <td>Real Bed</td>\n",
       "      <td>moderate</td>\n",
       "    </tr>\n",
       "    <tr>\n",
       "      <th>5385</th>\n",
       "      <td>Downtown</td>\n",
       "      <td>NaN</td>\n",
       "      <td>Entire home/apt</td>\n",
       "      <td>Real Bed</td>\n",
       "      <td>strict</td>\n",
       "    </tr>\n",
       "  </tbody>\n",
       "</table>\n",
       "</div>"
      ],
      "text/plain": [
       "      neighbourhood_cleansed property_type        room_type  bed_type  \\\n",
       "6658                 Allston           NaN     Private room  Real Bed   \n",
       "8809                Downtown           NaN  Entire home/apt  Real Bed   \n",
       "8108                Back Bay           NaN  Entire home/apt  Real Bed   \n",
       "1260                Back Bay           NaN  Entire home/apt  Real Bed   \n",
       "1961                Downtown           NaN  Entire home/apt  Real Bed   \n",
       "10082                Allston           NaN     Private room  Real Bed   \n",
       "3234                 Allston           NaN     Private room  Real Bed   \n",
       "5385                Downtown           NaN  Entire home/apt  Real Bed   \n",
       "\n",
       "      cancellation_policy  \n",
       "6658             moderate  \n",
       "8809               strict  \n",
       "8108               strict  \n",
       "1260               strict  \n",
       "1961               strict  \n",
       "10082            moderate  \n",
       "3234             moderate  \n",
       "5385               strict  "
      ]
     },
     "execution_count": 26,
     "metadata": {},
     "output_type": "execute_result"
    }
   ],
   "source": [
    "#Find the rows that have missing values\n",
    "train_categorical_columns[train_categorical_columns.isnull().any(axis=1)]"
   ]
  },
  {
   "cell_type": "code",
   "execution_count": 27,
   "metadata": {
    "ExecuteTime": {
     "end_time": "2022-02-11T16:33:46.324301Z",
     "start_time": "2022-02-11T16:33:46.311298Z"
    }
   },
   "outputs": [],
   "source": [
    "#Impute \"unknown\" or for categorical text values\n",
    "\n",
    "categorical_imputer = SimpleImputer(strategy=\"constant\", fill_value='UNKNOWN')\n",
    "\n",
    "train_categorical_columns_imputed = categorical_imputer.fit_transform(train_categorical_columns)"
   ]
  },
  {
   "cell_type": "code",
   "execution_count": 28,
   "metadata": {
    "ExecuteTime": {
     "end_time": "2022-02-11T16:33:46.984798Z",
     "start_time": "2022-02-11T16:33:46.966794Z"
    }
   },
   "outputs": [
    {
     "data": {
      "text/plain": [
       "array([['Roslindale', 'Apartment', 'Entire home/apt', 'Real Bed',\n",
       "        'moderate'],\n",
       "       ['Allston', 'Apartment', 'Private room', 'Real Bed', 'strict'],\n",
       "       ['Fenway', 'Apartment', 'Private room', 'Real Bed', 'flexible'],\n",
       "       ...,\n",
       "       ['Downtown', 'Apartment', 'Entire home/apt', 'Real Bed',\n",
       "        'moderate'],\n",
       "       ['Roxbury', 'House', 'Private room', 'Real Bed', 'flexible'],\n",
       "       ['Mission Hill', 'Apartment', 'Entire home/apt', 'Real Bed',\n",
       "        'flexible']], dtype=object)"
      ]
     },
     "execution_count": 28,
     "metadata": {},
     "output_type": "execute_result"
    }
   ],
   "source": [
    "train_categorical_columns_imputed"
   ]
  },
  {
   "cell_type": "markdown",
   "metadata": {},
   "source": [
    "### Convert back to Pandas"
   ]
  },
  {
   "cell_type": "code",
   "execution_count": 29,
   "metadata": {
    "ExecuteTime": {
     "end_time": "2022-02-11T16:33:49.725046Z",
     "start_time": "2022-02-11T16:33:49.671042Z"
    }
   },
   "outputs": [
    {
     "data": {
      "text/html": [
       "<div>\n",
       "<style scoped>\n",
       "    .dataframe tbody tr th:only-of-type {\n",
       "        vertical-align: middle;\n",
       "    }\n",
       "\n",
       "    .dataframe tbody tr th {\n",
       "        vertical-align: top;\n",
       "    }\n",
       "\n",
       "    .dataframe thead th {\n",
       "        text-align: right;\n",
       "    }\n",
       "</style>\n",
       "<table border=\"1\" class=\"dataframe\">\n",
       "  <thead>\n",
       "    <tr style=\"text-align: right;\">\n",
       "      <th></th>\n",
       "      <th>neighbourhood_cleansed</th>\n",
       "      <th>property_type</th>\n",
       "      <th>room_type</th>\n",
       "      <th>bed_type</th>\n",
       "      <th>cancellation_policy</th>\n",
       "    </tr>\n",
       "  </thead>\n",
       "  <tbody>\n",
       "    <tr>\n",
       "      <th>0</th>\n",
       "      <td>Roslindale</td>\n",
       "      <td>Apartment</td>\n",
       "      <td>Entire home/apt</td>\n",
       "      <td>Real Bed</td>\n",
       "      <td>moderate</td>\n",
       "    </tr>\n",
       "    <tr>\n",
       "      <th>1</th>\n",
       "      <td>Allston</td>\n",
       "      <td>Apartment</td>\n",
       "      <td>Private room</td>\n",
       "      <td>Real Bed</td>\n",
       "      <td>strict</td>\n",
       "    </tr>\n",
       "    <tr>\n",
       "      <th>2</th>\n",
       "      <td>Fenway</td>\n",
       "      <td>Apartment</td>\n",
       "      <td>Private room</td>\n",
       "      <td>Real Bed</td>\n",
       "      <td>flexible</td>\n",
       "    </tr>\n",
       "    <tr>\n",
       "      <th>3</th>\n",
       "      <td>Fenway</td>\n",
       "      <td>Apartment</td>\n",
       "      <td>Entire home/apt</td>\n",
       "      <td>Real Bed</td>\n",
       "      <td>strict</td>\n",
       "    </tr>\n",
       "    <tr>\n",
       "      <th>4</th>\n",
       "      <td>Roxbury</td>\n",
       "      <td>Apartment</td>\n",
       "      <td>Entire home/apt</td>\n",
       "      <td>Real Bed</td>\n",
       "      <td>strict</td>\n",
       "    </tr>\n",
       "  </tbody>\n",
       "</table>\n",
       "</div>"
      ],
      "text/plain": [
       "  neighbourhood_cleansed property_type        room_type  bed_type  \\\n",
       "0             Roslindale     Apartment  Entire home/apt  Real Bed   \n",
       "1                Allston     Apartment     Private room  Real Bed   \n",
       "2                 Fenway     Apartment     Private room  Real Bed   \n",
       "3                 Fenway     Apartment  Entire home/apt  Real Bed   \n",
       "4                Roxbury     Apartment  Entire home/apt  Real Bed   \n",
       "\n",
       "  cancellation_policy  \n",
       "0            moderate  \n",
       "1              strict  \n",
       "2            flexible  \n",
       "3              strict  \n",
       "4              strict  "
      ]
     },
     "execution_count": 29,
     "metadata": {},
     "output_type": "execute_result"
    }
   ],
   "source": [
    "train_categorical_columns_imputed_df = pd.DataFrame(train_categorical_columns_imputed, \n",
    "                                      columns=train_categorical_columns.columns).reset_index(drop=True)\n",
    "\n",
    "train_categorical_columns_imputed_df.head()"
   ]
  },
  {
   "cell_type": "code",
   "execution_count": 30,
   "metadata": {
    "ExecuteTime": {
     "end_time": "2022-02-11T16:33:51.195245Z",
     "start_time": "2022-02-11T16:33:51.175241Z"
    }
   },
   "outputs": [
    {
     "data": {
      "text/plain": [
       "Apartment       5344\n",
       "House           1168\n",
       "Condominium      456\n",
       "Townhouse        108\n",
       "Loft              83\n",
       "Entire Floor      10\n",
       "Villa             10\n",
       "UNKNOWN            8\n",
       "Guesthouse         3\n",
       "Name: property_type, dtype: int64"
      ]
     },
     "execution_count": 30,
     "metadata": {},
     "output_type": "execute_result"
    }
   ],
   "source": [
    "train_categorical_columns_imputed_df['property_type'].value_counts()"
   ]
  },
  {
   "cell_type": "markdown",
   "metadata": {},
   "source": [
    "### One-hot-encoding\n",
    "Now let's preprocess the categorical variables using one-hot encoding"
   ]
  },
  {
   "cell_type": "code",
   "execution_count": 31,
   "metadata": {
    "ExecuteTime": {
     "end_time": "2022-02-11T16:33:54.024087Z",
     "start_time": "2022-02-11T16:33:53.999572Z"
    }
   },
   "outputs": [
    {
     "data": {
      "text/plain": [
       "<7190x46 sparse matrix of type '<class 'numpy.float64'>'\n",
       "\twith 35950 stored elements in Compressed Sparse Row format>"
      ]
     },
     "execution_count": 31,
     "metadata": {},
     "output_type": "execute_result"
    }
   ],
   "source": [
    "from sklearn.preprocessing import OneHotEncoder\n",
    "\n",
    "cat_encoder = OneHotEncoder()\n",
    "\n",
    "train_categorical_columns_1hot = cat_encoder.fit_transform(train_categorical_columns_imputed_df)\n",
    "\n",
    "train_categorical_columns_1hot"
   ]
  },
  {
   "cell_type": "markdown",
   "metadata": {},
   "source": [
    "By default, the `OneHotEncoder` class returns a sparse array, but we can convert it to a dense array if needed by calling the `toarray()` method:"
   ]
  },
  {
   "cell_type": "code",
   "execution_count": 32,
   "metadata": {
    "ExecuteTime": {
     "end_time": "2022-02-11T16:34:00.887215Z",
     "start_time": "2022-02-11T16:34:00.879212Z"
    }
   },
   "outputs": [
    {
     "data": {
      "text/plain": [
       "array([[0., 0., 0., ..., 1., 0., 0.],\n",
       "       [1., 0., 0., ..., 0., 1., 0.],\n",
       "       [0., 0., 0., ..., 0., 0., 0.],\n",
       "       ...,\n",
       "       [0., 0., 0., ..., 1., 0., 0.],\n",
       "       [0., 0., 0., ..., 0., 0., 0.],\n",
       "       [0., 0., 0., ..., 0., 0., 0.]])"
      ]
     },
     "execution_count": 32,
     "metadata": {},
     "output_type": "execute_result"
    }
   ],
   "source": [
    "train_categorical_columns_1hot.toarray()"
   ]
  },
  {
   "cell_type": "code",
   "execution_count": 33,
   "metadata": {
    "ExecuteTime": {
     "end_time": "2022-02-11T16:34:01.639955Z",
     "start_time": "2022-02-11T16:34:01.630953Z"
    }
   },
   "outputs": [
    {
     "data": {
      "text/plain": [
       "[array(['Allston', 'Back Bay', 'Bay Village', 'Beacon Hill', 'Brighton',\n",
       "        'Charlestown', 'Chinatown', 'Dorchester', 'Downtown',\n",
       "        'East Boston', 'Fenway', 'Hyde Park', 'Jamaica Plain',\n",
       "        'Leather District', 'Longwood Medical Area', 'Mattapan',\n",
       "        'Mission Hill', 'North End', 'Roslindale', 'Roxbury',\n",
       "        'South Boston', 'South Boston Waterfront', 'South End', 'West End',\n",
       "        'West Roxbury'], dtype=object),\n",
       " array(['Apartment', 'Condominium', 'Entire Floor', 'Guesthouse', 'House',\n",
       "        'Loft', 'Townhouse', 'UNKNOWN', 'Villa'], dtype=object),\n",
       " array(['Entire home/apt', 'Private room', 'Shared room'], dtype=object),\n",
       " array(['Airbed', 'Couch', 'Futon', 'Pull-out Sofa', 'Real Bed'],\n",
       "       dtype=object),\n",
       " array(['flexible', 'moderate', 'strict', 'super_strict_30'], dtype=object)]"
      ]
     },
     "execution_count": 33,
     "metadata": {},
     "output_type": "execute_result"
    }
   ],
   "source": [
    "cat_encoder.categories_"
   ]
  },
  {
   "cell_type": "code",
   "execution_count": 35,
   "metadata": {
    "ExecuteTime": {
     "end_time": "2022-02-11T16:34:20.076813Z",
     "start_time": "2022-02-11T16:34:20.062810Z"
    }
   },
   "outputs": [
    {
     "data": {
      "text/plain": [
       "['Allston',\n",
       " 'Back Bay',\n",
       " 'Bay Village',\n",
       " 'Beacon Hill',\n",
       " 'Brighton',\n",
       " 'Charlestown',\n",
       " 'Chinatown',\n",
       " 'Dorchester',\n",
       " 'Downtown',\n",
       " 'East Boston',\n",
       " 'Fenway',\n",
       " 'Hyde Park',\n",
       " 'Jamaica Plain',\n",
       " 'Leather District',\n",
       " 'Longwood Medical Area',\n",
       " 'Mattapan',\n",
       " 'Mission Hill',\n",
       " 'North End',\n",
       " 'Roslindale',\n",
       " 'Roxbury',\n",
       " 'South Boston',\n",
       " 'South Boston Waterfront',\n",
       " 'South End',\n",
       " 'West End',\n",
       " 'West Roxbury',\n",
       " 'Apartment',\n",
       " 'Condominium',\n",
       " 'Entire Floor',\n",
       " 'Guesthouse',\n",
       " 'House',\n",
       " 'Loft',\n",
       " 'Townhouse',\n",
       " 'UNKNOWN',\n",
       " 'Villa',\n",
       " 'Entire home/apt',\n",
       " 'Private room',\n",
       " 'Shared room',\n",
       " 'Airbed',\n",
       " 'Couch',\n",
       " 'Futon',\n",
       " 'Pull-out Sofa',\n",
       " 'Real Bed',\n",
       " 'flexible',\n",
       " 'moderate',\n",
       " 'strict',\n",
       " 'super_strict_30']"
      ]
     },
     "execution_count": 35,
     "metadata": {},
     "output_type": "execute_result"
    }
   ],
   "source": [
    "#Let's flatten the array of arrays to get the column names\n",
    "\n",
    "onehot_column_names = [item for sublist in cat_encoder.categories_ for item in sublist]\n",
    "\n",
    "onehot_column_names"
   ]
  },
  {
   "cell_type": "markdown",
   "metadata": {},
   "source": [
    "### Convert back to Pandas"
   ]
  },
  {
   "cell_type": "code",
   "execution_count": 36,
   "metadata": {
    "ExecuteTime": {
     "end_time": "2022-02-11T16:34:22.317286Z",
     "start_time": "2022-02-11T16:34:22.293289Z"
    }
   },
   "outputs": [
    {
     "data": {
      "text/html": [
       "<div>\n",
       "<style scoped>\n",
       "    .dataframe tbody tr th:only-of-type {\n",
       "        vertical-align: middle;\n",
       "    }\n",
       "\n",
       "    .dataframe tbody tr th {\n",
       "        vertical-align: top;\n",
       "    }\n",
       "\n",
       "    .dataframe thead th {\n",
       "        text-align: right;\n",
       "    }\n",
       "</style>\n",
       "<table border=\"1\" class=\"dataframe\">\n",
       "  <thead>\n",
       "    <tr style=\"text-align: right;\">\n",
       "      <th></th>\n",
       "      <th>Allston</th>\n",
       "      <th>Back Bay</th>\n",
       "      <th>Bay Village</th>\n",
       "      <th>Beacon Hill</th>\n",
       "      <th>Brighton</th>\n",
       "      <th>Charlestown</th>\n",
       "      <th>Chinatown</th>\n",
       "      <th>Dorchester</th>\n",
       "      <th>Downtown</th>\n",
       "      <th>East Boston</th>\n",
       "      <th>...</th>\n",
       "      <th>Shared room</th>\n",
       "      <th>Airbed</th>\n",
       "      <th>Couch</th>\n",
       "      <th>Futon</th>\n",
       "      <th>Pull-out Sofa</th>\n",
       "      <th>Real Bed</th>\n",
       "      <th>flexible</th>\n",
       "      <th>moderate</th>\n",
       "      <th>strict</th>\n",
       "      <th>super_strict_30</th>\n",
       "    </tr>\n",
       "  </thead>\n",
       "  <tbody>\n",
       "    <tr>\n",
       "      <th>0</th>\n",
       "      <td>0.0</td>\n",
       "      <td>0.0</td>\n",
       "      <td>0.0</td>\n",
       "      <td>0.0</td>\n",
       "      <td>0.0</td>\n",
       "      <td>0.0</td>\n",
       "      <td>0.0</td>\n",
       "      <td>0.0</td>\n",
       "      <td>0.0</td>\n",
       "      <td>0.0</td>\n",
       "      <td>...</td>\n",
       "      <td>0.0</td>\n",
       "      <td>0.0</td>\n",
       "      <td>0.0</td>\n",
       "      <td>0.0</td>\n",
       "      <td>0.0</td>\n",
       "      <td>1.0</td>\n",
       "      <td>0.0</td>\n",
       "      <td>1.0</td>\n",
       "      <td>0.0</td>\n",
       "      <td>0.0</td>\n",
       "    </tr>\n",
       "    <tr>\n",
       "      <th>1</th>\n",
       "      <td>1.0</td>\n",
       "      <td>0.0</td>\n",
       "      <td>0.0</td>\n",
       "      <td>0.0</td>\n",
       "      <td>0.0</td>\n",
       "      <td>0.0</td>\n",
       "      <td>0.0</td>\n",
       "      <td>0.0</td>\n",
       "      <td>0.0</td>\n",
       "      <td>0.0</td>\n",
       "      <td>...</td>\n",
       "      <td>0.0</td>\n",
       "      <td>0.0</td>\n",
       "      <td>0.0</td>\n",
       "      <td>0.0</td>\n",
       "      <td>0.0</td>\n",
       "      <td>1.0</td>\n",
       "      <td>0.0</td>\n",
       "      <td>0.0</td>\n",
       "      <td>1.0</td>\n",
       "      <td>0.0</td>\n",
       "    </tr>\n",
       "    <tr>\n",
       "      <th>2</th>\n",
       "      <td>0.0</td>\n",
       "      <td>0.0</td>\n",
       "      <td>0.0</td>\n",
       "      <td>0.0</td>\n",
       "      <td>0.0</td>\n",
       "      <td>0.0</td>\n",
       "      <td>0.0</td>\n",
       "      <td>0.0</td>\n",
       "      <td>0.0</td>\n",
       "      <td>0.0</td>\n",
       "      <td>...</td>\n",
       "      <td>0.0</td>\n",
       "      <td>0.0</td>\n",
       "      <td>0.0</td>\n",
       "      <td>0.0</td>\n",
       "      <td>0.0</td>\n",
       "      <td>1.0</td>\n",
       "      <td>1.0</td>\n",
       "      <td>0.0</td>\n",
       "      <td>0.0</td>\n",
       "      <td>0.0</td>\n",
       "    </tr>\n",
       "    <tr>\n",
       "      <th>3</th>\n",
       "      <td>0.0</td>\n",
       "      <td>0.0</td>\n",
       "      <td>0.0</td>\n",
       "      <td>0.0</td>\n",
       "      <td>0.0</td>\n",
       "      <td>0.0</td>\n",
       "      <td>0.0</td>\n",
       "      <td>0.0</td>\n",
       "      <td>0.0</td>\n",
       "      <td>0.0</td>\n",
       "      <td>...</td>\n",
       "      <td>0.0</td>\n",
       "      <td>0.0</td>\n",
       "      <td>0.0</td>\n",
       "      <td>0.0</td>\n",
       "      <td>0.0</td>\n",
       "      <td>1.0</td>\n",
       "      <td>0.0</td>\n",
       "      <td>0.0</td>\n",
       "      <td>1.0</td>\n",
       "      <td>0.0</td>\n",
       "    </tr>\n",
       "    <tr>\n",
       "      <th>4</th>\n",
       "      <td>0.0</td>\n",
       "      <td>0.0</td>\n",
       "      <td>0.0</td>\n",
       "      <td>0.0</td>\n",
       "      <td>0.0</td>\n",
       "      <td>0.0</td>\n",
       "      <td>0.0</td>\n",
       "      <td>0.0</td>\n",
       "      <td>0.0</td>\n",
       "      <td>0.0</td>\n",
       "      <td>...</td>\n",
       "      <td>0.0</td>\n",
       "      <td>0.0</td>\n",
       "      <td>0.0</td>\n",
       "      <td>0.0</td>\n",
       "      <td>0.0</td>\n",
       "      <td>1.0</td>\n",
       "      <td>0.0</td>\n",
       "      <td>0.0</td>\n",
       "      <td>1.0</td>\n",
       "      <td>0.0</td>\n",
       "    </tr>\n",
       "  </tbody>\n",
       "</table>\n",
       "<p>5 rows × 46 columns</p>\n",
       "</div>"
      ],
      "text/plain": [
       "   Allston  Back Bay  Bay Village  Beacon Hill  Brighton  Charlestown  \\\n",
       "0      0.0       0.0          0.0          0.0       0.0          0.0   \n",
       "1      1.0       0.0          0.0          0.0       0.0          0.0   \n",
       "2      0.0       0.0          0.0          0.0       0.0          0.0   \n",
       "3      0.0       0.0          0.0          0.0       0.0          0.0   \n",
       "4      0.0       0.0          0.0          0.0       0.0          0.0   \n",
       "\n",
       "   Chinatown  Dorchester  Downtown  East Boston  ...  Shared room  Airbed  \\\n",
       "0        0.0         0.0       0.0          0.0  ...          0.0     0.0   \n",
       "1        0.0         0.0       0.0          0.0  ...          0.0     0.0   \n",
       "2        0.0         0.0       0.0          0.0  ...          0.0     0.0   \n",
       "3        0.0         0.0       0.0          0.0  ...          0.0     0.0   \n",
       "4        0.0         0.0       0.0          0.0  ...          0.0     0.0   \n",
       "\n",
       "   Couch  Futon  Pull-out Sofa  Real Bed  flexible  moderate  strict  \\\n",
       "0    0.0    0.0            0.0       1.0       0.0       1.0     0.0   \n",
       "1    0.0    0.0            0.0       1.0       0.0       0.0     1.0   \n",
       "2    0.0    0.0            0.0       1.0       1.0       0.0     0.0   \n",
       "3    0.0    0.0            0.0       1.0       0.0       0.0     1.0   \n",
       "4    0.0    0.0            0.0       1.0       0.0       0.0     1.0   \n",
       "\n",
       "   super_strict_30  \n",
       "0              0.0  \n",
       "1              0.0  \n",
       "2              0.0  \n",
       "3              0.0  \n",
       "4              0.0  \n",
       "\n",
       "[5 rows x 46 columns]"
      ]
     },
     "execution_count": 36,
     "metadata": {},
     "output_type": "execute_result"
    }
   ],
   "source": [
    "train_categorical_columns_1hot_df = pd.DataFrame(train_categorical_columns_1hot.toarray(), \n",
    "                                           columns = onehot_column_names).reset_index(drop=True)\n",
    "\n",
    "train_categorical_columns_1hot_df.head()"
   ]
  },
  {
   "cell_type": "markdown",
   "metadata": {},
   "source": [
    "## Do not process the binary variables"
   ]
  },
  {
   "cell_type": "markdown",
   "metadata": {},
   "source": [
    "## Concatenate all variables"
   ]
  },
  {
   "cell_type": "code",
   "execution_count": 37,
   "metadata": {
    "ExecuteTime": {
     "end_time": "2022-02-11T16:34:24.203398Z",
     "start_time": "2022-02-11T16:34:24.191396Z"
    }
   },
   "outputs": [
    {
     "data": {
      "text/plain": [
       "(7190, 61)"
      ]
     },
     "execution_count": 37,
     "metadata": {},
     "output_type": "execute_result"
    }
   ],
   "source": [
    "# Concatanete these variables to the existing data set:\n",
    "# add reset_index(drop=True), otherwise, it adds NaN rows\n",
    "\n",
    "train_prepared = pd.concat((train_numeric_columns_std_df.reset_index(drop=True), \n",
    "                             train_categorical_columns_1hot_df.reset_index(drop=True),\n",
    "                             train_binary_columns.reset_index(drop=True)), axis=1)\n",
    "\n",
    "# if you want to create a separate column for missing values, use dummy_na=True:\n",
    "# pd.get_dummies(df,dummy_na=True)\n",
    "\n",
    "train_prepared.shape"
   ]
  },
  {
   "cell_type": "code",
   "execution_count": 38,
   "metadata": {
    "ExecuteTime": {
     "end_time": "2022-02-11T16:34:27.438864Z",
     "start_time": "2022-02-11T16:34:27.417859Z"
    }
   },
   "outputs": [
    {
     "data": {
      "text/html": [
       "<div>\n",
       "<style scoped>\n",
       "    .dataframe tbody tr th:only-of-type {\n",
       "        vertical-align: middle;\n",
       "    }\n",
       "\n",
       "    .dataframe tbody tr th {\n",
       "        vertical-align: top;\n",
       "    }\n",
       "\n",
       "    .dataframe thead th {\n",
       "        text-align: right;\n",
       "    }\n",
       "</style>\n",
       "<table border=\"1\" class=\"dataframe\">\n",
       "  <thead>\n",
       "    <tr style=\"text-align: right;\">\n",
       "      <th></th>\n",
       "      <th>latitude</th>\n",
       "      <th>longitude</th>\n",
       "      <th>accommodates</th>\n",
       "      <th>bathrooms</th>\n",
       "      <th>bedrooms</th>\n",
       "      <th>beds</th>\n",
       "      <th>Number of amenities</th>\n",
       "      <th>guests_included</th>\n",
       "      <th>price_per_extra_person</th>\n",
       "      <th>minimum_nights</th>\n",
       "      <th>...</th>\n",
       "      <th>Couch</th>\n",
       "      <th>Futon</th>\n",
       "      <th>Pull-out Sofa</th>\n",
       "      <th>Real Bed</th>\n",
       "      <th>flexible</th>\n",
       "      <th>moderate</th>\n",
       "      <th>strict</th>\n",
       "      <th>super_strict_30</th>\n",
       "      <th>host_is_superhost</th>\n",
       "      <th>host_identity_verified</th>\n",
       "    </tr>\n",
       "  </thead>\n",
       "  <tbody>\n",
       "    <tr>\n",
       "      <th>0</th>\n",
       "      <td>-2.109402</td>\n",
       "      <td>-1.398242</td>\n",
       "      <td>1.204779</td>\n",
       "      <td>-0.445440</td>\n",
       "      <td>1.086982</td>\n",
       "      <td>1.540564</td>\n",
       "      <td>0.855348</td>\n",
       "      <td>3.543164</td>\n",
       "      <td>1.006358</td>\n",
       "      <td>-0.156431</td>\n",
       "      <td>...</td>\n",
       "      <td>0.0</td>\n",
       "      <td>0.0</td>\n",
       "      <td>0.0</td>\n",
       "      <td>1.0</td>\n",
       "      <td>0.0</td>\n",
       "      <td>1.0</td>\n",
       "      <td>0.0</td>\n",
       "      <td>0.0</td>\n",
       "      <td>0</td>\n",
       "      <td>1</td>\n",
       "    </tr>\n",
       "    <tr>\n",
       "      <th>1</th>\n",
       "      <td>0.619068</td>\n",
       "      <td>-1.385934</td>\n",
       "      <td>-1.161339</td>\n",
       "      <td>1.896385</td>\n",
       "      <td>-0.308676</td>\n",
       "      <td>-0.600675</td>\n",
       "      <td>-0.599770</td>\n",
       "      <td>-0.405890</td>\n",
       "      <td>-0.572492</td>\n",
       "      <td>2.119144</td>\n",
       "      <td>...</td>\n",
       "      <td>0.0</td>\n",
       "      <td>0.0</td>\n",
       "      <td>0.0</td>\n",
       "      <td>1.0</td>\n",
       "      <td>0.0</td>\n",
       "      <td>0.0</td>\n",
       "      <td>1.0</td>\n",
       "      <td>0.0</td>\n",
       "      <td>0</td>\n",
       "      <td>0</td>\n",
       "    </tr>\n",
       "    <tr>\n",
       "      <th>2</th>\n",
       "      <td>0.144485</td>\n",
       "      <td>-0.167060</td>\n",
       "      <td>-1.161339</td>\n",
       "      <td>-0.445440</td>\n",
       "      <td>-0.308676</td>\n",
       "      <td>-0.600675</td>\n",
       "      <td>-0.184022</td>\n",
       "      <td>-0.405890</td>\n",
       "      <td>1.006358</td>\n",
       "      <td>-0.156431</td>\n",
       "      <td>...</td>\n",
       "      <td>0.0</td>\n",
       "      <td>0.0</td>\n",
       "      <td>0.0</td>\n",
       "      <td>1.0</td>\n",
       "      <td>1.0</td>\n",
       "      <td>0.0</td>\n",
       "      <td>0.0</td>\n",
       "      <td>0.0</td>\n",
       "      <td>0</td>\n",
       "      <td>1</td>\n",
       "    </tr>\n",
       "    <tr>\n",
       "      <th>3</th>\n",
       "      <td>0.047111</td>\n",
       "      <td>-0.084198</td>\n",
       "      <td>0.021720</td>\n",
       "      <td>-0.445440</td>\n",
       "      <td>-1.704334</td>\n",
       "      <td>-0.600675</td>\n",
       "      <td>-0.184022</td>\n",
       "      <td>-0.405890</td>\n",
       "      <td>-0.572492</td>\n",
       "      <td>-0.004726</td>\n",
       "      <td>...</td>\n",
       "      <td>0.0</td>\n",
       "      <td>0.0</td>\n",
       "      <td>0.0</td>\n",
       "      <td>1.0</td>\n",
       "      <td>0.0</td>\n",
       "      <td>0.0</td>\n",
       "      <td>1.0</td>\n",
       "      <td>0.0</td>\n",
       "      <td>0</td>\n",
       "      <td>1</td>\n",
       "    </tr>\n",
       "    <tr>\n",
       "      <th>4</th>\n",
       "      <td>-0.163661</td>\n",
       "      <td>0.013258</td>\n",
       "      <td>1.796308</td>\n",
       "      <td>-0.445440</td>\n",
       "      <td>2.482641</td>\n",
       "      <td>1.540564</td>\n",
       "      <td>-1.431267</td>\n",
       "      <td>1.568637</td>\n",
       "      <td>-0.046209</td>\n",
       "      <td>-0.004726</td>\n",
       "      <td>...</td>\n",
       "      <td>0.0</td>\n",
       "      <td>0.0</td>\n",
       "      <td>0.0</td>\n",
       "      <td>1.0</td>\n",
       "      <td>0.0</td>\n",
       "      <td>0.0</td>\n",
       "      <td>1.0</td>\n",
       "      <td>0.0</td>\n",
       "      <td>0</td>\n",
       "      <td>1</td>\n",
       "    </tr>\n",
       "  </tbody>\n",
       "</table>\n",
       "<p>5 rows × 61 columns</p>\n",
       "</div>"
      ],
      "text/plain": [
       "   latitude  longitude  accommodates  bathrooms  bedrooms      beds  \\\n",
       "0 -2.109402  -1.398242      1.204779  -0.445440  1.086982  1.540564   \n",
       "1  0.619068  -1.385934     -1.161339   1.896385 -0.308676 -0.600675   \n",
       "2  0.144485  -0.167060     -1.161339  -0.445440 -0.308676 -0.600675   \n",
       "3  0.047111  -0.084198      0.021720  -0.445440 -1.704334 -0.600675   \n",
       "4 -0.163661   0.013258      1.796308  -0.445440  2.482641  1.540564   \n",
       "\n",
       "   Number of amenities  guests_included  price_per_extra_person  \\\n",
       "0             0.855348         3.543164                1.006358   \n",
       "1            -0.599770        -0.405890               -0.572492   \n",
       "2            -0.184022        -0.405890                1.006358   \n",
       "3            -0.184022        -0.405890               -0.572492   \n",
       "4            -1.431267         1.568637               -0.046209   \n",
       "\n",
       "   minimum_nights  ...  Couch  Futon  Pull-out Sofa  Real Bed  flexible  \\\n",
       "0       -0.156431  ...    0.0    0.0            0.0       1.0       0.0   \n",
       "1        2.119144  ...    0.0    0.0            0.0       1.0       0.0   \n",
       "2       -0.156431  ...    0.0    0.0            0.0       1.0       1.0   \n",
       "3       -0.004726  ...    0.0    0.0            0.0       1.0       0.0   \n",
       "4       -0.004726  ...    0.0    0.0            0.0       1.0       0.0   \n",
       "\n",
       "   moderate  strict  super_strict_30  host_is_superhost  \\\n",
       "0       1.0     0.0              0.0                  0   \n",
       "1       0.0     1.0              0.0                  0   \n",
       "2       0.0     0.0              0.0                  0   \n",
       "3       0.0     1.0              0.0                  0   \n",
       "4       0.0     1.0              0.0                  0   \n",
       "\n",
       "   host_identity_verified  \n",
       "0                       1  \n",
       "1                       0  \n",
       "2                       1  \n",
       "3                       1  \n",
       "4                       1  \n",
       "\n",
       "[5 rows x 61 columns]"
      ]
     },
     "execution_count": 38,
     "metadata": {},
     "output_type": "execute_result"
    }
   ],
   "source": [
    "train_prepared.head()"
   ]
  },
  {
   "cell_type": "markdown",
   "metadata": {},
   "source": [
    "# Process the Test data using \"Transform\" only"
   ]
  },
  {
   "cell_type": "code",
   "execution_count": 39,
   "metadata": {
    "ExecuteTime": {
     "end_time": "2022-02-11T16:34:29.266479Z",
     "start_time": "2022-02-11T16:34:29.254476Z"
    }
   },
   "outputs": [],
   "source": [
    "test_targets = test[['price', 'price_gte_150', 'price_category']]\n",
    "\n",
    "test_numeric_columns = test[['latitude', 'longitude', 'accommodates', \n",
    "                   'bathrooms', 'bedrooms', 'beds', 'Number of amenities', \n",
    "                   'guests_included', 'price_per_extra_person', 'minimum_nights', \n",
    "                   'number_of_reviews', 'number_days_btw_first_last_review', 'review_scores_rating']]\n",
    "\n",
    "test_binary_columns = test[['host_is_superhost', 'host_identity_verified']]\n",
    "\n",
    "test_categorical_columns = test[['neighbourhood_cleansed', 'property_type', 'room_type', 'bed_type', 'cancellation_policy']]"
   ]
  },
  {
   "cell_type": "markdown",
   "metadata": {},
   "source": [
    "## Process numerical variables - test"
   ]
  },
  {
   "cell_type": "markdown",
   "metadata": {},
   "source": [
    "### Imputation "
   ]
  },
  {
   "cell_type": "code",
   "execution_count": 40,
   "metadata": {
    "ExecuteTime": {
     "end_time": "2022-02-11T16:34:31.003892Z",
     "start_time": "2022-02-11T16:34:30.990888Z"
    }
   },
   "outputs": [],
   "source": [
    "#Transform only\n",
    "\n",
    "test_numeric_columns_imputed = imputer.transform(test_numeric_columns)"
   ]
  },
  {
   "cell_type": "code",
   "execution_count": 41,
   "metadata": {
    "ExecuteTime": {
     "end_time": "2022-02-11T16:34:33.729256Z",
     "start_time": "2022-02-11T16:34:33.718254Z"
    },
    "scrolled": true
   },
   "outputs": [
    {
     "data": {
      "text/plain": [
       "array([[ 4.23552632e+01, -7.10727931e+01,  6.00000000e+00, ...,\n",
       "         5.20000000e+01,  2.31400000e+03,  8.80000000e+01],\n",
       "       [ 4.23434381e+01, -7.10768836e+01,  2.00000000e+00, ...,\n",
       "         3.00000000e+00,  2.39000000e+02,  6.70000000e+01],\n",
       "       [ 4.22896525e+01, -7.11147208e+01,  3.00000000e+00, ...,\n",
       "         1.45000000e+02,  1.64100000e+03,  9.20000000e+01],\n",
       "       ...,\n",
       "       [ 4.23436240e+01, -7.10979281e+01,  5.00000000e+00, ...,\n",
       "         4.00000000e+00,  2.11000000e+02,  9.40000000e+01],\n",
       "       [ 4.23426200e+01, -7.11036275e+01,  2.00000000e+00, ...,\n",
       "         0.00000000e+00,  0.00000000e+00,  9.18752912e+01],\n",
       "       [ 4.23164580e+01, -7.10795195e+01,  1.00000000e+00, ...,\n",
       "         4.00000000e+00,  2.23000000e+02,  9.50000000e+01]])"
      ]
     },
     "execution_count": 41,
     "metadata": {},
     "output_type": "execute_result"
    }
   ],
   "source": [
    "test_numeric_columns_imputed"
   ]
  },
  {
   "cell_type": "markdown",
   "metadata": {},
   "source": [
    "### Standardize the values\n"
   ]
  },
  {
   "cell_type": "code",
   "execution_count": 42,
   "metadata": {
    "ExecuteTime": {
     "end_time": "2022-02-11T16:34:35.046564Z",
     "start_time": "2022-02-11T16:34:35.030562Z"
    }
   },
   "outputs": [
    {
     "data": {
      "text/plain": [
       "array([[ 6.30697679e-01,  4.05336870e-01,  1.79630816e+00, ...,\n",
       "         9.15947836e-01,  5.03983927e+00, -4.57534027e-01],\n",
       "       [ 1.51534853e-01,  2.76111113e-01, -5.69809944e-01, ...,\n",
       "        -4.49730849e-01, -8.65394789e-02, -2.93688697e+00],\n",
       "       [-2.02789334e+00, -9.19242147e-01,  2.17195820e-02, ...,\n",
       "         3.50795024e+00,  3.37716317e+00,  1.47236769e-02],\n",
       "       ...,\n",
       "       [ 1.59068061e-01, -3.88728975e-01,  1.20477863e+00, ...,\n",
       "        -4.21859855e-01, -1.55714710e-01,  2.50852529e-01],\n",
       "       [ 1.18386875e-01, -5.68783079e-01, -5.69809944e-01, ...,\n",
       "        -5.33343829e-01, -6.76999489e-01,  1.67779641e-15],\n",
       "       [-9.41717921e-01,  1.92835584e-01, -1.16133947e+00, ...,\n",
       "        -4.21859855e-01, -1.26068182e-01,  3.68916955e-01]])"
      ]
     },
     "execution_count": 42,
     "metadata": {},
     "output_type": "execute_result"
    }
   ],
   "source": [
    "test_numeric_columns_std = scaler.transform(test_numeric_columns_imputed)\n",
    "\n",
    "test_numeric_columns_std"
   ]
  },
  {
   "cell_type": "markdown",
   "metadata": {},
   "source": [
    "### Convert back to Pandas"
   ]
  },
  {
   "cell_type": "code",
   "execution_count": 43,
   "metadata": {
    "ExecuteTime": {
     "end_time": "2022-02-11T16:34:37.642085Z",
     "start_time": "2022-02-11T16:34:37.630091Z"
    }
   },
   "outputs": [
    {
     "data": {
      "text/html": [
       "<div>\n",
       "<style scoped>\n",
       "    .dataframe tbody tr th:only-of-type {\n",
       "        vertical-align: middle;\n",
       "    }\n",
       "\n",
       "    .dataframe tbody tr th {\n",
       "        vertical-align: top;\n",
       "    }\n",
       "\n",
       "    .dataframe thead th {\n",
       "        text-align: right;\n",
       "    }\n",
       "</style>\n",
       "<table border=\"1\" class=\"dataframe\">\n",
       "  <thead>\n",
       "    <tr style=\"text-align: right;\">\n",
       "      <th></th>\n",
       "      <th>latitude</th>\n",
       "      <th>longitude</th>\n",
       "      <th>accommodates</th>\n",
       "      <th>bathrooms</th>\n",
       "      <th>bedrooms</th>\n",
       "      <th>beds</th>\n",
       "      <th>Number of amenities</th>\n",
       "      <th>guests_included</th>\n",
       "      <th>price_per_extra_person</th>\n",
       "      <th>minimum_nights</th>\n",
       "      <th>number_of_reviews</th>\n",
       "      <th>number_days_btw_first_last_review</th>\n",
       "      <th>review_scores_rating</th>\n",
       "    </tr>\n",
       "  </thead>\n",
       "  <tbody>\n",
       "    <tr>\n",
       "      <th>0</th>\n",
       "      <td>0.630698</td>\n",
       "      <td>0.405337</td>\n",
       "      <td>1.796308</td>\n",
       "      <td>1.896385</td>\n",
       "      <td>2.482641</td>\n",
       "      <td>1.540564</td>\n",
       "      <td>-1.223393</td>\n",
       "      <td>-0.405890</td>\n",
       "      <td>-0.572492</td>\n",
       "      <td>-0.004726</td>\n",
       "      <td>0.915948</td>\n",
       "      <td>5.039839</td>\n",
       "      <td>-0.457534</td>\n",
       "    </tr>\n",
       "    <tr>\n",
       "      <th>1</th>\n",
       "      <td>0.151535</td>\n",
       "      <td>0.276111</td>\n",
       "      <td>-0.569810</td>\n",
       "      <td>-0.445440</td>\n",
       "      <td>-1.704334</td>\n",
       "      <td>-0.600675</td>\n",
       "      <td>-1.223393</td>\n",
       "      <td>-0.405890</td>\n",
       "      <td>-0.572492</td>\n",
       "      <td>0.602094</td>\n",
       "      <td>-0.449731</td>\n",
       "      <td>-0.086539</td>\n",
       "      <td>-2.936887</td>\n",
       "    </tr>\n",
       "    <tr>\n",
       "      <th>2</th>\n",
       "      <td>-2.027893</td>\n",
       "      <td>-0.919242</td>\n",
       "      <td>0.021720</td>\n",
       "      <td>-0.445440</td>\n",
       "      <td>-0.308676</td>\n",
       "      <td>0.469944</td>\n",
       "      <td>-0.184022</td>\n",
       "      <td>-0.405890</td>\n",
       "      <td>-0.046209</td>\n",
       "      <td>-0.156431</td>\n",
       "      <td>3.507950</td>\n",
       "      <td>3.377163</td>\n",
       "      <td>0.014724</td>\n",
       "    </tr>\n",
       "    <tr>\n",
       "      <th>3</th>\n",
       "      <td>-1.293843</td>\n",
       "      <td>-0.967802</td>\n",
       "      <td>0.021720</td>\n",
       "      <td>-0.445440</td>\n",
       "      <td>-0.308676</td>\n",
       "      <td>0.469944</td>\n",
       "      <td>0.855348</td>\n",
       "      <td>0.581373</td>\n",
       "      <td>0.743216</td>\n",
       "      <td>-0.004726</td>\n",
       "      <td>2.170143</td>\n",
       "      <td>1.509432</td>\n",
       "      <td>0.368917</td>\n",
       "    </tr>\n",
       "    <tr>\n",
       "      <th>4</th>\n",
       "      <td>-0.131805</td>\n",
       "      <td>1.425964</td>\n",
       "      <td>-0.569810</td>\n",
       "      <td>-0.445440</td>\n",
       "      <td>-0.308676</td>\n",
       "      <td>-0.600675</td>\n",
       "      <td>0.023852</td>\n",
       "      <td>-0.405890</td>\n",
       "      <td>0.743216</td>\n",
       "      <td>-0.308136</td>\n",
       "      <td>-0.310376</td>\n",
       "      <td>-0.420063</td>\n",
       "      <td>0.959239</td>\n",
       "    </tr>\n",
       "  </tbody>\n",
       "</table>\n",
       "</div>"
      ],
      "text/plain": [
       "   latitude  longitude  accommodates  bathrooms  bedrooms      beds  \\\n",
       "0  0.630698   0.405337      1.796308   1.896385  2.482641  1.540564   \n",
       "1  0.151535   0.276111     -0.569810  -0.445440 -1.704334 -0.600675   \n",
       "2 -2.027893  -0.919242      0.021720  -0.445440 -0.308676  0.469944   \n",
       "3 -1.293843  -0.967802      0.021720  -0.445440 -0.308676  0.469944   \n",
       "4 -0.131805   1.425964     -0.569810  -0.445440 -0.308676 -0.600675   \n",
       "\n",
       "   Number of amenities  guests_included  price_per_extra_person  \\\n",
       "0            -1.223393        -0.405890               -0.572492   \n",
       "1            -1.223393        -0.405890               -0.572492   \n",
       "2            -0.184022        -0.405890               -0.046209   \n",
       "3             0.855348         0.581373                0.743216   \n",
       "4             0.023852        -0.405890                0.743216   \n",
       "\n",
       "   minimum_nights  number_of_reviews  number_days_btw_first_last_review  \\\n",
       "0       -0.004726           0.915948                           5.039839   \n",
       "1        0.602094          -0.449731                          -0.086539   \n",
       "2       -0.156431           3.507950                           3.377163   \n",
       "3       -0.004726           2.170143                           1.509432   \n",
       "4       -0.308136          -0.310376                          -0.420063   \n",
       "\n",
       "   review_scores_rating  \n",
       "0             -0.457534  \n",
       "1             -2.936887  \n",
       "2              0.014724  \n",
       "3              0.368917  \n",
       "4              0.959239  "
      ]
     },
     "execution_count": 43,
     "metadata": {},
     "output_type": "execute_result"
    }
   ],
   "source": [
    "test_numeric_columns_std_df = pd.DataFrame(test_numeric_columns_std, \n",
    "                                      columns=test_numeric_columns.columns).reset_index(drop=True)\n",
    "\n",
    "test_numeric_columns_std_df.head()"
   ]
  },
  {
   "cell_type": "code",
   "execution_count": 44,
   "metadata": {
    "ExecuteTime": {
     "end_time": "2022-02-11T16:34:39.631441Z",
     "start_time": "2022-02-11T16:34:39.622438Z"
    }
   },
   "outputs": [
    {
     "data": {
      "text/plain": [
       "latitude                             0\n",
       "longitude                            0\n",
       "accommodates                         0\n",
       "bathrooms                            0\n",
       "bedrooms                             0\n",
       "beds                                 0\n",
       "Number of amenities                  0\n",
       "guests_included                      0\n",
       "price_per_extra_person               0\n",
       "minimum_nights                       0\n",
       "number_of_reviews                    0\n",
       "number_days_btw_first_last_review    0\n",
       "review_scores_rating                 0\n",
       "dtype: int64"
      ]
     },
     "execution_count": 44,
     "metadata": {},
     "output_type": "execute_result"
    }
   ],
   "source": [
    "test_numeric_columns_std_df.isna().sum()"
   ]
  },
  {
   "cell_type": "markdown",
   "metadata": {},
   "source": [
    "## Process the categorical variables - test"
   ]
  },
  {
   "cell_type": "code",
   "execution_count": 45,
   "metadata": {
    "ExecuteTime": {
     "end_time": "2022-02-11T16:34:42.039882Z",
     "start_time": "2022-02-11T16:34:42.030880Z"
    }
   },
   "outputs": [
    {
     "data": {
      "text/plain": [
       "neighbourhood_cleansed    0\n",
       "property_type             1\n",
       "room_type                 0\n",
       "bed_type                  0\n",
       "cancellation_policy       0\n",
       "dtype: int64"
      ]
     },
     "execution_count": 45,
     "metadata": {},
     "output_type": "execute_result"
    }
   ],
   "source": [
    "#Find the total number of missing values\n",
    "test_categorical_columns.isna().sum()"
   ]
  },
  {
   "cell_type": "code",
   "execution_count": null,
   "metadata": {},
   "outputs": [],
   "source": [
    "#Impute \"unknown\" or for categorical text values\n",
    "\n",
    "test_categorical_columns_imputed = categorical_imputer.transform(test_categorical_columns)"
   ]
  },
  {
   "cell_type": "markdown",
   "metadata": {},
   "source": [
    "### Convert back to Pandas"
   ]
  },
  {
   "cell_type": "code",
   "execution_count": null,
   "metadata": {},
   "outputs": [],
   "source": [
    "test_categorical_columns_imputed_df = pd.DataFrame(test_categorical_columns_imputed, \n",
    "                                      columns=test_categorical_columns.columns).reset_index(drop=True)\n",
    "\n",
    "test_categorical_columns_imputed_df.head()"
   ]
  },
  {
   "cell_type": "code",
   "execution_count": null,
   "metadata": {},
   "outputs": [],
   "source": [
    "test_categorical_columns_imputed_df['property_type'].value_counts()"
   ]
  },
  {
   "cell_type": "markdown",
   "metadata": {},
   "source": [
    "### One-hot-encoding\n",
    "Now let's preprocess the categorical variables using one-hot encoding"
   ]
  },
  {
   "cell_type": "code",
   "execution_count": null,
   "metadata": {},
   "outputs": [],
   "source": [
    "test_categorical_columns_1hot = cat_encoder.transform(test_categorical_columns_imputed_df)\n",
    "\n",
    "test_categorical_columns_1hot"
   ]
  },
  {
   "cell_type": "markdown",
   "metadata": {},
   "source": [
    "By default, the `OneHotEncoder` class returns a sparse array, but we can convert it to a dense array if needed by calling the `toarray()` method:"
   ]
  },
  {
   "cell_type": "code",
   "execution_count": null,
   "metadata": {},
   "outputs": [],
   "source": [
    "test_categorical_columns_1hot.toarray()"
   ]
  },
  {
   "cell_type": "code",
   "execution_count": null,
   "metadata": {},
   "outputs": [],
   "source": [
    "#One hot column names are still the same\n",
    "\n",
    "onehot_column_names"
   ]
  },
  {
   "cell_type": "markdown",
   "metadata": {},
   "source": [
    "### Convert back to Pandas"
   ]
  },
  {
   "cell_type": "code",
   "execution_count": null,
   "metadata": {},
   "outputs": [],
   "source": [
    "test_categorical_columns_1hot_df = pd.DataFrame(test_categorical_columns_1hot.toarray(), \n",
    "                                           columns = onehot_column_names).reset_index(drop=True)\n",
    "\n",
    "test_categorical_columns_1hot_df.head()"
   ]
  },
  {
   "cell_type": "markdown",
   "metadata": {},
   "source": [
    "## Do not transform the binary variables - test"
   ]
  },
  {
   "cell_type": "markdown",
   "metadata": {},
   "source": [
    "## Concatenate all variables - test"
   ]
  },
  {
   "cell_type": "code",
   "execution_count": null,
   "metadata": {},
   "outputs": [],
   "source": [
    "# Concatanete these variables to the existing data set:\n",
    "# add reset_index(drop=True), otherwise, it adds NaN rows\n",
    "\n",
    "test_prepared = pd.concat((test_numeric_columns_std_df.reset_index(drop=True), \n",
    "                           test_categorical_columns_1hot_df.reset_index(drop=True),\n",
    "                           test_binary_columns.reset_index(drop=True)), axis=1)\n",
    "\n",
    "# if you want to create a separate column for missing values, use dummy_na=True:\n",
    "# pd.get_dummies(df,dummy_na=True)\n",
    "\n",
    "test_prepared.shape"
   ]
  },
  {
   "cell_type": "code",
   "execution_count": null,
   "metadata": {},
   "outputs": [],
   "source": [
    "test_prepared.head()"
   ]
  },
  {
   "cell_type": "markdown",
   "metadata": {},
   "source": [
    "## What we didn't do:\n",
    "\n",
    "Visualization<br>\n",
    "Feature engineering<br>\n",
    "Conversion from continuous to categorical<br>\n",
    "Variable transformation (i.e., transform to normal distribution)<br>\n",
    "Stratified sampling <br>\n",
    "Pipeline <br>"
   ]
  },
  {
   "cell_type": "code",
   "execution_count": null,
   "metadata": {},
   "outputs": [],
   "source": []
  }
 ],
 "metadata": {
  "kernelspec": {
   "display_name": "Python 3 (ipykernel)",
   "language": "python",
   "name": "python3"
  },
  "language_info": {
   "codemirror_mode": {
    "name": "ipython",
    "version": 3
   },
   "file_extension": ".py",
   "mimetype": "text/x-python",
   "name": "python",
   "nbconvert_exporter": "python",
   "pygments_lexer": "ipython3",
   "version": "3.9.5"
  },
  "nav_menu": {
   "height": "279px",
   "width": "309px"
  },
  "toc": {
   "nav_menu": {},
   "number_sections": true,
   "sideBar": true,
   "skip_h1_title": false,
   "toc_cell": false,
   "toc_position": {},
   "toc_section_display": "block",
   "toc_window_display": false
  }
 },
 "nbformat": 4,
 "nbformat_minor": 1
}
