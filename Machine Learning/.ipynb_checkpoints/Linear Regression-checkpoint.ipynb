{
 "cells": [
  {
   "cell_type": "markdown",
   "id": "0a13f7c3",
   "metadata": {},
   "source": [
    "# Linear Regression\n",
    "> Supervised Learning\n",
    "> Regression -> Linear Regression e.g -> Predict price of the house based on size of the house (continuous data) x: size y: price\n",
    "> x -> y | y is dependant on x\n",
    "> Making predictions based on y = mx + b\n",
    "\n",
    "### How to\n",
    "> Start py using a hypothesis function f(x) = O.x"
   ]
  },
  {
   "cell_type": "code",
   "execution_count": 16,
   "id": "d9b5ccac",
   "metadata": {
    "ExecuteTime": {
     "end_time": "2022-02-02T06:16:18.933379Z",
     "start_time": "2022-02-02T06:16:18.204239Z"
    }
   },
   "outputs": [],
   "source": [
    "import pandas as pd\n",
    "import numpy as np\n",
    "import sklearn\n",
    "import matplotlib.pyplot as pyplot\n",
    "import pickle\n",
    "from sklearn import linear_model\n",
    "from sklearn.utils import shuffle\n",
    "from matplotlib import style"
   ]
  },
  {
   "cell_type": "code",
   "execution_count": 2,
   "id": "294a1aee",
   "metadata": {
    "ExecuteTime": {
     "end_time": "2022-02-02T06:20:48.452671Z",
     "start_time": "2022-02-02T06:20:48.436645Z"
    }
   },
   "outputs": [
    {
     "data": {
      "text/plain": [
       "<bound method NDFrame.head of     school sex  age address famsize Pstatus  Medu  Fedu      Mjob      Fjob  \\\n",
       "0       GP   F   18       U     GT3       A     4     4   at_home   teacher   \n",
       "1       GP   F   17       U     GT3       T     1     1   at_home     other   \n",
       "2       GP   F   15       U     LE3       T     1     1   at_home     other   \n",
       "3       GP   F   15       U     GT3       T     4     2    health  services   \n",
       "4       GP   F   16       U     GT3       T     3     3     other     other   \n",
       "..     ...  ..  ...     ...     ...     ...   ...   ...       ...       ...   \n",
       "390     MS   M   20       U     LE3       A     2     2  services  services   \n",
       "391     MS   M   17       U     LE3       T     3     1  services  services   \n",
       "392     MS   M   21       R     GT3       T     1     1     other     other   \n",
       "393     MS   M   18       R     LE3       T     3     2  services     other   \n",
       "394     MS   M   19       U     LE3       T     1     1     other   at_home   \n",
       "\n",
       "     ... famrel freetime  goout  Dalc  Walc health absences  G1  G2  G3  \n",
       "0    ...      4        3      4     1     1      3        6   5   6   6  \n",
       "1    ...      5        3      3     1     1      3        4   5   5   6  \n",
       "2    ...      4        3      2     2     3      3       10   7   8  10  \n",
       "3    ...      3        2      2     1     1      5        2  15  14  15  \n",
       "4    ...      4        3      2     1     2      5        4   6  10  10  \n",
       "..   ...    ...      ...    ...   ...   ...    ...      ...  ..  ..  ..  \n",
       "390  ...      5        5      4     4     5      4       11   9   9   9  \n",
       "391  ...      2        4      5     3     4      2        3  14  16  16  \n",
       "392  ...      5        5      3     3     3      3        3  10   8   7  \n",
       "393  ...      4        4      1     3     4      5        0  11  12  10  \n",
       "394  ...      3        2      3     3     3      5        5   8   9   9  \n",
       "\n",
       "[395 rows x 33 columns]>"
      ]
     },
     "execution_count": 2,
     "metadata": {},
     "output_type": "execute_result"
    }
   ],
   "source": [
    "data = pd.read_csv('student/student-mat.csv', sep=';')\n",
    "data.head"
   ]
  },
  {
   "cell_type": "code",
   "execution_count": 10,
   "id": "4770d789",
   "metadata": {
    "ExecuteTime": {
     "end_time": "2022-02-02T06:18:38.947131Z",
     "start_time": "2022-02-02T06:18:38.943128Z"
    }
   },
   "outputs": [
    {
     "data": {
      "text/plain": [
       "(395, 33)"
      ]
     },
     "execution_count": 10,
     "metadata": {},
     "output_type": "execute_result"
    }
   ],
   "source": [
    "data.shape"
   ]
  },
  {
   "cell_type": "code",
   "execution_count": 5,
   "id": "709538a0",
   "metadata": {
    "ExecuteTime": {
     "end_time": "2022-02-02T06:21:26.697040Z",
     "start_time": "2022-02-02T06:21:26.680036Z"
    },
    "scrolled": true
   },
   "outputs": [
    {
     "data": {
      "text/plain": [
       "<bound method NDFrame.head of      G1  G2  G3  studytime  failures  absences\n",
       "0     5   6   6          2         0         6\n",
       "1     5   5   6          2         0         4\n",
       "2     7   8  10          2         3        10\n",
       "3    15  14  15          3         0         2\n",
       "4     6  10  10          2         0         4\n",
       "..   ..  ..  ..        ...       ...       ...\n",
       "390   9   9   9          2         2        11\n",
       "391  14  16  16          1         0         3\n",
       "392  10   8   7          1         3         3\n",
       "393  11  12  10          1         0         0\n",
       "394   8   9   9          1         0         5\n",
       "\n",
       "[395 rows x 6 columns]>"
      ]
     },
     "execution_count": 5,
     "metadata": {},
     "output_type": "execute_result"
    }
   ],
   "source": [
    "# Trim data\n",
    "data = data[['G1', 'G2','G3', 'studytime', 'failures', 'absences']]\n",
    "data.head"
   ]
  },
  {
   "cell_type": "code",
   "execution_count": 16,
   "id": "24ba16cf",
   "metadata": {
    "ExecuteTime": {
     "end_time": "2022-02-02T06:22:13.958274Z",
     "start_time": "2022-02-02T06:22:13.955273Z"
    }
   },
   "outputs": [
    {
     "data": {
      "text/plain": [
       "Index(['G1', 'G2', 'G3', 'studytime', 'failures', 'absences'], dtype='object')"
      ]
     },
     "execution_count": 16,
     "metadata": {},
     "output_type": "execute_result"
    }
   ],
   "source": [
    "data.columns"
   ]
  },
  {
   "cell_type": "code",
   "execution_count": 17,
   "id": "d16de6ef",
   "metadata": {
    "ExecuteTime": {
     "end_time": "2022-02-02T06:22:40.795037Z",
     "start_time": "2022-02-02T06:22:40.787042Z"
    }
   },
   "outputs": [
    {
     "name": "stdout",
     "output_type": "stream",
     "text": [
      "G1\n",
      "G2\n",
      "G3\n",
      "studytime\n",
      "failures\n",
      "absences\n"
     ]
    }
   ],
   "source": [
    "for col in data.columns:\n",
    "    print(col)"
   ]
  },
  {
   "cell_type": "code",
   "execution_count": 4,
   "id": "5dfb03b6",
   "metadata": {
    "ExecuteTime": {
     "end_time": "2022-02-02T06:25:05.387418Z",
     "start_time": "2022-02-02T06:25:05.377422Z"
    }
   },
   "outputs": [],
   "source": [
    "# Predict G3, we want to predict G3 based on the other attributes\n",
    "predict = 'G3'"
   ]
  },
  {
   "cell_type": "code",
   "execution_count": 7,
   "id": "582318a3",
   "metadata": {},
   "outputs": [],
   "source": [
    "# slope m  = y2 - y1 / x2 - x1\n",
    "X = np.array(data.drop([predict], 1))\n",
    "y = np.array(data[predict])\n",
    "# Taking all of our attributes and labels and split them into 4 arrays\n",
    "x_train, x_test, y_train, y_test = sklearn.model_selection.train_test_split(X, y, test_size=0.1)"
   ]
  },
  {
   "cell_type": "code",
   "execution_count": 11,
   "id": "8167b2e7",
   "metadata": {},
   "outputs": [
    {
     "data": {
      "text/plain": [
       "0.6375097633111493"
      ]
     },
     "execution_count": 11,
     "metadata": {},
     "output_type": "execute_result"
    }
   ],
   "source": [
    "linear = linear_model.LinearRegression()\n",
    "linear.fit(x_train, y_train)\n",
    "accuracy = linear.score(x_test, y_test)\n",
    "accuracy"
   ]
  },
  {
   "cell_type": "code",
   "execution_count": 10,
   "id": "855ba1ee",
   "metadata": {},
   "outputs": [
    {
     "name": "stdout",
     "output_type": "stream",
     "text": [
      "Coefficient: [ 0.1839977   0.9420077  -0.09615882 -0.4299051   0.03711951]\n",
      "Intercept: -1.5900787952671713\n"
     ]
    }
   ],
   "source": [
    "print(f'Coefficient: {linear.coef_}')\n",
    "print(f'Intercept: {linear.intercept_}')"
   ]
  },
  {
   "cell_type": "code",
   "execution_count": 13,
   "id": "c5338432",
   "metadata": {},
   "outputs": [
    {
     "name": "stdout",
     "output_type": "stream",
     "text": [
      "12.75 [12 13  2  0  2] 13\n",
      "8.05 [ 9  9  2  2 15] 9\n",
      "14.12 [15 14  4  0  4] 14\n",
      "12.93 [13 13  2  0  2] 13\n",
      "11.85 [13 12  3  0  1] 12\n",
      "12.76 [13 13  3  0  0] 13\n",
      "9.55 [10 10  2  0  2] 10\n",
      "11.71 [12 12  3  0  2] 11\n",
      "7.23 [8 8 2 0 0] 9\n",
      "6.26 [ 6  8  1  3 16] 8\n",
      "9.35 [ 8 10  1  0  4] 10\n",
      "7.14 [ 9  7  2  0 18] 6\n",
      "16.42 [17 16  2  0  0] 17\n",
      "15.18 [15 15  2  0  2] 14\n",
      "13.38 [13 13  2  0 14] 14\n",
      "12.86 [13 13  2  0  0] 12\n",
      "12.86 [13 13  2  0  0] 13\n",
      "14.92 [14 15  2  0  0] 16\n",
      "9.21 [ 8 10  1  0  0] 11\n",
      "15.79 [16 15  3  0 16] 15\n",
      "12.18 [12 12  2  0 12] 11\n",
      "6.12 [ 7  8  2  3 10] 10\n",
      "12.21 [12 12  2  0 13] 13\n",
      "14.23 [14 14  1  0  4] 14\n",
      "12.55 [10 13  1  0  4] 14\n",
      "13.75 [11 14  1  0  6] 14\n",
      "10.68 [11 11  2  0  2] 11\n",
      "8.34 [10  9  4  0  0] 0\n",
      "12.56 [11 13  2  0  2] 13\n",
      "8.89 [ 6 10  2  0  4] 10\n",
      "14.65 [12 15  1  0  0] 15\n",
      "11.92 [11 12  2  0 10] 13\n",
      "10.05 [ 8 11  2  0  0] 11\n",
      "12.96 [14 13  3  1 12] 13\n",
      "11.8 [12 12  2  0  2] 11\n",
      "6.11 [8 8 1 3 2] 10\n",
      "5.38 [5 8 2 3 0] 7\n",
      "11.97 [12 12  1  0  4] 13\n",
      "13.43 [14 13  1  0  8] 13\n",
      "7.9 [ 9  9  2  2 11] 9\n"
     ]
    }
   ],
   "source": [
    "# Predict student information\n",
    "predictions = linear.predict(x_test)\n",
    "\n",
    "for i in range(len(predictions)):\n",
    "    print(round(predictions[i], 2), x_test[i], y_test[i])"
   ]
  },
  {
   "cell_type": "code",
   "execution_count": 17,
   "id": "cb4d7083",
   "metadata": {},
   "outputs": [],
   "source": [
    "# save model in pickle\n",
    "with open('studentmodel.pickle', 'wb') as f:\n",
    "    pickle.dump(linear, f)"
   ]
  },
  {
   "cell_type": "code",
   "execution_count": 18,
   "id": "6499718e",
   "metadata": {},
   "outputs": [],
   "source": [
    "pickle_in = open('studentmodel.pickle', 'rb')\n",
    "linear = pickle.load(pickle_in)"
   ]
  },
  {
   "cell_type": "code",
   "execution_count": 35,
   "id": "cd139810",
   "metadata": {},
   "outputs": [
    {
     "name": "stdout",
     "output_type": "stream",
     "text": [
      "0.8734754712399047\n",
      "0.876668913631629\n",
      "0.8826083321598908\n",
      "0.8838541537804395\n",
      "0.924824259294463\n",
      "0.926424444644612\n",
      "0.9396235279261187\n",
      "0.9670642168725462\n"
     ]
    },
    {
     "data": {
      "text/plain": [
       "0.9670642168725462"
      ]
     },
     "execution_count": 35,
     "metadata": {},
     "output_type": "execute_result"
    }
   ],
   "source": [
    "highest_acc = 0\n",
    "\n",
    "for _ in range(1000):\n",
    "    X = np.array(data.drop([predict], 1))\n",
    "    y = np.array(data[predict])\n",
    "    # Taking all of our attributes and labels and split them into 4 arrays\n",
    "    x_train, x_test, y_train, y_test = sklearn.model_selection.train_test_split(X, y, test_size=0.1)\n",
    "    linear = linear_model.LinearRegression()\n",
    "    linear.fit(x_train, y_train)\n",
    "    accuracy = linear.score(x_test, y_test)\n",
    "    if accuracy > highest_acc:\n",
    "        highest_acc = accuracy\n",
    "        with open('studentmodel.pickle', 'wb') as f:\n",
    "            pickle.dump(linear, f)\n",
    "            print(accuracy)\n",
    "            \n",
    "pickle_in = open('studentmodel.pickle', 'rb')\n",
    "linear = pickle.load(pickle_in)\n",
    "highest_acc"
   ]
  },
  {
   "cell_type": "code",
   "execution_count": 38,
   "id": "9117ed63",
   "metadata": {},
   "outputs": [
    {
     "name": "stdout",
     "output_type": "stream",
     "text": [
      "3.89 [ 6  5  1  3 16] 5 0.97\n",
      "11.89 [14 11  1  0 18] 13 0.97\n",
      "13.93 [14 14  3  0  4] 14 0.97\n",
      "9.23 [11  9  1  1 19] 10 0.97\n",
      "13.89 [12 14  1  0  0] 15 0.97\n",
      "11.76 [14 12  2  1  0] 12 0.97\n",
      "12.62 [11 13  2  0  2] 14 0.97\n",
      "4.1 [6 5 2 0 6] 6 0.97\n",
      "13.84 [13 14  2  0  0] 15 0.97\n",
      "11.25 [12 11  1  1 16] 12 0.97\n"
     ]
    }
   ],
   "source": [
    "# Predict student information\n",
    "predictions = linear.predict(x_test)\n",
    "\n",
    "for i in range(len(predictions))[:10]:\n",
    "    print(round(predictions[i], 2), x_test[i], y_test[i], round(highest_acc, 2))"
   ]
  },
  {
   "cell_type": "code",
   "execution_count": 40,
   "id": "4e3900b3",
   "metadata": {},
   "outputs": [
    {
     "data": {
      "image/png": "[encoded data removed]",
      "text/plain": [
       "<Figure size 432x288 with 1 Axes>"
      ]
     },
     "metadata": {},
     "output_type": "display_data"
    }
   ],
   "source": [
    "p = 'absences'\n",
    "style.use('ggplot')\n",
    "pyplot.scatter(data[p], data['G3'])\n",
    "pyplot.xlabel(p)\n",
    "pyplot.ylabel('Final Grade')\n",
    "pyplot.show()"
   ]
  },
  {
   "cell_type": "code",
   "execution_count": null,
   "id": "8352dbe3",
   "metadata": {},
   "outputs": [],
   "source": []
  }
 ],
 "metadata": {
  "kernelspec": {
   "display_name": "Python 3 (ipykernel)",
   "language": "python",
   "name": "python3"
  },
  "language_info": {
   "codemirror_mode": {
    "name": "ipython",
    "version": 3
   },
   "file_extension": ".py",
   "mimetype": "text/x-python",
   "name": "python",
   "nbconvert_exporter": "python",
   "pygments_lexer": "ipython3",
   "version": "3.9.5"
  }
 },
 "nbformat": 4,
 "nbformat_minor": 5
}
