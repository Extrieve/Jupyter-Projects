{
 "cells": [
  {
   "cell_type": "code",
   "execution_count": 23,
   "id": "62980c01",
   "metadata": {},
   "outputs": [],
   "source": [
    "import torch\n",
    "import numpy as np"
   ]
  },
  {
   "cell_type": "code",
   "execution_count": 8,
   "id": "d1726bfd",
   "metadata": {},
   "outputs": [
    {
     "name": "stdout",
     "output_type": "stream",
     "text": [
      "torch.Size([2, 2])\n"
     ]
    },
    {
     "data": {
      "text/plain": [
       "tensor([1, 2, 3, 4, 5])"
      ]
     },
     "execution_count": 8,
     "metadata": {},
     "output_type": "execute_result"
    }
   ],
   "source": [
    "# You can decide the shape of the tensor (similar to arrays)\n",
    "x = torch.empty(2,3)\n",
    "\n",
    "# Initializing a tensor with random values | There are similar initialization methods to numpy.\n",
    "y = torch.rand(2, 2)\n",
    "print(y.size())\n",
    "\n",
    "# You can also initialize a tensor by providing a list/tuple\n",
    "mylist = [1,2,3,4,5]\n",
    "mytensor = torch.tensor(mylist)\n",
    "mytensor"
   ]
  },
  {
   "cell_type": "code",
   "execution_count": 13,
   "id": "6efbc350",
   "metadata": {},
   "outputs": [
    {
     "name": "stdout",
     "output_type": "stream",
     "text": [
      "tensor([[0.9424, 0.9904],\n",
      "        [0.3153, 0.9094]])\n",
      "tensor([[0.9424, 0.9904],\n",
      "        [0.3153, 0.9094]])\n",
      "tensor([[-0.2738, -0.6109],\n",
      "        [-0.0213, -0.1670]])\n"
     ]
    }
   ],
   "source": [
    "# Basic tensor operations\n",
    "xTensor = torch.rand(2,2)\n",
    "yTensor = torch.rand(2,2)\n",
    "zTensor = xTensor + yTensor\n",
    "print(zTensor)\n",
    "\n",
    "# We can also do inplace additions\n",
    "yTensor.add_(xTensor)\n",
    "print(yTensor)\n",
    "\n",
    "# Subtraction\n",
    "difference = xTensor - yTensor\n",
    "difference = torch.sub(xTensor, yTensor)\n",
    "print(difference)\n",
    "\n",
    "# Multiplication + inplace multiplication\n",
    "product = xTensor * yTensor\n",
    "product = torch.mul(xTensor, yTensor)\n",
    "yTensor.mul_(xTensor)\n",
    "print(difference)"
   ]
  },
  {
   "cell_type": "code",
   "execution_count": 19,
   "id": "0da94953",
   "metadata": {},
   "outputs": [
    {
     "data": {
      "text/plain": [
       "tensor([0.4226, 0.5123, 0.8428, 0.1058])"
      ]
     },
     "execution_count": 19,
     "metadata": {},
     "output_type": "execute_result"
    }
   ],
   "source": [
    "# Manipulating data selection within the tensor\n",
    "myTensor = torch.rand(4,4)\n",
    "myTensor[:,1]"
   ]
  },
  {
   "cell_type": "code",
   "execution_count": 22,
   "id": "17befefd",
   "metadata": {},
   "outputs": [
    {
     "name": "stdout",
     "output_type": "stream",
     "text": [
      "tensor([[0.8037, 0.9524, 0.5910, 0.7497],\n",
      "        [0.6863, 0.7238, 0.8308, 0.2597],\n",
      "        [0.2538, 0.3676, 0.8561, 0.5982],\n",
      "        [0.3238, 0.4280, 0.5869, 0.0465]])\n",
      "tensor([0.8037, 0.9524, 0.5910, 0.7497, 0.6863, 0.7238, 0.8308, 0.2597, 0.2538,\n",
      "        0.3676, 0.8561, 0.5982, 0.3238, 0.4280, 0.5869, 0.0465])\n",
      "torch.Size([2, 8])\n"
     ]
    }
   ],
   "source": [
    "# Reshaping a tensor, number of elements must match.\n",
    "x = torch.rand(4,4)\n",
    "print(x)\n",
    "y = x.view(16)\n",
    "print(y)\n",
    "\n",
    "# If you don't know one of the dimensions you can your tensor to take we can do this.\n",
    "y = x.view(2, -1)\n",
    "print(y.size())"
   ]
  },
  {
   "cell_type": "code",
   "execution_count": 37,
   "id": "6be2632e",
   "metadata": {},
   "outputs": [
    {
     "name": "stdout",
     "output_type": "stream",
     "text": [
      "<class 'torch.Tensor'>\n",
      "<class 'numpy.ndarray'>\n",
      "<class 'numpy.ndarray'> \n",
      "[[0. 0. 0. 0. 0.]\n",
      " [0. 0. 0. 0. 0.]\n",
      " [0. 0. 0. 0. 0.]\n",
      " [0. 0. 0. 0. 0.]\n",
      " [0. 0. 0. 0. 0.]]\n",
      "<class 'torch.Tensor'> \n",
      "tensor([[0., 0., 0., 0., 0.],\n",
      "        [0., 0., 0., 0., 0.],\n",
      "        [0., 0., 0., 0., 0.],\n",
      "        [0., 0., 0., 0., 0.],\n",
      "        [0., 0., 0., 0., 0.]], dtype=torch.float64)\n"
     ]
    }
   ],
   "source": [
    "# Converting numpy to pytorch\n",
    "a = torch.ones(5)\n",
    "print(type(a))\n",
    "b = a.numpy()\n",
    "print(type(b))\n",
    "\n",
    "c = np.zeros([5,5])\n",
    "print(type(c), f'\\n{c}')\n",
    "d = torch.from_numpy(c)\n",
    "print(type(d), f'\\n{d}')"
   ]
  },
  {
   "cell_type": "code",
   "execution_count": 36,
   "id": "130218bc",
   "metadata": {},
   "outputs": [],
   "source": [
    "# Checking if CUDA is available\n",
    "if torch.cuda.is_available():\n",
    "    print('YES')"
   ]
  },
  {
   "cell_type": "code",
   "execution_count": null,
   "id": "10a76b11",
   "metadata": {},
   "outputs": [],
   "source": []
  }
 ],
 "metadata": {
  "kernelspec": {
   "display_name": "Python 3",
   "language": "python",
   "name": "python3"
  },
  "language_info": {
   "codemirror_mode": {
    "name": "ipython",
    "version": 3
   },
   "file_extension": ".py",
   "mimetype": "text/x-python",
   "name": "python",
   "nbconvert_exporter": "python",
   "pygments_lexer": "ipython3",
   "version": "3.8.8"
  }
 },
 "nbformat": 4,
 "nbformat_minor": 5
}
