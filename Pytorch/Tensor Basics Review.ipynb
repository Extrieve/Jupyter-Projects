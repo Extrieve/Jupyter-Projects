{
 "cells": [
  {
   "cell_type": "code",
   "execution_count": 6,
   "id": "a776da38",
   "metadata": {},
   "outputs": [],
   "source": [
    "import torch\n",
    "import numpy as np"
   ]
  },
  {
   "cell_type": "code",
   "execution_count": 2,
   "id": "1be4f8aa",
   "metadata": {},
   "outputs": [
    {
     "data": {
      "text/plain": [
       "True"
      ]
     },
     "execution_count": 2,
     "metadata": {},
     "output_type": "execute_result"
    }
   ],
   "source": [
    "torch.cuda.is_available()"
   ]
  },
  {
   "cell_type": "markdown",
   "id": "42542be1",
   "metadata": {},
   "source": [
    "## Tensor Initialization\n",
    "> Similar to arrays in NumPy (very similar)"
   ]
  },
  {
   "cell_type": "code",
   "execution_count": 3,
   "id": "617d31fd",
   "metadata": {},
   "outputs": [
    {
     "data": {
      "text/plain": [
       "tensor([1.0102e-38])"
      ]
     },
     "execution_count": 3,
     "metadata": {},
     "output_type": "execute_result"
    }
   ],
   "source": [
    "# Print an empty tensor\n",
    "x = torch.empty(1)\n",
    "x"
   ]
  },
  {
   "cell_type": "code",
   "execution_count": 5,
   "id": "894962a5",
   "metadata": {},
   "outputs": [
    {
     "data": {
      "text/plain": [
       "tensor([1.4013e-45, 0.0000e+00, 0.0000e+00])"
      ]
     },
     "execution_count": 5,
     "metadata": {},
     "output_type": "execute_result"
    }
   ],
   "source": [
    "# Create an empty tensor with 3 elements\n",
    "x = torch.empty(3)\n",
    "x"
   ]
  },
  {
   "cell_type": "code",
   "execution_count": 6,
   "id": "9b24c13a",
   "metadata": {},
   "outputs": [
    {
     "data": {
      "text/plain": [
       "tensor([[9.0919e-39, 9.2755e-39, 2.9389e-39, 1.0286e-38, 1.0469e-38],\n",
       "        [1.0653e-38, 1.0194e-38, 2.9389e-39, 1.0194e-38, 9.9184e-39],\n",
       "        [2.9389e-39, 1.0194e-38, 2.9389e-39, 9.2755e-39, 9.0918e-39],\n",
       "        [1.0010e-38, 9.9184e-39, 1.0653e-38, 9.1837e-39, 9.6428e-39]])"
      ]
     },
     "execution_count": 6,
     "metadata": {},
     "output_type": "execute_result"
    }
   ],
   "source": [
    "# Multidimension empty tensor\n",
    "y = torch.empty(4,5)\n",
    "y"
   ]
  },
  {
   "cell_type": "code",
   "execution_count": 8,
   "id": "3c7f8cc2",
   "metadata": {},
   "outputs": [
    {
     "data": {
      "text/plain": [
       "tensor([[0.9122, 0.3889, 0.3642],\n",
       "        [0.8938, 0.7431, 0.9723],\n",
       "        [0.9181, 0.8056, 0.9440]])"
      ]
     },
     "execution_count": 8,
     "metadata": {},
     "output_type": "execute_result"
    }
   ],
   "source": [
    "# Create a multidimensional tensor of random values\n",
    "myTensor = torch.rand(3,3)\n",
    "myTensor"
   ]
  },
  {
   "cell_type": "code",
   "execution_count": 9,
   "id": "f67ec6e9",
   "metadata": {},
   "outputs": [
    {
     "data": {
      "text/plain": [
       "tensor([[1., 1., 1.],\n",
       "        [1., 1., 1.],\n",
       "        [1., 1., 1.]], dtype=torch.float16)"
      ]
     },
     "execution_count": 9,
     "metadata": {},
     "output_type": "execute_result"
    }
   ],
   "source": [
    "# Create a tensor of ones with a specific data type\n",
    "x = torch.ones(3,3, dtype=torch.float16)\n",
    "x"
   ]
  },
  {
   "cell_type": "code",
   "execution_count": 10,
   "id": "9e2c7027",
   "metadata": {},
   "outputs": [
    {
     "data": {
      "text/plain": [
       "tensor([[0, 1, 2, 3, 4, 5, 6, 7, 8, 9]])"
      ]
     },
     "execution_count": 10,
     "metadata": {},
     "output_type": "execute_result"
    }
   ],
   "source": [
    "# Create a tensor from a python list\n",
    "mylist = [range(10)]\n",
    "x = torch.tensor(mylist)\n",
    "x"
   ]
  },
  {
   "cell_type": "code",
   "execution_count": 12,
   "id": "a21b5e21",
   "metadata": {},
   "outputs": [
    {
     "data": {
      "text/plain": [
       "torch.int64"
      ]
     },
     "execution_count": 12,
     "metadata": {},
     "output_type": "execute_result"
    }
   ],
   "source": [
    "x.dtype"
   ]
  },
  {
   "cell_type": "markdown",
   "id": "062da64f",
   "metadata": {},
   "source": [
    "## Vector Operations"
   ]
  },
  {
   "cell_type": "code",
   "execution_count": 15,
   "id": "b2f2a131",
   "metadata": {},
   "outputs": [
    {
     "name": "stdout",
     "output_type": "stream",
     "text": [
      "tensor([[0.7699, 0.8426, 0.8165],\n",
      "        [0.8363, 0.5198, 0.1512],\n",
      "        [0.0243, 0.4745, 0.7425]])\n",
      "tensor([[0.7932, 0.5733, 0.3395],\n",
      "        [0.7518, 0.2858, 0.6651],\n",
      "        [0.8218, 0.8413, 0.2651]])\n"
     ]
    },
    {
     "data": {
      "text/plain": [
       "tensor([[1.5632, 1.4159, 1.1560],\n",
       "        [1.5881, 0.8056, 0.8162],\n",
       "        [0.8461, 1.3157, 1.0075]])"
      ]
     },
     "execution_count": 15,
     "metadata": {},
     "output_type": "execute_result"
    }
   ],
   "source": [
    "# Adding tensors\n",
    "x = torch.rand(3,3)\n",
    "y = torch.rand(3,3)\n",
    "print(x)\n",
    "print(y)\n",
    "x + y"
   ]
  },
  {
   "cell_type": "code",
   "execution_count": 17,
   "id": "93982da7",
   "metadata": {},
   "outputs": [
    {
     "data": {
      "text/plain": [
       "tensor([[11., 11., 11.],\n",
       "        [11., 11., 11.],\n",
       "        [11., 11., 11.]])"
      ]
     },
     "execution_count": 17,
     "metadata": {},
     "output_type": "execute_result"
    }
   ],
   "source": [
    "# In place addition\n",
    "x = torch.ones(3,3)\n",
    "x.add_(10)\n",
    "x"
   ]
  },
  {
   "cell_type": "code",
   "execution_count": 18,
   "id": "3ab09b48",
   "metadata": {},
   "outputs": [
    {
     "data": {
      "text/plain": [
       "tensor([[1., 1., 1.],\n",
       "        [1., 1., 1.],\n",
       "        [1., 1., 1.]])"
      ]
     },
     "execution_count": 18,
     "metadata": {},
     "output_type": "execute_result"
    }
   ],
   "source": [
    "# In place subtraction\n",
    "x.sub_(10)\n",
    "x"
   ]
  },
  {
   "cell_type": "code",
   "execution_count": 23,
   "id": "bdca126b",
   "metadata": {},
   "outputs": [
    {
     "data": {
      "text/plain": [
       "0.2212369441986084"
      ]
     },
     "execution_count": 23,
     "metadata": {},
     "output_type": "execute_result"
    }
   ],
   "source": [
    "# We can do tensor splicing, if there is only 1 item in the selection you can use the '.item' method to return\n",
    "# the actual value\n",
    "x = torch.rand(3,3)\n",
    "x[1,1].item()"
   ]
  },
  {
   "cell_type": "markdown",
   "id": "bc9bee3d",
   "metadata": {},
   "source": [
    "## Tensor Reshaping"
   ]
  },
  {
   "cell_type": "code",
   "execution_count": 3,
   "id": "b83481d3",
   "metadata": {},
   "outputs": [
    {
     "data": {
      "text/plain": [
       "tensor([[0.1944, 0.2073, 0.6719, 0.2220, 0.1411],\n",
       "        [0.3886, 0.4526, 0.0555, 0.2639, 0.0583],\n",
       "        [0.7172, 0.9193, 0.6267, 0.6400, 0.3765],\n",
       "        [0.7822, 0.3764, 0.3646, 0.0594, 0.6730]])"
      ]
     },
     "execution_count": 3,
     "metadata": {},
     "output_type": "execute_result"
    }
   ],
   "source": [
    "x = torch.rand(4,5)\n",
    "x"
   ]
  },
  {
   "cell_type": "code",
   "execution_count": 31,
   "id": "7ea526e8",
   "metadata": {},
   "outputs": [
    {
     "data": {
      "text/plain": [
       "tensor([[0.4969, 0.0623, 0.4663, 0.3808],\n",
       "        [0.6823, 0.2842, 0.8329, 0.1135],\n",
       "        [0.3212, 0.7148, 0.3626, 0.3001],\n",
       "        [0.1425, 0.2618, 0.3999, 0.2478],\n",
       "        [0.6387, 0.8321, 0.4653, 0.6576]])"
      ]
     },
     "execution_count": 31,
     "metadata": {},
     "output_type": "execute_result"
    }
   ],
   "source": [
    "x = x.reshape(5,4)\n",
    "x"
   ]
  },
  {
   "cell_type": "code",
   "execution_count": 4,
   "id": "9b736fb7",
   "metadata": {},
   "outputs": [
    {
     "data": {
      "text/plain": [
       "tensor([0.1944, 0.2073, 0.6719, 0.2220, 0.1411, 0.3886, 0.4526, 0.0555, 0.2639,\n",
       "        0.0583, 0.7172, 0.9193, 0.6267, 0.6400, 0.3765, 0.7822, 0.3764, 0.3646,\n",
       "        0.0594, 0.6730])"
      ]
     },
     "execution_count": 4,
     "metadata": {},
     "output_type": "execute_result"
    }
   ],
   "source": [
    "# Reshaping into 1 dimension\n",
    "z = x.reshape(20)\n",
    "z"
   ]
  },
  {
   "cell_type": "code",
   "execution_count": 5,
   "id": "0cf6d230",
   "metadata": {},
   "outputs": [
    {
     "data": {
      "text/plain": [
       "torch.Size([10, 2])"
      ]
     },
     "execution_count": 5,
     "metadata": {},
     "output_type": "execute_result"
    }
   ],
   "source": [
    "# Figure out the dimensions and automatically reshape a tensor.\n",
    "y = x.view(-1, 2)\n",
    "y.shape"
   ]
  },
  {
   "cell_type": "markdown",
   "id": "1858cc63",
   "metadata": {},
   "source": [
    "## Transform Tensor into NumPy Array"
   ]
  },
  {
   "cell_type": "code",
   "execution_count": 7,
   "id": "e0f8dff9",
   "metadata": {},
   "outputs": [
    {
     "data": {
      "text/plain": [
       "tensor([1., 1., 1., 1., 1.])"
      ]
     },
     "execution_count": 7,
     "metadata": {},
     "output_type": "execute_result"
    }
   ],
   "source": [
    "a = torch.ones(5)\n",
    "a"
   ]
  },
  {
   "cell_type": "code",
   "execution_count": 9,
   "id": "a8a7524d",
   "metadata": {},
   "outputs": [
    {
     "data": {
      "text/plain": [
       "numpy.ndarray"
      ]
     },
     "execution_count": 9,
     "metadata": {},
     "output_type": "execute_result"
    }
   ],
   "source": [
    "# Transform tensor into numpy array\n",
    "b = a.numpy()\n",
    "type(b)"
   ]
  },
  {
   "cell_type": "code",
   "execution_count": 10,
   "id": "2bbcc276",
   "metadata": {},
   "outputs": [
    {
     "data": {
      "text/plain": [
       "tensor([11., 11., 11., 11., 11.])"
      ]
     },
     "execution_count": 10,
     "metadata": {},
     "output_type": "execute_result"
    }
   ],
   "source": [
    "a.add_(10)\n",
    "a"
   ]
  },
  {
   "cell_type": "code",
   "execution_count": 11,
   "id": "c9231141",
   "metadata": {},
   "outputs": [
    {
     "data": {
      "text/plain": [
       "array([11., 11., 11., 11., 11.], dtype=float32)"
      ]
     },
     "execution_count": 11,
     "metadata": {},
     "output_type": "execute_result"
    }
   ],
   "source": [
    "b"
   ]
  },
  {
   "cell_type": "code",
   "execution_count": 12,
   "id": "8d0741ce",
   "metadata": {},
   "outputs": [
    {
     "data": {
      "text/plain": [
       "True"
      ]
     },
     "execution_count": 12,
     "metadata": {},
     "output_type": "execute_result"
    }
   ],
   "source": [
    "torch.cuda.is_available()"
   ]
  },
  {
   "cell_type": "code",
   "execution_count": 13,
   "id": "ea372f34",
   "metadata": {},
   "outputs": [
    {
     "data": {
      "text/plain": [
       "torch.Tensor"
      ]
     },
     "execution_count": 13,
     "metadata": {},
     "output_type": "execute_result"
    }
   ],
   "source": [
    "# Comvert numpy array to tensor\n",
    "a = np.ones(10)\n",
    "b = torch.from_numpy(a)\n",
    "type(b)"
   ]
  },
  {
   "cell_type": "markdown",
   "id": "366b6b44",
   "metadata": {},
   "source": [
    "## Perform operations on the GPU"
   ]
  },
  {
   "cell_type": "code",
   "execution_count": 14,
   "id": "d0598ce7",
   "metadata": {},
   "outputs": [],
   "source": [
    "if torch.cuda.is_available():\n",
    "    device = torch.device('cuda')\n",
    "    # Specify the device\n",
    "    x = torch.ones(5, device=device)\n",
    "    \n",
    "    # Move a tensor from the CPU to the GPU\n",
    "    y = torch.rand(5)\n",
    "    y = y.to(device)\n",
    "    x + y"
   ]
  },
  {
   "cell_type": "code",
   "execution_count": 15,
   "id": "c6db3db1",
   "metadata": {},
   "outputs": [
    {
     "data": {
      "text/plain": [
       "tensor([1.5660, 1.6211, 1.2929, 1.9677, 1.9749], device='cuda:0')"
      ]
     },
     "execution_count": 15,
     "metadata": {},
     "output_type": "execute_result"
    }
   ],
   "source": [
    "x + y"
   ]
  },
  {
   "cell_type": "code",
   "execution_count": null,
   "id": "7e39e2f6",
   "metadata": {},
   "outputs": [],
   "source": []
  }
 ],
 "metadata": {
  "kernelspec": {
   "display_name": "Python 3 (ipykernel)",
   "language": "python",
   "name": "python3"
  },
  "language_info": {
   "codemirror_mode": {
    "name": "ipython",
    "version": 3
   },
   "file_extension": ".py",
   "mimetype": "text/x-python",
   "name": "python",
   "nbconvert_exporter": "python",
   "pygments_lexer": "ipython3",
   "version": "3.9.5"
  }
 },
 "nbformat": 4,
 "nbformat_minor": 5
}
