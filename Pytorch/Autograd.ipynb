{
 "cells": [
  {
   "cell_type": "code",
   "execution_count": 1,
   "id": "dffd57a3",
   "metadata": {},
   "outputs": [],
   "source": [
    "import torch"
   ]
  },
  {
   "cell_type": "code",
   "execution_count": 20,
   "id": "b4b068ce",
   "metadata": {},
   "outputs": [
    {
     "data": {
      "text/plain": [
       "tensor([ 1.0551,  0.7340, -0.9781], requires_grad=True)"
      ]
     },
     "execution_count": 20,
     "metadata": {},
     "output_type": "execute_result"
    }
   ],
   "source": [
    "# Must specificy the gradient arg if we want to calculate it later\n",
    "x = torch.randn(3, requires_grad=True)\n",
    "x"
   ]
  },
  {
   "cell_type": "code",
   "execution_count": 5,
   "id": "1a4d1933",
   "metadata": {},
   "outputs": [
    {
     "data": {
      "text/plain": [
       "tensor([1.2633, 1.7773, 2.9491], grad_fn=<AddBackward0>)"
      ]
     },
     "execution_count": 5,
     "metadata": {},
     "output_type": "execute_result"
    }
   ],
   "source": [
    "# Calculate the gradient f(x)\n",
    "# Calculates the computational graph\n",
    "y = x+2\n",
    "y"
   ]
  },
  {
   "cell_type": "code",
   "execution_count": 15,
   "id": "306091d6",
   "metadata": {},
   "outputs": [
    {
     "data": {
      "text/plain": [
       "tensor([ 3.1917,  6.3173, 17.3946], grad_fn=<MulBackward0>)"
      ]
     },
     "execution_count": 15,
     "metadata": {},
     "output_type": "execute_result"
    }
   ],
   "source": [
    "z = y*y*2\n",
    "z"
   ]
  },
  {
   "cell_type": "code",
   "execution_count": 13,
   "id": "c8746f4f",
   "metadata": {},
   "outputs": [],
   "source": [
    "z = z.mean()"
   ]
  },
  {
   "cell_type": "code",
   "execution_count": 14,
   "id": "3bbc7247",
   "metadata": {},
   "outputs": [
    {
     "data": {
      "text/plain": [
       "tensor([3.3687, 4.7394, 7.8643])"
      ]
     },
     "execution_count": 14,
     "metadata": {},
     "output_type": "execute_result"
    }
   ],
   "source": [
    "# Calculate the gradient of Z with respect to X\n",
    "z.backward() #dz/dx | Since z is a scala value we don't have to use an arg inside the func\n",
    "x.grad"
   ]
  },
  {
   "cell_type": "code",
   "execution_count": 16,
   "id": "60a958eb",
   "metadata": {},
   "outputs": [
    {
     "data": {
      "text/plain": [
       "tensor([ 3.8741, 11.8484,  7.8761])"
      ]
     },
     "execution_count": 16,
     "metadata": {},
     "output_type": "execute_result"
    }
   ],
   "source": [
    "# Without scala values\n",
    "v = torch.tensor([0.1, 1.0, 0.001], dtype=torch.float32)\n",
    "z.backward(v)\n",
    "x.grad"
   ]
  },
  {
   "cell_type": "markdown",
   "id": "445afedb",
   "metadata": {},
   "source": [
    "### Prevent Gradient Tracking"
   ]
  },
  {
   "cell_type": "code",
   "execution_count": 17,
   "id": "bc9ffb68",
   "metadata": {},
   "outputs": [],
   "source": [
    "# Disable gradient tracking from x e.g x.requires_grad_(false)\n",
    "# x.detach() -> creates a new tensor that does not require the gradient\n",
    "# wrap using with -> with torch.no_grad():"
   ]
  },
  {
   "cell_type": "code",
   "execution_count": 19,
   "id": "8b9b4286",
   "metadata": {},
   "outputs": [
    {
     "data": {
      "text/plain": [
       "tensor([-0.7367, -0.2227,  0.9491])"
      ]
     },
     "execution_count": 19,
     "metadata": {},
     "output_type": "execute_result"
    }
   ],
   "source": [
    "# Disable gradient tracking from x e.g x.requires_grad_(false)\n",
    "x.requires_grad_(False)\n",
    "x"
   ]
  },
  {
   "cell_type": "code",
   "execution_count": 21,
   "id": "652cfed4",
   "metadata": {},
   "outputs": [
    {
     "data": {
      "text/plain": [
       "tensor([ 1.0551,  0.7340, -0.9781])"
      ]
     },
     "execution_count": 21,
     "metadata": {},
     "output_type": "execute_result"
    }
   ],
   "source": [
    "# x.detach() -> creates a new tensor that does not require the gradient\n",
    "yy = x.detach()\n",
    "yy"
   ]
  },
  {
   "cell_type": "code",
   "execution_count": 25,
   "id": "9632bbd0",
   "metadata": {},
   "outputs": [
    {
     "data": {
      "text/plain": [
       "tensor([3.0551, 2.7340, 1.0219])"
      ]
     },
     "execution_count": 25,
     "metadata": {},
     "output_type": "execute_result"
    }
   ],
   "source": [
    "# wrap using with -> with torch.no_grad():\n",
    "with torch.no_grad():\n",
    "    yy = x + 2\n",
    "yy"
   ]
  },
  {
   "cell_type": "markdown",
   "id": "bd24b2b6",
   "metadata": {},
   "source": [
    "### Dummy Example"
   ]
  },
  {
   "cell_type": "code",
   "execution_count": 29,
   "id": "fab651dc",
   "metadata": {},
   "outputs": [],
   "source": [
    "weights = torch.ones(4, requires_grad=True)"
   ]
  },
  {
   "cell_type": "code",
   "execution_count": 30,
   "id": "05880979",
   "metadata": {},
   "outputs": [
    {
     "data": {
      "text/plain": [
       "tensor([3., 3., 3., 3.])"
      ]
     },
     "execution_count": 30,
     "metadata": {},
     "output_type": "execute_result"
    }
   ],
   "source": [
    "for epoch in range(1):\n",
    "    model_output = ((weights * 3).sum())\n",
    "    \n",
    "    model_output.backward()\n",
    "    \n",
    "weights.grad"
   ]
  },
  {
   "cell_type": "code",
   "execution_count": 31,
   "id": "27bab2fe",
   "metadata": {},
   "outputs": [
    {
     "data": {
      "text/plain": [
       "tensor([9., 9., 9., 9.])"
      ]
     },
     "execution_count": 31,
     "metadata": {},
     "output_type": "execute_result"
    }
   ],
   "source": [
    "# Notice how the values are accumulating\n",
    "for epoch in range(2):\n",
    "    model_output = ((weights * 3).sum())\n",
    "    \n",
    "    model_output.backward()\n",
    "    \n",
    "weights.grad"
   ]
  },
  {
   "cell_type": "code",
   "execution_count": 33,
   "id": "dc7bc47d",
   "metadata": {},
   "outputs": [
    {
     "name": "stdout",
     "output_type": "stream",
     "text": [
      "tensor([3., 3., 3., 3.])\n",
      "tensor([3., 3., 3., 3.])\n",
      "tensor([3., 3., 3., 3.])\n"
     ]
    }
   ],
   "source": [
    "# Empty the gradients before next iteration\n",
    "for epoch in range(3):\n",
    "    model_output = ((weights * 3).sum())\n",
    "    model_output.backward()\n",
    "    print(weights.grad)\n",
    "    weights.grad.zero_()"
   ]
  },
  {
   "cell_type": "code",
   "execution_count": null,
   "id": "15a87e9b",
   "metadata": {},
   "outputs": [],
   "source": []
  }
 ],
 "metadata": {
  "kernelspec": {
   "display_name": "Python 3 (ipykernel)",
   "language": "python",
   "name": "python3"
  },
  "language_info": {
   "codemirror_mode": {
    "name": "ipython",
    "version": 3
   },
   "file_extension": ".py",
   "mimetype": "text/x-python",
   "name": "python",
   "nbconvert_exporter": "python",
   "pygments_lexer": "ipython3",
   "version": "3.9.5"
  }
 },
 "nbformat": 4,
 "nbformat_minor": 5
}
