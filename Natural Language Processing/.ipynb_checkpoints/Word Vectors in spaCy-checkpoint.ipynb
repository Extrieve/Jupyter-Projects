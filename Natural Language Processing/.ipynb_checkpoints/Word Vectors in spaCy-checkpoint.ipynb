{
 "cells": [
  {
   "cell_type": "markdown",
   "id": "5877f7c5",
   "metadata": {},
   "source": [
    "# Word Vectors and spaCy"
   ]
  },
  {
   "cell_type": "code",
   "execution_count": 7,
   "id": "11710b03",
   "metadata": {
    "ExecuteTime": {
     "end_time": "2022-01-30T20:35:33.875249Z",
     "start_time": "2022-01-30T20:35:33.860247Z"
    }
   },
   "outputs": [],
   "source": [
    "import spacy\n",
    "import numpy as np"
   ]
  },
  {
   "cell_type": "code",
   "execution_count": 3,
   "id": "ce2b579a",
   "metadata": {
    "ExecuteTime": {
     "end_time": "2022-01-30T20:31:09.310364Z",
     "start_time": "2022-01-30T20:31:08.013079Z"
    }
   },
   "outputs": [],
   "source": [
    "nlp = spacy.load('en_core_web_md')"
   ]
  },
  {
   "cell_type": "code",
   "execution_count": 4,
   "id": "18877548",
   "metadata": {
    "ExecuteTime": {
     "end_time": "2022-01-30T20:31:51.884959Z",
     "start_time": "2022-01-30T20:31:51.868955Z"
    }
   },
   "outputs": [],
   "source": [
    "with open('wiki_us.txt', 'r') as f:\n",
    "    text = f.read()"
   ]
  },
  {
   "cell_type": "code",
   "execution_count": 6,
   "id": "dcd88f43",
   "metadata": {
    "ExecuteTime": {
     "end_time": "2022-01-30T20:32:43.069653Z",
     "start_time": "2022-01-30T20:32:42.980634Z"
    }
   },
   "outputs": [
    {
     "data": {
      "text/plain": [
       "The United States of America (U.S.A. or USA), commonly known as the United States (U.S. or US) or America, is a country primarily located in North America."
      ]
     },
     "execution_count": 6,
     "metadata": {},
     "output_type": "execute_result"
    }
   ],
   "source": [
    "doc = nlp(text)\n",
    "sentence1 = list(doc.sents)[0]\n",
    "sentence1"
   ]
  },
  {
   "cell_type": "code",
   "execution_count": 8,
   "id": "bdf644dd",
   "metadata": {
    "ExecuteTime": {
     "end_time": "2022-01-30T20:35:36.291362Z",
     "start_time": "2022-01-30T20:35:36.185339Z"
    }
   },
   "outputs": [
    {
     "name": "stdout",
     "output_type": "stream",
     "text": [
      "['country', 'COUNTRY', 'NATION', 'nation', 'COUNTIRES', 'nations', 'member-states', 'worLd', 'World', 'world']\n"
     ]
    }
   ],
   "source": [
    "your_word = 'country'\n",
    "# Look for similar words\n",
    "ms = nlp.vocab.vectors.most_similar(\n",
    "    np.asarray([nlp.vocab.vectors[nlp.vocab.strings[your_word]]]), n=10)\n",
    "words = [nlp.vocab.strings[w] for w in ms[0][0]]\n",
    "distances = ms[2]\n",
    "print(words)"
   ]
  },
  {
   "cell_type": "code",
   "execution_count": 10,
   "id": "ca1c13c5",
   "metadata": {
    "ExecuteTime": {
     "end_time": "2022-01-30T20:38:03.295790Z",
     "start_time": "2022-01-30T20:38:03.279787Z"
    }
   },
   "outputs": [],
   "source": [
    "# Calculate document similarity in spaCy\n",
    "doc1 = nlp('I like salty fries and hamburgers.')\n",
    "doc2 = nlp('Fast food tastes very good!')"
   ]
  },
  {
   "cell_type": "code",
   "execution_count": 11,
   "id": "936ba3de",
   "metadata": {
    "ExecuteTime": {
     "end_time": "2022-01-30T20:38:33.279306Z",
     "start_time": "2022-01-30T20:38:33.271304Z"
    }
   },
   "outputs": [
    {
     "name": "stdout",
     "output_type": "stream",
     "text": [
      "I like salty fries and hamburgers. <-> Fast food tastes very good! 0.7665132410408799\n"
     ]
    }
   ],
   "source": [
    "print(doc1, '<->', doc2, doc1.similarity(doc2))"
   ]
  },
  {
   "cell_type": "code",
   "execution_count": 12,
   "id": "1bf33d5f",
   "metadata": {
    "ExecuteTime": {
     "end_time": "2022-01-30T20:39:42.762074Z",
     "start_time": "2022-01-30T20:39:42.750070Z"
    }
   },
   "outputs": [
    {
     "name": "stdout",
     "output_type": "stream",
     "text": [
      "I like salty fries and hamburgers. <-> The Empire State Building is in New York. 0.5196037639243649\n"
     ]
    }
   ],
   "source": [
    "doc3 = nlp('The Empire State Building is in New York.')\n",
    "print(doc1, '<->', doc3, doc1.similarity(doc3))"
   ]
  },
  {
   "cell_type": "code",
   "execution_count": 13,
   "id": "4721a7a1",
   "metadata": {
    "ExecuteTime": {
     "end_time": "2022-01-30T20:40:54.300888Z",
     "start_time": "2022-01-30T20:40:54.284884Z"
    }
   },
   "outputs": [
    {
     "name": "stdout",
     "output_type": "stream",
     "text": [
      "I enjoy oranges. <-> I enjoy apples. 0.9607558420297302\n"
     ]
    }
   ],
   "source": [
    "doc4 = nlp('I enjoy oranges.')\n",
    "doc5 = nlp('I enjoy apples.')\n",
    "print(doc4, '<->', doc5, doc4.similarity(doc5))"
   ]
  }
 ],
 "metadata": {
  "kernelspec": {
   "display_name": "Python 3 (ipykernel)",
   "language": "python",
   "name": "python3"
  },
  "language_info": {
   "codemirror_mode": {
    "name": "ipython",
    "version": 3
   },
   "file_extension": ".py",
   "mimetype": "text/x-python",
   "name": "python",
   "nbconvert_exporter": "python",
   "pygments_lexer": "ipython3",
   "version": "3.9.5"
  }
 },
 "nbformat": 4,
 "nbformat_minor": 5
}
