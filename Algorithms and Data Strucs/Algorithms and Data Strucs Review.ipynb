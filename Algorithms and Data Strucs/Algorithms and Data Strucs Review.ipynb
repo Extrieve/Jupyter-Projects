{
 "cells": [
  {
   "cell_type": "markdown",
   "id": "90a2ec1f",
   "metadata": {},
   "source": [
    "# Clear Differences in Runtime"
   ]
  },
  {
   "cell_type": "code",
   "execution_count": 6,
   "id": "7e6dcc5b",
   "metadata": {},
   "outputs": [
    {
     "data": {
      "text/plain": [
       "15"
      ]
     },
     "execution_count": 6,
     "metadata": {},
     "output_type": "execute_result"
    }
   ],
   "source": [
    "def sum1(n):\n",
    "    sum = 0\n",
    "    for value in range(n+1):\n",
    "        sum += value\n",
    "        \n",
    "    return sum\n",
    "sum1(5)"
   ]
  },
  {
   "cell_type": "code",
   "execution_count": 7,
   "id": "4ff2a67d",
   "metadata": {},
   "outputs": [
    {
     "data": {
      "text/plain": [
       "15.0"
      ]
     },
     "execution_count": 7,
     "metadata": {},
     "output_type": "execute_result"
    }
   ],
   "source": [
    "def sum2(n):\n",
    "    return n*(n+1)/2\n",
    "sum2(5)"
   ]
  },
  {
   "cell_type": "code",
   "execution_count": 10,
   "id": "650ee430",
   "metadata": {},
   "outputs": [
    {
     "name": "stdout",
     "output_type": "stream",
     "text": [
      "43.3 ms ± 201 µs per loop (mean ± std. dev. of 7 runs, 10 loops each)\n",
      "166 ns ± 0.447 ns per loop (mean ± std. dev. of 7 runs, 10000000 loops each)\n"
     ]
    }
   ],
   "source": [
    "%timeit sum1(10000000)\n",
    "%timeit sum2(10000000)"
   ]
  },
  {
   "cell_type": "code",
   "execution_count": null,
   "id": "a85fdf46",
   "metadata": {},
   "outputs": [],
   "source": [
    "%timeit sum2(10000000)"
   ]
  }
 ],
 "metadata": {
  "kernelspec": {
   "display_name": "Python 3",
   "language": "python",
   "name": "python3"
  },
  "language_info": {
   "codemirror_mode": {
    "name": "ipython",
    "version": 3
   },
   "file_extension": ".py",
   "mimetype": "text/x-python",
   "name": "python",
   "nbconvert_exporter": "python",
   "pygments_lexer": "ipython3",
   "version": "3.8.8"
  }
 },
 "nbformat": 4,
 "nbformat_minor": 5
}
