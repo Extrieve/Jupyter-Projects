{
 "cells": [
  {
   "cell_type": "code",
   "execution_count": 2,
   "id": "32fc4de4",
   "metadata": {
    "ExecuteTime": {
     "end_time": "2022-02-02T15:51:47.308085Z",
     "start_time": "2022-02-02T15:51:46.523Z"
    }
   },
   "outputs": [],
   "source": [
    "library(rio)"
   ]
  },
  {
   "cell_type": "code",
   "execution_count": 3,
   "id": "9bc5c223",
   "metadata": {
    "ExecuteTime": {
     "end_time": "2022-02-02T15:52:17.274899Z",
     "start_time": "2022-02-02T15:52:17.259Z"
    }
   },
   "outputs": [],
   "source": [
    "# Setting seed to unum\n",
    "set.seed(46500256)"
   ]
  },
  {
   "cell_type": "code",
   "execution_count": 4,
   "id": "cbcc5df9",
   "metadata": {
    "ExecuteTime": {
     "end_time": "2022-02-02T16:05:41.915843Z",
     "start_time": "2022-02-02T16:05:41.730Z"
    }
   },
   "outputs": [],
   "source": [
    "?rnorm"
   ]
  },
  {
   "cell_type": "code",
   "execution_count": 39,
   "id": "6a6cd913",
   "metadata": {
    "ExecuteTime": {
     "end_time": "2022-02-02T16:29:01.735599Z",
     "start_time": "2022-02-02T16:29:01.714Z"
    }
   },
   "outputs": [
    {
     "data": {
      "text/html": [
       "<style>\n",
       ".list-inline {list-style: none; margin:0; padding: 0}\n",
       ".list-inline>li {display: inline-block}\n",
       ".list-inline>li:not(:last-child)::after {content: \"\\00b7\"; padding: 0 .5ex}\n",
       "</style>\n",
       "<ol class=list-inline><li>-0.594034012872726</li><li>0.685213463380933</li><li>0.0727977612987161</li><li>0.727329305838794</li><li>0.406896438449621</li><li>0.9168362300843</li></ol>\n"
      ],
      "text/latex": [
       "\\begin{enumerate*}\n",
       "\\item -0.594034012872726\n",
       "\\item 0.685213463380933\n",
       "\\item 0.0727977612987161\n",
       "\\item 0.727329305838794\n",
       "\\item 0.406896438449621\n",
       "\\item 0.9168362300843\n",
       "\\end{enumerate*}\n"
      ],
      "text/markdown": [
       "1. -0.594034012872726\n",
       "2. 0.685213463380933\n",
       "3. 0.0727977612987161\n",
       "4. 0.727329305838794\n",
       "5. 0.406896438449621\n",
       "6. 0.9168362300843\n",
       "\n",
       "\n"
      ],
      "text/plain": [
       "[1] -0.59403401  0.68521346  0.07279776  0.72732931  0.40689644  0.91683623"
      ]
     },
     "metadata": {},
     "output_type": "display_data"
    },
    {
     "name": "stdout",
     "output_type": "stream",
     "text": [
      " num [1:100000] -0.594 0.6852 0.0728 0.7273 0.4069 ...\n"
     ]
    }
   ],
   "source": [
    "my_uniform = runif(100000,-1,1)\n",
    "means.15 = data.frame()\n",
    "head(my_uniform)\n",
    "str(my_uniform)\n",
    "# colnames(means.15) = c('samples')"
   ]
  },
  {
   "cell_type": "code",
   "execution_count": 32,
   "id": "bd6bd59c",
   "metadata": {
    "ExecuteTime": {
     "end_time": "2022-02-02T16:27:04.108412Z",
     "start_time": "2022-02-02T16:27:04.086Z"
    }
   },
   "outputs": [
    {
     "ename": "ERROR",
     "evalue": "Error in 1:nrow(my_uniform): argument of length 0\n",
     "output_type": "error",
     "traceback": [
      "Error in 1:nrow(my_uniform): argument of length 0\nTraceback:\n",
      "1. mean(my_uniform[sample(1:nrow(my_uniform), 15), ])",
      "2. sample(1:nrow(my_uniform), 15)"
     ]
    }
   ],
   "source": [
    "for(i in 1:500){\n",
    "  means.15[i,1] = my_uniform[sample(1:nrow(my_uniform), 15),]\n",
    "}"
   ]
  },
  {
   "cell_type": "code",
   "execution_count": 33,
   "id": "cc86ab87",
   "metadata": {
    "ExecuteTime": {
     "end_time": "2022-02-02T16:27:18.362220Z",
     "start_time": "2022-02-02T16:27:18.259Z"
    }
   },
   "outputs": [],
   "source": [
    "?mean"
   ]
  },
  {
   "cell_type": "code",
   "execution_count": 43,
   "id": "f6cb6c6e",
   "metadata": {
    "ExecuteTime": {
     "end_time": "2022-02-02T16:31:00.202759Z",
     "start_time": "2022-02-02T16:31:00.183Z"
    }
   },
   "outputs": [
    {
     "ename": "ERROR",
     "evalue": "Error in my_uniform[1, i]: incorrect number of dimensions\n",
     "output_type": "error",
     "traceback": [
      "Error in my_uniform[1, i]: incorrect number of dimensions\nTraceback:\n"
     ]
    }
   ],
   "source": [
    "for(i in 1:5){\n",
    "  my_uniform[1,i]\n",
    "}"
   ]
  },
  {
   "cell_type": "code",
   "execution_count": null,
   "id": "2a127fcd",
   "metadata": {},
   "outputs": [],
   "source": []
  },
  {
   "cell_type": "code",
   "execution_count": null,
   "id": "06551162",
   "metadata": {},
   "outputs": [],
   "source": []
  },
  {
   "cell_type": "code",
   "execution_count": null,
   "id": "bb6a8720",
   "metadata": {},
   "outputs": [],
   "source": []
  },
  {
   "cell_type": "code",
   "execution_count": null,
   "id": "30c0cd74",
   "metadata": {},
   "outputs": [],
   "source": []
  }
 ],
 "metadata": {
  "kernelspec": {
   "display_name": "R",
   "language": "R",
   "name": "ir"
  },
  "language_info": {
   "codemirror_mode": "r",
   "file_extension": ".r",
   "mimetype": "text/x-r-source",
   "name": "R",
   "pygments_lexer": "r",
   "version": "4.1.2"
  }
 },
 "nbformat": 4,
 "nbformat_minor": 5
}
