{
 "cells": [
  {
   "cell_type": "code",
   "execution_count": 1,
   "id": "621855da",
   "metadata": {
    "ExecuteTime": {
     "end_time": "2022-02-01T21:47:23.467118Z",
     "start_time": "2022-02-01T21:47:23.203Z"
    }
   },
   "outputs": [],
   "source": [
    "rm(list=ls())\n",
    "library(rio)"
   ]
  },
  {
   "cell_type": "code",
   "execution_count": 2,
   "id": "2795e629",
   "metadata": {
    "ExecuteTime": {
     "end_time": "2022-02-01T21:49:28.542172Z",
     "start_time": "2022-02-01T21:49:28.503Z"
    }
   },
   "outputs": [
    {
     "ename": "ERROR",
     "evalue": "Error in import(\"Module 3 Data Sets.xlsx\", sheet = \"GPAs 50 Stacked\"): No such file\n",
     "output_type": "error",
     "traceback": [
      "Error in import(\"Module 3 Data Sets.xlsx\", sheet = \"GPAs 50 Stacked\"): No such file\nTraceback:\n",
      "1. import(\"Module 3 Data Sets.xlsx\", sheet = \"GPAs 50 Stacked\")",
      "2. stop(\"No such file\")"
     ]
    }
   ],
   "source": [
    "gpa50=import(\"Module 3 Data Sets.xlsx\",\n",
    "             sheet=\"GPAs 50 Stacked\")"
   ]
  },
  {
   "cell_type": "code",
   "execution_count": null,
   "id": "4ccdcaff",
   "metadata": {},
   "outputs": [],
   "source": []
  },
  {
   "cell_type": "code",
   "execution_count": null,
   "id": "49b48057",
   "metadata": {},
   "outputs": [],
   "source": []
  },
  {
   "cell_type": "code",
   "execution_count": null,
   "id": "a9c27ee4",
   "metadata": {},
   "outputs": [],
   "source": []
  },
  {
   "cell_type": "code",
   "execution_count": null,
   "id": "df335c4f",
   "metadata": {},
   "outputs": [],
   "source": []
  },
  {
   "cell_type": "code",
   "execution_count": null,
   "id": "019c9432",
   "metadata": {},
   "outputs": [],
   "source": []
  }
 ],
 "metadata": {
  "kernelspec": {
   "display_name": "R",
   "language": "R",
   "name": "ir"
  },
  "language_info": {
   "codemirror_mode": "r",
   "file_extension": ".r",
   "mimetype": "text/x-r-source",
   "name": "R",
   "pygments_lexer": "r",
   "version": "4.1.2"
  }
 },
 "nbformat": 4,
 "nbformat_minor": 5
}
