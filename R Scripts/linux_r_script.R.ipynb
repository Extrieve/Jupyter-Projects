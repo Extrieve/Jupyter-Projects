{
 "cells": [
  {
   "cell_type": "code",
   "execution_count": 2,
   "id": "5ec5206b",
   "metadata": {
    "ExecuteTime": {
     "end_time": "2022-02-14T15:44:20.701137Z",
     "start_time": "2022-02-14T15:44:20.678Z"
    }
   },
   "outputs": [],
   "source": [
    "library(moments)\n",
    "library(rio)"
   ]
  },
  {
   "cell_type": "code",
   "execution_count": 4,
   "id": "16bd2394",
   "metadata": {
    "ExecuteTime": {
     "end_time": "2022-02-14T15:44:53.428597Z",
     "start_time": "2022-02-14T15:44:53.411Z"
    }
   },
   "outputs": [
    {
     "ename": "ERROR",
     "evalue": "Error in hist(moments): object 'moments' not found\n",
     "output_type": "error",
     "traceback": [
      "Error in hist(moments): object 'moments' not found\nTraceback:\n",
      "1. hist(moments)"
     ]
    }
   ],
   "source": [
    "hist(moments)"
   ]
  },
  {
   "cell_type": "code",
   "execution_count": null,
   "id": "f26c5420",
   "metadata": {},
   "outputs": [],
   "source": []
  },
  {
   "cell_type": "code",
   "execution_count": null,
   "id": "c5189be0",
   "metadata": {},
   "outputs": [],
   "source": []
  },
  {
   "cell_type": "code",
   "execution_count": null,
   "id": "926983e8",
   "metadata": {},
   "outputs": [],
   "source": []
  },
  {
   "cell_type": "code",
   "execution_count": null,
   "id": "27851417",
   "metadata": {},
   "outputs": [],
   "source": []
  }
 ],
 "metadata": {
  "kernelspec": {
   "display_name": "R",
   "language": "R",
   "name": "ir"
  },
  "language_info": {
   "codemirror_mode": "r",
   "file_extension": ".r",
   "mimetype": "text/x-r-source",
   "name": "R",
   "pygments_lexer": "r",
   "version": "4.1.2"
  },
  "varInspector": {
   "cols": {
    "lenName": 16,
    "lenType": 16,
    "lenVar": 40
   },
   "kernels_config": {
    "python": {
     "delete_cmd_postfix": "",
     "delete_cmd_prefix": "del ",
     "library": "var_list.py",
     "varRefreshCmd": "print(var_dic_list())"
    },
    "r": {
     "delete_cmd_postfix": ") ",
     "delete_cmd_prefix": "rm(",
     "library": "var_list.r",
     "varRefreshCmd": "cat(var_dic_list()) "
    }
   },
   "types_to_exclude": [
    "module",
    "function",
    "builtin_function_or_method",
    "instance",
    "_Feature"
   ],
   "window_display": false
  }
 },
 "nbformat": 4,
 "nbformat_minor": 5
}
