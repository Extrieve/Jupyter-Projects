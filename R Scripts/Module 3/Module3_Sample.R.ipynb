{
 "cells": [
  {
   "cell_type": "code",
   "execution_count": 7,
   "id": "8771bc8e",
   "metadata": {
    "ExecuteTime": {
     "end_time": "2022-02-01T21:53:02.716392Z",
     "start_time": "2022-02-01T21:53:02.701Z"
    }
   },
   "outputs": [],
   "source": [
    "library(rio)"
   ]
  },
  {
   "cell_type": "code",
   "execution_count": 14,
   "id": "3ae13c13",
   "metadata": {
    "ExecuteTime": {
     "end_time": "2022-02-01T22:08:26.175806Z",
     "start_time": "2022-02-01T22:08:26.140Z"
    }
   },
   "outputs": [],
   "source": [
    "gpa50=import(\"6304 Module 3 Data Sets.xlsx\",\n",
    "             sheet=\"GPAs 50 Stacked\")"
   ]
  },
  {
   "cell_type": "code",
   "execution_count": 9,
   "id": "8eac8100",
   "metadata": {
    "ExecuteTime": {
     "end_time": "2022-02-01T21:53:06.255986Z",
     "start_time": "2022-02-01T21:53:06.235Z"
    }
   },
   "outputs": [
    {
     "data": {
      "text/html": [
       "<table class=\"dataframe\">\n",
       "<caption>A data.frame: 6 × 1</caption>\n",
       "<thead>\n",
       "\t<tr><th></th><th scope=col>GPAs50</th></tr>\n",
       "\t<tr><th></th><th scope=col>&lt;dbl&gt;</th></tr>\n",
       "</thead>\n",
       "<tbody>\n",
       "\t<tr><th scope=row>1</th><td>2.53</td></tr>\n",
       "\t<tr><th scope=row>2</th><td>2.95</td></tr>\n",
       "\t<tr><th scope=row>3</th><td>2.73</td></tr>\n",
       "\t<tr><th scope=row>4</th><td>2.05</td></tr>\n",
       "\t<tr><th scope=row>5</th><td>2.25</td></tr>\n",
       "\t<tr><th scope=row>6</th><td>2.26</td></tr>\n",
       "</tbody>\n",
       "</table>\n"
      ],
      "text/latex": [
       "A data.frame: 6 × 1\n",
       "\\begin{tabular}{r|l}\n",
       "  & GPAs50\\\\\n",
       "  & <dbl>\\\\\n",
       "\\hline\n",
       "\t1 & 2.53\\\\\n",
       "\t2 & 2.95\\\\\n",
       "\t3 & 2.73\\\\\n",
       "\t4 & 2.05\\\\\n",
       "\t5 & 2.25\\\\\n",
       "\t6 & 2.26\\\\\n",
       "\\end{tabular}\n"
      ],
      "text/markdown": [
       "\n",
       "A data.frame: 6 × 1\n",
       "\n",
       "| <!--/--> | GPAs50 &lt;dbl&gt; |\n",
       "|---|---|\n",
       "| 1 | 2.53 |\n",
       "| 2 | 2.95 |\n",
       "| 3 | 2.73 |\n",
       "| 4 | 2.05 |\n",
       "| 5 | 2.25 |\n",
       "| 6 | 2.26 |\n",
       "\n"
      ],
      "text/plain": [
       "  GPAs50\n",
       "1 2.53  \n",
       "2 2.95  \n",
       "3 2.73  \n",
       "4 2.05  \n",
       "5 2.25  \n",
       "6 2.26  "
      ]
     },
     "metadata": {},
     "output_type": "display_data"
    }
   ],
   "source": [
    "head(gpa50)"
   ]
  },
  {
   "cell_type": "code",
   "execution_count": 15,
   "id": "b0dab925",
   "metadata": {
    "ExecuteTime": {
     "end_time": "2022-02-01T22:08:30.402242Z",
     "start_time": "2022-02-01T22:08:30.388Z"
    }
   },
   "outputs": [],
   "source": [
    "colnames(gpa50)=tolower(make.names(colnames(gpa50)))"
   ]
  },
  {
   "cell_type": "code",
   "execution_count": 11,
   "id": "a40aff54",
   "metadata": {
    "ExecuteTime": {
     "end_time": "2022-02-01T21:53:09.933279Z",
     "start_time": "2022-02-01T21:53:09.915Z"
    }
   },
   "outputs": [
    {
     "data": {
      "text/html": [
       "<table class=\"dataframe\">\n",
       "<caption>A data.frame: 6 × 1</caption>\n",
       "<thead>\n",
       "\t<tr><th></th><th scope=col>gpas50</th></tr>\n",
       "\t<tr><th></th><th scope=col>&lt;dbl&gt;</th></tr>\n",
       "</thead>\n",
       "<tbody>\n",
       "\t<tr><th scope=row>1</th><td>2.53</td></tr>\n",
       "\t<tr><th scope=row>2</th><td>2.95</td></tr>\n",
       "\t<tr><th scope=row>3</th><td>2.73</td></tr>\n",
       "\t<tr><th scope=row>4</th><td>2.05</td></tr>\n",
       "\t<tr><th scope=row>5</th><td>2.25</td></tr>\n",
       "\t<tr><th scope=row>6</th><td>2.26</td></tr>\n",
       "</tbody>\n",
       "</table>\n"
      ],
      "text/latex": [
       "A data.frame: 6 × 1\n",
       "\\begin{tabular}{r|l}\n",
       "  & gpas50\\\\\n",
       "  & <dbl>\\\\\n",
       "\\hline\n",
       "\t1 & 2.53\\\\\n",
       "\t2 & 2.95\\\\\n",
       "\t3 & 2.73\\\\\n",
       "\t4 & 2.05\\\\\n",
       "\t5 & 2.25\\\\\n",
       "\t6 & 2.26\\\\\n",
       "\\end{tabular}\n"
      ],
      "text/markdown": [
       "\n",
       "A data.frame: 6 × 1\n",
       "\n",
       "| <!--/--> | gpas50 &lt;dbl&gt; |\n",
       "|---|---|\n",
       "| 1 | 2.53 |\n",
       "| 2 | 2.95 |\n",
       "| 3 | 2.73 |\n",
       "| 4 | 2.05 |\n",
       "| 5 | 2.25 |\n",
       "| 6 | 2.26 |\n",
       "\n"
      ],
      "text/plain": [
       "  gpas50\n",
       "1 2.53  \n",
       "2 2.95  \n",
       "3 2.73  \n",
       "4 2.05  \n",
       "5 2.25  \n",
       "6 2.26  "
      ]
     },
     "metadata": {},
     "output_type": "display_data"
    }
   ],
   "source": [
    "head(gpa50)"
   ]
  },
  {
   "cell_type": "code",
   "execution_count": 12,
   "id": "1955cdf0",
   "metadata": {
    "ExecuteTime": {
     "end_time": "2022-02-01T21:59:28.944905Z",
     "start_time": "2022-02-01T21:59:28.925Z"
    }
   },
   "outputs": [
    {
     "data": {
      "text/plain": [
       "\n",
       "\tOne Sample t-test\n",
       "\n",
       "data:  gpa50\n",
       "t = 10.2, df = 49, p-value = 1.038e-13\n",
       "alternative hypothesis: true mean is not equal to 2.1\n",
       "95 percent confidence interval:\n",
       " 2.738374 3.051626\n",
       "sample estimates:\n",
       "mean of x \n",
       "    2.895 \n"
      ]
     },
     "metadata": {},
     "output_type": "display_data"
    }
   ],
   "source": [
    "t.test(gpa50, mu=2.1, alternative = c(\"two.sided\"))"
   ]
  },
  {
   "cell_type": "code",
   "execution_count": 17,
   "id": "db3059e7",
   "metadata": {
    "ExecuteTime": {
     "end_time": "2022-02-01T22:08:43.149467Z",
     "start_time": "2022-02-01T22:08:43.132Z"
    }
   },
   "outputs": [
    {
     "data": {
      "text/plain": [
       "\n",
       "\tOne Sample t-test\n",
       "\n",
       "data:  gpa50\n",
       "t = 10.2, df = 49, p-value = 1.038e-13\n",
       "alternative hypothesis: true mean is not equal to 2.1\n",
       "95 percent confidence interval:\n",
       " 2.738374 3.051626\n",
       "sample estimates:\n",
       "mean of x \n",
       "    2.895 \n"
      ]
     },
     "metadata": {},
     "output_type": "display_data"
    }
   ],
   "source": [
    "results=t.test(gpa50,mu=2.1,alternative = c(\"two.sided\"))\n",
    "results"
   ]
  },
  {
   "cell_type": "code",
   "execution_count": 18,
   "id": "74634443",
   "metadata": {
    "ExecuteTime": {
     "end_time": "2022-02-01T22:10:40.914475Z",
     "start_time": "2022-02-01T22:10:40.898Z"
    }
   },
   "outputs": [
    {
     "data": {
      "text/html": [
       "<style>\n",
       ".list-inline {list-style: none; margin:0; padding: 0}\n",
       ".list-inline>li {display: inline-block}\n",
       ".list-inline>li:not(:last-child)::after {content: \"\\00b7\"; padding: 0 .5ex}\n",
       "</style>\n",
       "<ol class=list-inline><li>'statistic'</li><li>'parameter'</li><li>'p.value'</li><li>'conf.int'</li><li>'estimate'</li><li>'null.value'</li><li>'stderr'</li><li>'alternative'</li><li>'method'</li><li>'data.name'</li></ol>\n"
      ],
      "text/latex": [
       "\\begin{enumerate*}\n",
       "\\item 'statistic'\n",
       "\\item 'parameter'\n",
       "\\item 'p.value'\n",
       "\\item 'conf.int'\n",
       "\\item 'estimate'\n",
       "\\item 'null.value'\n",
       "\\item 'stderr'\n",
       "\\item 'alternative'\n",
       "\\item 'method'\n",
       "\\item 'data.name'\n",
       "\\end{enumerate*}\n"
      ],
      "text/markdown": [
       "1. 'statistic'\n",
       "2. 'parameter'\n",
       "3. 'p.value'\n",
       "4. 'conf.int'\n",
       "5. 'estimate'\n",
       "6. 'null.value'\n",
       "7. 'stderr'\n",
       "8. 'alternative'\n",
       "9. 'method'\n",
       "10. 'data.name'\n",
       "\n",
       "\n"
      ],
      "text/plain": [
       " [1] \"statistic\"   \"parameter\"   \"p.value\"     \"conf.int\"    \"estimate\"   \n",
       " [6] \"null.value\"  \"stderr\"      \"alternative\" \"method\"      \"data.name\"  "
      ]
     },
     "metadata": {},
     "output_type": "display_data"
    }
   ],
   "source": [
    "names(results)"
   ]
  },
  {
   "cell_type": "code",
   "execution_count": 21,
   "id": "7a86f1f8",
   "metadata": {
    "ExecuteTime": {
     "end_time": "2022-02-01T22:11:26.329510Z",
     "start_time": "2022-02-01T22:11:26.314Z"
    }
   },
   "outputs": [
    {
     "data": {
      "text/html": [
       "1.03836966720585e-13"
      ],
      "text/latex": [
       "1.03836966720585e-13"
      ],
      "text/markdown": [
       "1.03836966720585e-13"
      ],
      "text/plain": [
       "[1] 1.03837e-13"
      ]
     },
     "metadata": {},
     "output_type": "display_data"
    }
   ],
   "source": [
    "results$p.value"
   ]
  },
  {
   "cell_type": "code",
   "execution_count": 22,
   "id": "e6d84dea",
   "metadata": {
    "ExecuteTime": {
     "end_time": "2022-02-01T22:11:55.772304Z",
     "start_time": "2022-02-01T22:11:55.753Z"
    }
   },
   "outputs": [
    {
     "data": {
      "text/html": [
       "<style>\n",
       ".list-inline {list-style: none; margin:0; padding: 0}\n",
       ".list-inline>li {display: inline-block}\n",
       ".list-inline>li:not(:last-child)::after {content: \"\\00b7\"; padding: 0 .5ex}\n",
       "</style>\n",
       "<ol class=list-inline><li>2.73837384714406</li><li>3.05162615285594</li></ol>\n"
      ],
      "text/latex": [
       "\\begin{enumerate*}\n",
       "\\item 2.73837384714406\n",
       "\\item 3.05162615285594\n",
       "\\end{enumerate*}\n"
      ],
      "text/markdown": [
       "1. 2.73837384714406\n",
       "2. 3.05162615285594\n",
       "\n",
       "\n"
      ],
      "text/plain": [
       "[1] 2.738374 3.051626\n",
       "attr(,\"conf.level\")\n",
       "[1] 0.95"
      ]
     },
     "metadata": {},
     "output_type": "display_data"
    }
   ],
   "source": [
    "results$conf.int"
   ]
  },
  {
   "cell_type": "code",
   "execution_count": 23,
   "id": "a8e53c07",
   "metadata": {
    "ExecuteTime": {
     "end_time": "2022-02-01T22:12:33.345155Z",
     "start_time": "2022-02-01T22:12:33.329Z"
    }
   },
   "outputs": [
    {
     "data": {
      "text/html": [
       "2.73837384714406"
      ],
      "text/latex": [
       "2.73837384714406"
      ],
      "text/markdown": [
       "2.73837384714406"
      ],
      "text/plain": [
       "[1] 2.738374"
      ]
     },
     "metadata": {},
     "output_type": "display_data"
    }
   ],
   "source": [
    "# Call lower bound of the conf interval\n",
    "results$conf.int[1]"
   ]
  },
  {
   "cell_type": "code",
   "execution_count": 24,
   "id": "85ca1cd8",
   "metadata": {
    "ExecuteTime": {
     "end_time": "2022-02-01T22:12:47.312381Z",
     "start_time": "2022-02-01T22:12:47.296Z"
    }
   },
   "outputs": [
    {
     "data": {
      "text/html": [
       "3.05162615285594"
      ],
      "text/latex": [
       "3.05162615285594"
      ],
      "text/markdown": [
       "3.05162615285594"
      ],
      "text/plain": [
       "[1] 3.051626"
      ]
     },
     "metadata": {},
     "output_type": "display_data"
    }
   ],
   "source": [
    "# Call higher bound of the conf interval\n",
    "results$conf.int[2]"
   ]
  },
  {
   "cell_type": "code",
   "execution_count": 25,
   "id": "c0e044db",
   "metadata": {
    "ExecuteTime": {
     "end_time": "2022-02-01T22:13:37.610903Z",
     "start_time": "2022-02-01T22:13:37.594Z"
    }
   },
   "outputs": [
    {
     "data": {
      "text/html": [
       "0.313252305711884"
      ],
      "text/latex": [
       "0.313252305711884"
      ],
      "text/markdown": [
       "0.313252305711884"
      ],
      "text/plain": [
       "[1] 0.3132523"
      ]
     },
     "metadata": {},
     "output_type": "display_data"
    }
   ],
   "source": [
    "# Get the width of the interval\n",
    "width = results$conf.int[2] - results$conf.int[1]\n",
    "width"
   ]
  },
  {
   "cell_type": "code",
   "execution_count": 27,
   "id": "cb0782bd",
   "metadata": {
    "ExecuteTime": {
     "end_time": "2022-02-01T22:14:02.199076Z",
     "start_time": "2022-02-01T22:14:02.183Z"
    }
   },
   "outputs": [
    {
     "data": {
      "text/html": [
       "0.31"
      ],
      "text/latex": [
       "0.31"
      ],
      "text/markdown": [
       "0.31"
      ],
      "text/plain": [
       "[1] 0.31"
      ]
     },
     "metadata": {},
     "output_type": "display_data"
    }
   ],
   "source": [
    "round(width, 2)"
   ]
  },
  {
   "cell_type": "code",
   "execution_count": 29,
   "id": "2858bafc",
   "metadata": {
    "ExecuteTime": {
     "end_time": "2022-02-01T22:25:13.139324Z",
     "start_time": "2022-02-01T22:25:13.101Z"
    }
   },
   "outputs": [
    {
     "data": {
      "text/html": [
       "<table class=\"dataframe\">\n",
       "<caption>A data.frame: 6 × 2</caption>\n",
       "<thead>\n",
       "\t<tr><th></th><th scope=col>Age 25</th><th scope=col>Age 60</th></tr>\n",
       "\t<tr><th></th><th scope=col>&lt;dbl&gt;</th><th scope=col>&lt;dbl&gt;</th></tr>\n",
       "</thead>\n",
       "<tbody>\n",
       "\t<tr><th scope=row>1</th><td> 98</td><td> 86</td></tr>\n",
       "\t<tr><th scope=row>2</th><td>103</td><td>104</td></tr>\n",
       "\t<tr><th scope=row>3</th><td>126</td><td>117</td></tr>\n",
       "\t<tr><th scope=row>4</th><td> 93</td><td> 78</td></tr>\n",
       "\t<tr><th scope=row>5</th><td>114</td><td> 89</td></tr>\n",
       "\t<tr><th scope=row>6</th><td>119</td><td> 89</td></tr>\n",
       "</tbody>\n",
       "</table>\n"
      ],
      "text/latex": [
       "A data.frame: 6 × 2\n",
       "\\begin{tabular}{r|ll}\n",
       "  & Age 25 & Age 60\\\\\n",
       "  & <dbl> & <dbl>\\\\\n",
       "\\hline\n",
       "\t1 &  98 &  86\\\\\n",
       "\t2 & 103 & 104\\\\\n",
       "\t3 & 126 & 117\\\\\n",
       "\t4 &  93 &  78\\\\\n",
       "\t5 & 114 &  89\\\\\n",
       "\t6 & 119 &  89\\\\\n",
       "\\end{tabular}\n"
      ],
      "text/markdown": [
       "\n",
       "A data.frame: 6 × 2\n",
       "\n",
       "| <!--/--> | Age 25 &lt;dbl&gt; | Age 60 &lt;dbl&gt; |\n",
       "|---|---|---|\n",
       "| 1 |  98 |  86 |\n",
       "| 2 | 103 | 104 |\n",
       "| 3 | 126 | 117 |\n",
       "| 4 |  93 |  78 |\n",
       "| 5 | 114 |  89 |\n",
       "| 6 | 119 |  89 |\n",
       "\n"
      ],
      "text/plain": [
       "  Age 25 Age 60\n",
       "1  98     86   \n",
       "2 103    104   \n",
       "3 126    117   \n",
       "4  93     78   \n",
       "5 114     89   \n",
       "6 119     89   "
      ]
     },
     "metadata": {},
     "output_type": "display_data"
    }
   ],
   "source": [
    "iq=import(\"6304 Module 3 Data Sets.xlsx\",\n",
    "             sheet=\"IQ\")\n",
    "head(iq)"
   ]
  },
  {
   "cell_type": "code",
   "execution_count": 30,
   "id": "1f33d365",
   "metadata": {
    "ExecuteTime": {
     "end_time": "2022-02-01T22:25:44.017380Z",
     "start_time": "2022-02-01T22:25:43.997Z"
    }
   },
   "outputs": [
    {
     "data": {
      "text/html": [
       "<table class=\"dataframe\">\n",
       "<caption>A data.frame: 6 × 2</caption>\n",
       "<thead>\n",
       "\t<tr><th></th><th scope=col>age.25</th><th scope=col>age.60</th></tr>\n",
       "\t<tr><th></th><th scope=col>&lt;dbl&gt;</th><th scope=col>&lt;dbl&gt;</th></tr>\n",
       "</thead>\n",
       "<tbody>\n",
       "\t<tr><th scope=row>1</th><td> 98</td><td> 86</td></tr>\n",
       "\t<tr><th scope=row>2</th><td>103</td><td>104</td></tr>\n",
       "\t<tr><th scope=row>3</th><td>126</td><td>117</td></tr>\n",
       "\t<tr><th scope=row>4</th><td> 93</td><td> 78</td></tr>\n",
       "\t<tr><th scope=row>5</th><td>114</td><td> 89</td></tr>\n",
       "\t<tr><th scope=row>6</th><td>119</td><td> 89</td></tr>\n",
       "</tbody>\n",
       "</table>\n"
      ],
      "text/latex": [
       "A data.frame: 6 × 2\n",
       "\\begin{tabular}{r|ll}\n",
       "  & age.25 & age.60\\\\\n",
       "  & <dbl> & <dbl>\\\\\n",
       "\\hline\n",
       "\t1 &  98 &  86\\\\\n",
       "\t2 & 103 & 104\\\\\n",
       "\t3 & 126 & 117\\\\\n",
       "\t4 &  93 &  78\\\\\n",
       "\t5 & 114 &  89\\\\\n",
       "\t6 & 119 &  89\\\\\n",
       "\\end{tabular}\n"
      ],
      "text/markdown": [
       "\n",
       "A data.frame: 6 × 2\n",
       "\n",
       "| <!--/--> | age.25 &lt;dbl&gt; | age.60 &lt;dbl&gt; |\n",
       "|---|---|---|\n",
       "| 1 |  98 |  86 |\n",
       "| 2 | 103 | 104 |\n",
       "| 3 | 126 | 117 |\n",
       "| 4 |  93 |  78 |\n",
       "| 5 | 114 |  89 |\n",
       "| 6 | 119 |  89 |\n",
       "\n"
      ],
      "text/plain": [
       "  age.25 age.60\n",
       "1  98     86   \n",
       "2 103    104   \n",
       "3 126    117   \n",
       "4  93     78   \n",
       "5 114     89   \n",
       "6 119     89   "
      ]
     },
     "metadata": {},
     "output_type": "display_data"
    }
   ],
   "source": [
    "colnames(iq) = tolower(make.names(colnames(iq)))\n",
    "head(iq)"
   ]
  },
  {
   "cell_type": "code",
   "execution_count": 32,
   "id": "3f381a05",
   "metadata": {
    "ExecuteTime": {
     "end_time": "2022-02-01T23:34:57.116616Z",
     "start_time": "2022-02-01T23:34:57.101Z"
    }
   },
   "outputs": [
    {
     "data": {
      "text/html": [
       "<style>\n",
       ".list-inline {list-style: none; margin:0; padding: 0}\n",
       ".list-inline>li {display: inline-block}\n",
       ".list-inline>li:not(:last-child)::after {content: \"\\00b7\"; padding: 0 .5ex}\n",
       "</style>\n",
       "<ol class=list-inline><li>'age.25'</li><li>'age.60'</li></ol>\n"
      ],
      "text/latex": [
       "\\begin{enumerate*}\n",
       "\\item 'age.25'\n",
       "\\item 'age.60'\n",
       "\\end{enumerate*}\n"
      ],
      "text/markdown": [
       "1. 'age.25'\n",
       "2. 'age.60'\n",
       "\n",
       "\n"
      ],
      "text/plain": [
       "[1] \"age.25\" \"age.60\""
      ]
     },
     "metadata": {},
     "output_type": "display_data"
    }
   ],
   "source": [
    "names(iq)"
   ]
  },
  {
   "cell_type": "code",
   "execution_count": 34,
   "id": "2753008f",
   "metadata": {
    "ExecuteTime": {
     "end_time": "2022-02-01T23:35:22.460740Z",
     "start_time": "2022-02-01T23:35:22.445Z"
    }
   },
   "outputs": [
    {
     "data": {
      "text/html": [
       "110.833333333333"
      ],
      "text/latex": [
       "110.833333333333"
      ],
      "text/markdown": [
       "110.833333333333"
      ],
      "text/plain": [
       "[1] 110.8333"
      ]
     },
     "metadata": {},
     "output_type": "display_data"
    }
   ],
   "source": [
    "mean(iq$age.25)"
   ]
  },
  {
   "cell_type": "code",
   "execution_count": 35,
   "id": "cd0b7fd9",
   "metadata": {
    "ExecuteTime": {
     "end_time": "2022-02-01T23:35:30.788470Z",
     "start_time": "2022-02-01T23:35:30.772Z"
    }
   },
   "outputs": [
    {
     "data": {
      "text/html": [
       "89.3055555555556"
      ],
      "text/latex": [
       "89.3055555555556"
      ],
      "text/markdown": [
       "89.3055555555556"
      ],
      "text/plain": [
       "[1] 89.30556"
      ]
     },
     "metadata": {},
     "output_type": "display_data"
    }
   ],
   "source": [
    "mean(iq$age.60)"
   ]
  },
  {
   "cell_type": "code",
   "execution_count": 36,
   "id": "1830b77a",
   "metadata": {
    "ExecuteTime": {
     "end_time": "2022-02-01T23:36:01.563503Z",
     "start_time": "2022-02-01T23:36:01.548Z"
    }
   },
   "outputs": [],
   "source": [
    "# Allows to explore the columns in the data frame without having to reference the parent object\n",
    "attach(iq)"
   ]
  },
  {
   "cell_type": "code",
   "execution_count": 37,
   "id": "5e11a558",
   "metadata": {
    "ExecuteTime": {
     "end_time": "2022-02-01T23:36:08.868062Z",
     "start_time": "2022-02-01T23:36:08.852Z"
    }
   },
   "outputs": [
    {
     "data": {
      "text/html": [
       "110.833333333333"
      ],
      "text/latex": [
       "110.833333333333"
      ],
      "text/markdown": [
       "110.833333333333"
      ],
      "text/plain": [
       "[1] 110.8333"
      ]
     },
     "metadata": {},
     "output_type": "display_data"
    }
   ],
   "source": [
    "mean(age.25)"
   ]
  },
  {
   "cell_type": "code",
   "execution_count": 38,
   "id": "cb1ccf2e",
   "metadata": {
    "ExecuteTime": {
     "end_time": "2022-02-01T23:38:51.927109Z",
     "start_time": "2022-02-01T23:38:51.908Z"
    }
   },
   "outputs": [
    {
     "ename": "ERROR",
     "evalue": "Error: $ operator is invalid for atomic vectors\n",
     "output_type": "error",
     "traceback": [
      "Error: $ operator is invalid for atomic vectors\nTraceback:\n",
      "1. confint(age.25)",
      "2. confint.default(age.25)",
      "3. coef(object)",
      "4. coef.default(object)"
     ]
    }
   ],
   "source": [
    "confint(age.25)"
   ]
  },
  {
   "cell_type": "code",
   "execution_count": 39,
   "id": "7ce5f35c",
   "metadata": {
    "ExecuteTime": {
     "end_time": "2022-02-01T23:42:41.854515Z",
     "start_time": "2022-02-01T23:42:41.833Z"
    }
   },
   "outputs": [
    {
     "data": {
      "text/plain": [
       "\n",
       "\tWelch Two Sample t-test\n",
       "\n",
       "data:  age.25 and age.60\n",
       "t = 6.7389, df = 68.97, p-value = 3.949e-09\n",
       "alternative hypothesis: true difference in means is not equal to 0\n",
       "95 percent confidence interval:\n",
       " 15.15474 27.90082\n",
       "sample estimates:\n",
       "mean of x mean of y \n",
       "110.83333  89.30556 \n"
      ]
     },
     "metadata": {},
     "output_type": "display_data"
    }
   ],
   "source": [
    "# H0: Mean25 - Mean60 = 0\n",
    "# Ha: M25 - Mean60 != 0\n",
    "# Mu tests for the difference, if 10 see if iq levels are within 10 points\n",
    "iq_results = t.test(age.25, age.60, mu=0, alternative = c('two.sided'))\n",
    "iq_results"
   ]
  },
  {
   "cell_type": "code",
   "execution_count": 40,
   "id": "2f25ed53",
   "metadata": {
    "ExecuteTime": {
     "end_time": "2022-02-01T23:55:46.567559Z",
     "start_time": "2022-02-01T23:55:46.516Z"
    }
   },
   "outputs": [
    {
     "data": {
      "image/png": "[encoded data removed]",
      "text/plain": [
       "Plot with title \"IQ Boxplot\""
      ]
     },
     "metadata": {
      "image/png": {
       "height": 420,
       "width": 420
      }
     },
     "output_type": "display_data"
    }
   ],
   "source": [
    "boxplot(age.25, age.60, col='red', main='IQ Boxplot')"
   ]
  },
  {
   "cell_type": "code",
   "execution_count": 41,
   "id": "c9cfed69",
   "metadata": {
    "ExecuteTime": {
     "end_time": "2022-02-01T23:56:39.965934Z",
     "start_time": "2022-02-01T23:56:39.907Z"
    }
   },
   "outputs": [
    {
     "data": {
      "image/png": "[encoded data removed]",
      "text/plain": [
       "Plot with title \"IQ Notched Boxplot\""
      ]
     },
     "metadata": {
      "image/png": {
       "height": 420,
       "width": 420
      }
     },
     "output_type": "display_data"
    }
   ],
   "source": [
    "boxplot(age.25, age.60, col='red', main='IQ Notched Boxplot', notch = TRUE)"
   ]
  },
  {
   "cell_type": "code",
   "execution_count": 43,
   "id": "2ea8d3f4",
   "metadata": {
    "ExecuteTime": {
     "end_time": "2022-02-02T00:02:37.930099Z",
     "start_time": "2022-02-02T00:02:37.891Z"
    }
   },
   "outputs": [
    {
     "data": {
      "text/html": [
       "<table class=\"dataframe\">\n",
       "<caption>A data.frame: 6 × 3</caption>\n",
       "<thead>\n",
       "\t<tr><th></th><th scope=col>Litter</th><th scope=col>Male</th><th scope=col>Female</th></tr>\n",
       "\t<tr><th></th><th scope=col>&lt;dbl&gt;</th><th scope=col>&lt;dbl&gt;</th><th scope=col>&lt;dbl&gt;</th></tr>\n",
       "</thead>\n",
       "<tbody>\n",
       "\t<tr><th scope=row>1</th><td>1</td><td>8</td><td>5</td></tr>\n",
       "\t<tr><th scope=row>2</th><td>2</td><td>8</td><td>4</td></tr>\n",
       "\t<tr><th scope=row>3</th><td>3</td><td>6</td><td>7</td></tr>\n",
       "\t<tr><th scope=row>4</th><td>4</td><td>6</td><td>3</td></tr>\n",
       "\t<tr><th scope=row>5</th><td>5</td><td>6</td><td>5</td></tr>\n",
       "\t<tr><th scope=row>6</th><td>6</td><td>6</td><td>3</td></tr>\n",
       "</tbody>\n",
       "</table>\n"
      ],
      "text/latex": [
       "A data.frame: 6 × 3\n",
       "\\begin{tabular}{r|lll}\n",
       "  & Litter & Male & Female\\\\\n",
       "  & <dbl> & <dbl> & <dbl>\\\\\n",
       "\\hline\n",
       "\t1 & 1 & 8 & 5\\\\\n",
       "\t2 & 2 & 8 & 4\\\\\n",
       "\t3 & 3 & 6 & 7\\\\\n",
       "\t4 & 4 & 6 & 3\\\\\n",
       "\t5 & 5 & 6 & 5\\\\\n",
       "\t6 & 6 & 6 & 3\\\\\n",
       "\\end{tabular}\n"
      ],
      "text/markdown": [
       "\n",
       "A data.frame: 6 × 3\n",
       "\n",
       "| <!--/--> | Litter &lt;dbl&gt; | Male &lt;dbl&gt; | Female &lt;dbl&gt; |\n",
       "|---|---|---|---|\n",
       "| 1 | 1 | 8 | 5 |\n",
       "| 2 | 2 | 8 | 4 |\n",
       "| 3 | 3 | 6 | 7 |\n",
       "| 4 | 4 | 6 | 3 |\n",
       "| 5 | 5 | 6 | 5 |\n",
       "| 6 | 6 | 6 | 3 |\n",
       "\n"
      ],
      "text/plain": [
       "  Litter Male Female\n",
       "1 1      8    5     \n",
       "2 2      8    4     \n",
       "3 3      6    7     \n",
       "4 4      6    3     \n",
       "5 5      6    5     \n",
       "6 6      6    3     "
      ]
     },
     "metadata": {},
     "output_type": "display_data"
    }
   ],
   "source": [
    "rats=import(\"6304 Module 3 Data Sets.xlsx\",\n",
    "             sheet=\"Rat Pups\")\n",
    "head(rats)"
   ]
  },
  {
   "cell_type": "code",
   "execution_count": 44,
   "id": "eede6756",
   "metadata": {
    "ExecuteTime": {
     "end_time": "2022-02-02T00:03:37.669116Z",
     "start_time": "2022-02-02T00:03:37.645Z"
    }
   },
   "outputs": [
    {
     "data": {
      "text/html": [
       "<table class=\"dataframe\">\n",
       "<caption>A data.frame: 6 × 3</caption>\n",
       "<thead>\n",
       "\t<tr><th></th><th scope=col>litter</th><th scope=col>male</th><th scope=col>female</th></tr>\n",
       "\t<tr><th></th><th scope=col>&lt;dbl&gt;</th><th scope=col>&lt;dbl&gt;</th><th scope=col>&lt;dbl&gt;</th></tr>\n",
       "</thead>\n",
       "<tbody>\n",
       "\t<tr><th scope=row>1</th><td>1</td><td>8</td><td>5</td></tr>\n",
       "\t<tr><th scope=row>2</th><td>2</td><td>8</td><td>4</td></tr>\n",
       "\t<tr><th scope=row>3</th><td>3</td><td>6</td><td>7</td></tr>\n",
       "\t<tr><th scope=row>4</th><td>4</td><td>6</td><td>3</td></tr>\n",
       "\t<tr><th scope=row>5</th><td>5</td><td>6</td><td>5</td></tr>\n",
       "\t<tr><th scope=row>6</th><td>6</td><td>6</td><td>3</td></tr>\n",
       "</tbody>\n",
       "</table>\n"
      ],
      "text/latex": [
       "A data.frame: 6 × 3\n",
       "\\begin{tabular}{r|lll}\n",
       "  & litter & male & female\\\\\n",
       "  & <dbl> & <dbl> & <dbl>\\\\\n",
       "\\hline\n",
       "\t1 & 1 & 8 & 5\\\\\n",
       "\t2 & 2 & 8 & 4\\\\\n",
       "\t3 & 3 & 6 & 7\\\\\n",
       "\t4 & 4 & 6 & 3\\\\\n",
       "\t5 & 5 & 6 & 5\\\\\n",
       "\t6 & 6 & 6 & 3\\\\\n",
       "\\end{tabular}\n"
      ],
      "text/markdown": [
       "\n",
       "A data.frame: 6 × 3\n",
       "\n",
       "| <!--/--> | litter &lt;dbl&gt; | male &lt;dbl&gt; | female &lt;dbl&gt; |\n",
       "|---|---|---|---|\n",
       "| 1 | 1 | 8 | 5 |\n",
       "| 2 | 2 | 8 | 4 |\n",
       "| 3 | 3 | 6 | 7 |\n",
       "| 4 | 4 | 6 | 3 |\n",
       "| 5 | 5 | 6 | 5 |\n",
       "| 6 | 6 | 6 | 3 |\n",
       "\n"
      ],
      "text/plain": [
       "  litter male female\n",
       "1 1      8    5     \n",
       "2 2      8    4     \n",
       "3 3      6    7     \n",
       "4 4      6    3     \n",
       "5 5      6    5     \n",
       "6 6      6    3     "
      ]
     },
     "metadata": {},
     "output_type": "display_data"
    }
   ],
   "source": [
    "colnames(rats) = tolower(colnames(rats))\n",
    "head(rats)"
   ]
  },
  {
   "cell_type": "code",
   "execution_count": 45,
   "id": "2fd18ea2",
   "metadata": {
    "ExecuteTime": {
     "end_time": "2022-02-02T00:04:33.209417Z",
     "start_time": "2022-02-02T00:04:33.185Z"
    }
   },
   "outputs": [
    {
     "data": {
      "text/html": [
       "<table class=\"dataframe\">\n",
       "<caption>A data.frame: 6 × 4</caption>\n",
       "<thead>\n",
       "\t<tr><th></th><th scope=col>litter</th><th scope=col>male</th><th scope=col>female</th><th scope=col>difference</th></tr>\n",
       "\t<tr><th></th><th scope=col>&lt;dbl&gt;</th><th scope=col>&lt;dbl&gt;</th><th scope=col>&lt;dbl&gt;</th><th scope=col>&lt;dbl&gt;</th></tr>\n",
       "</thead>\n",
       "<tbody>\n",
       "\t<tr><th scope=row>1</th><td>1</td><td>8</td><td>5</td><td> 3</td></tr>\n",
       "\t<tr><th scope=row>2</th><td>2</td><td>8</td><td>4</td><td> 4</td></tr>\n",
       "\t<tr><th scope=row>3</th><td>3</td><td>6</td><td>7</td><td>-1</td></tr>\n",
       "\t<tr><th scope=row>4</th><td>4</td><td>6</td><td>3</td><td> 3</td></tr>\n",
       "\t<tr><th scope=row>5</th><td>5</td><td>6</td><td>5</td><td> 1</td></tr>\n",
       "\t<tr><th scope=row>6</th><td>6</td><td>6</td><td>3</td><td> 3</td></tr>\n",
       "</tbody>\n",
       "</table>\n"
      ],
      "text/latex": [
       "A data.frame: 6 × 4\n",
       "\\begin{tabular}{r|llll}\n",
       "  & litter & male & female & difference\\\\\n",
       "  & <dbl> & <dbl> & <dbl> & <dbl>\\\\\n",
       "\\hline\n",
       "\t1 & 1 & 8 & 5 &  3\\\\\n",
       "\t2 & 2 & 8 & 4 &  4\\\\\n",
       "\t3 & 3 & 6 & 7 & -1\\\\\n",
       "\t4 & 4 & 6 & 3 &  3\\\\\n",
       "\t5 & 5 & 6 & 5 &  1\\\\\n",
       "\t6 & 6 & 6 & 3 &  3\\\\\n",
       "\\end{tabular}\n"
      ],
      "text/markdown": [
       "\n",
       "A data.frame: 6 × 4\n",
       "\n",
       "| <!--/--> | litter &lt;dbl&gt; | male &lt;dbl&gt; | female &lt;dbl&gt; | difference &lt;dbl&gt; |\n",
       "|---|---|---|---|---|\n",
       "| 1 | 1 | 8 | 5 |  3 |\n",
       "| 2 | 2 | 8 | 4 |  4 |\n",
       "| 3 | 3 | 6 | 7 | -1 |\n",
       "| 4 | 4 | 6 | 3 |  3 |\n",
       "| 5 | 5 | 6 | 5 |  1 |\n",
       "| 6 | 6 | 6 | 3 |  3 |\n",
       "\n"
      ],
      "text/plain": [
       "  litter male female difference\n",
       "1 1      8    5       3        \n",
       "2 2      8    4       4        \n",
       "3 3      6    7      -1        \n",
       "4 4      6    3       3        \n",
       "5 5      6    5       1        \n",
       "6 6      6    3       3        "
      ]
     },
     "metadata": {},
     "output_type": "display_data"
    }
   ],
   "source": [
    "rats$difference = rats$male - rats$female\n",
    "head(rats)"
   ]
  },
  {
   "cell_type": "code",
   "execution_count": 46,
   "id": "30e3cb3f",
   "metadata": {
    "ExecuteTime": {
     "end_time": "2022-02-02T00:06:57.541898Z",
     "start_time": "2022-02-02T00:06:57.522Z"
    }
   },
   "outputs": [
    {
     "data": {
      "text/plain": [
       "\n",
       "\tPaired t-test\n",
       "\n",
       "data:  male and female\n",
       "t = 0.45685, df = 18, p-value = 0.6532\n",
       "alternative hypothesis: true difference in means is not equal to 0\n",
       "95 percent confidence interval:\n",
       " -1.325858  2.062700\n",
       "sample estimates:\n",
       "mean of the differences \n",
       "              0.3684211 \n"
      ]
     },
     "metadata": {},
     "output_type": "display_data"
    }
   ],
   "source": [
    "# See if there's any difference between the mean attempts between the male & female groups\n",
    "# Fail to reject the null since p-val is higher than 0.05\n",
    "attach(rats)\n",
    "rat_results = t.test(male, female, mu=0, alternative = c('two.sided'), paired = TRUE)\n",
    "rat_results"
   ]
  },
  {
   "cell_type": "code",
   "execution_count": 47,
   "id": "495fa7ad",
   "metadata": {
    "ExecuteTime": {
     "end_time": "2022-02-02T00:10:44.371783Z",
     "start_time": "2022-02-02T00:10:44.318Z"
    }
   },
   "outputs": [
    {
     "name": "stderr",
     "output_type": "stream",
     "text": [
      "Warning message in (function (z, notch = FALSE, width = NULL, varwidth = FALSE, :\n",
      "\"some notches went outside hinges ('box'): maybe set notch=FALSE\"\n"
     ]
    },
    {
     "data": {
      "image/png": "[encoded data removed]",
      "text/plain": [
       "Plot with title \"Rat Boxplot\""
      ]
     },
     "metadata": {
      "image/png": {
       "height": 420,
       "width": 420
      }
     },
     "output_type": "display_data"
    }
   ],
   "source": [
    "boxplot(male, female, notch = TRUE, main='Rat Boxplot')"
   ]
  },
  {
   "cell_type": "code",
   "execution_count": 51,
   "id": "b052d6d2",
   "metadata": {
    "ExecuteTime": {
     "end_time": "2022-02-02T00:18:48.755167Z",
     "start_time": "2022-02-02T00:18:48.708Z"
    }
   },
   "outputs": [
    {
     "data": {
      "text/html": [
       "<table class=\"dataframe\">\n",
       "<caption>A data.frame: 6 × 9</caption>\n",
       "<thead>\n",
       "\t<tr><th></th><th scope=col>store</th><th scope=col>division</th><th scope=col>deli.sq.ft</th><th scope=col>regional.manager</th><th scope=col>sales.penetration</th><th scope=col>customer.penetration</th><th scope=col>shrink.dollars</th><th scope=col>deli.sales</th><th scope=col>shrink.pct.of.deli.sales</th></tr>\n",
       "\t<tr><th></th><th scope=col>&lt;dbl&gt;</th><th scope=col>&lt;chr&gt;</th><th scope=col>&lt;dbl&gt;</th><th scope=col>&lt;chr&gt;</th><th scope=col>&lt;dbl&gt;</th><th scope=col>&lt;dbl&gt;</th><th scope=col>&lt;dbl&gt;</th><th scope=col>&lt;dbl&gt;</th><th scope=col>&lt;dbl&gt;</th></tr>\n",
       "</thead>\n",
       "<tbody>\n",
       "\t<tr><th scope=row>1</th><td>1</td><td>Summerfield</td><td>1794</td><td>J.J. Gittes</td><td>0.0726</td><td>0.2371</td><td>101075</td><td>274523</td><td>0.3682</td></tr>\n",
       "\t<tr><th scope=row>2</th><td>2</td><td>Summerfield</td><td>2591</td><td>J.J. Gittes</td><td>0.0706</td><td>0.2785</td><td>177221</td><td>359230</td><td>0.4933</td></tr>\n",
       "\t<tr><th scope=row>3</th><td>3</td><td>Summerfield</td><td>2989</td><td>J.J. Gittes</td><td>0.0734</td><td>0.2562</td><td>157138</td><td>503074</td><td>0.3124</td></tr>\n",
       "\t<tr><th scope=row>4</th><td>4</td><td>Summerfield</td><td>2012</td><td>J.J. Gittes</td><td>0.0759</td><td>0.2638</td><td> 90216</td><td>189357</td><td>0.4764</td></tr>\n",
       "\t<tr><th scope=row>5</th><td>5</td><td>Summerfield</td><td>2989</td><td>J.J. Gittes</td><td>0.0792</td><td>0.2588</td><td>124864</td><td>397157</td><td>0.3144</td></tr>\n",
       "\t<tr><th scope=row>6</th><td>6</td><td>Summerfield</td><td>2012</td><td>J.J. Gittes</td><td>0.0697</td><td>0.2259</td><td>120643</td><td>390920</td><td>0.3086</td></tr>\n",
       "</tbody>\n",
       "</table>\n"
      ],
      "text/latex": [
       "A data.frame: 6 × 9\n",
       "\\begin{tabular}{r|lllllllll}\n",
       "  & store & division & deli.sq.ft & regional.manager & sales.penetration & customer.penetration & shrink.dollars & deli.sales & shrink.pct.of.deli.sales\\\\\n",
       "  & <dbl> & <chr> & <dbl> & <chr> & <dbl> & <dbl> & <dbl> & <dbl> & <dbl>\\\\\n",
       "\\hline\n",
       "\t1 & 1 & Summerfield & 1794 & J.J. Gittes & 0.0726 & 0.2371 & 101075 & 274523 & 0.3682\\\\\n",
       "\t2 & 2 & Summerfield & 2591 & J.J. Gittes & 0.0706 & 0.2785 & 177221 & 359230 & 0.4933\\\\\n",
       "\t3 & 3 & Summerfield & 2989 & J.J. Gittes & 0.0734 & 0.2562 & 157138 & 503074 & 0.3124\\\\\n",
       "\t4 & 4 & Summerfield & 2012 & J.J. Gittes & 0.0759 & 0.2638 &  90216 & 189357 & 0.4764\\\\\n",
       "\t5 & 5 & Summerfield & 2989 & J.J. Gittes & 0.0792 & 0.2588 & 124864 & 397157 & 0.3144\\\\\n",
       "\t6 & 6 & Summerfield & 2012 & J.J. Gittes & 0.0697 & 0.2259 & 120643 & 390920 & 0.3086\\\\\n",
       "\\end{tabular}\n"
      ],
      "text/markdown": [
       "\n",
       "A data.frame: 6 × 9\n",
       "\n",
       "| <!--/--> | store &lt;dbl&gt; | division &lt;chr&gt; | deli.sq.ft &lt;dbl&gt; | regional.manager &lt;chr&gt; | sales.penetration &lt;dbl&gt; | customer.penetration &lt;dbl&gt; | shrink.dollars &lt;dbl&gt; | deli.sales &lt;dbl&gt; | shrink.pct.of.deli.sales &lt;dbl&gt; |\n",
       "|---|---|---|---|---|---|---|---|---|---|\n",
       "| 1 | 1 | Summerfield | 1794 | J.J. Gittes | 0.0726 | 0.2371 | 101075 | 274523 | 0.3682 |\n",
       "| 2 | 2 | Summerfield | 2591 | J.J. Gittes | 0.0706 | 0.2785 | 177221 | 359230 | 0.4933 |\n",
       "| 3 | 3 | Summerfield | 2989 | J.J. Gittes | 0.0734 | 0.2562 | 157138 | 503074 | 0.3124 |\n",
       "| 4 | 4 | Summerfield | 2012 | J.J. Gittes | 0.0759 | 0.2638 |  90216 | 189357 | 0.4764 |\n",
       "| 5 | 5 | Summerfield | 2989 | J.J. Gittes | 0.0792 | 0.2588 | 124864 | 397157 | 0.3144 |\n",
       "| 6 | 6 | Summerfield | 2012 | J.J. Gittes | 0.0697 | 0.2259 | 120643 | 390920 | 0.3086 |\n",
       "\n"
      ],
      "text/plain": [
       "  store division    deli.sq.ft regional.manager sales.penetration\n",
       "1 1     Summerfield 1794       J.J. Gittes      0.0726           \n",
       "2 2     Summerfield 2591       J.J. Gittes      0.0706           \n",
       "3 3     Summerfield 2989       J.J. Gittes      0.0734           \n",
       "4 4     Summerfield 2012       J.J. Gittes      0.0759           \n",
       "5 5     Summerfield 2989       J.J. Gittes      0.0792           \n",
       "6 6     Summerfield 2012       J.J. Gittes      0.0697           \n",
       "  customer.penetration shrink.dollars deli.sales shrink.pct.of.deli.sales\n",
       "1 0.2371               101075         274523     0.3682                  \n",
       "2 0.2785               177221         359230     0.4933                  \n",
       "3 0.2562               157138         503074     0.3124                  \n",
       "4 0.2638                90216         189357     0.4764                  \n",
       "5 0.2588               124864         397157     0.3144                  \n",
       "6 0.2259               120643         390920     0.3086                  "
      ]
     },
     "metadata": {},
     "output_type": "display_data"
    }
   ],
   "source": [
    "grocery=import(\"6304 Module 3 Data Sets.xlsx\",\n",
    "             sheet=\"Grocery\")\n",
    "colnames(grocery) = tolower(make.names(colnames(grocery)))\n",
    "head(grocery)"
   ]
  },
  {
   "cell_type": "code",
   "execution_count": 54,
   "id": "851bb1d4",
   "metadata": {
    "ExecuteTime": {
     "end_time": "2022-02-02T00:20:11.887115Z",
     "start_time": "2022-02-02T00:20:11.866Z"
    }
   },
   "outputs": [
    {
     "name": "stdout",
     "output_type": "stream",
     "text": [
      "'data.frame':\t931 obs. of  9 variables:\n",
      " $ store                   : num  1 2 3 4 5 6 7 8 9 10 ...\n",
      " $ division                : chr  \"Summerfield\" \"Summerfield\" \"Summerfield\" \"Summerfield\" ...\n",
      " $ deli.sq.ft              : num  1794 2591 2989 2012 2989 ...\n",
      " $ regional.manager        : chr  \"J.J. Gittes\" \"J.J. Gittes\" \"J.J. Gittes\" \"J.J. Gittes\" ...\n",
      " $ sales.penetration       : num  0.0726 0.0706 0.0734 0.0759 0.0792 0.0697 0.0745 0.0735 0.082 0.0743 ...\n",
      " $ customer.penetration    : num  0.237 0.279 0.256 0.264 0.259 ...\n",
      " $ shrink.dollars          : num  101075 177221 157138 90216 124864 ...\n",
      " $ deli.sales              : num  274523 359230 503074 189357 397157 ...\n",
      " $ shrink.pct.of.deli.sales: num  0.368 0.493 0.312 0.476 0.314 ...\n"
     ]
    }
   ],
   "source": [
    "str(grocery)"
   ]
  },
  {
   "cell_type": "code",
   "execution_count": 56,
   "id": "e0866f14",
   "metadata": {
    "ExecuteTime": {
     "end_time": "2022-02-02T00:22:29.640980Z",
     "start_time": "2022-02-02T00:22:29.625Z"
    }
   },
   "outputs": [
    {
     "data": {
      "text/html": [
       "<style>\n",
       ".list-inline {list-style: none; margin:0; padding: 0}\n",
       ".list-inline>li {display: inline-block}\n",
       ".list-inline>li:not(:last-child)::after {content: \"\\00b7\"; padding: 0 .5ex}\n",
       "</style>\n",
       "<ol class=list-inline><li>'Summerfield'</li><li>'Wistful Vista'</li><li>'Pearl River'</li><li>'Fairview'</li></ol>\n"
      ],
      "text/latex": [
       "\\begin{enumerate*}\n",
       "\\item 'Summerfield'\n",
       "\\item 'Wistful Vista'\n",
       "\\item 'Pearl River'\n",
       "\\item 'Fairview'\n",
       "\\end{enumerate*}\n"
      ],
      "text/markdown": [
       "1. 'Summerfield'\n",
       "2. 'Wistful Vista'\n",
       "3. 'Pearl River'\n",
       "4. 'Fairview'\n",
       "\n",
       "\n"
      ],
      "text/plain": [
       "[1] \"Summerfield\"   \"Wistful Vista\" \"Pearl River\"   \"Fairview\"     "
      ]
     },
     "metadata": {},
     "output_type": "display_data"
    }
   ],
   "source": [
    "# Check the unique values in the variable division\n",
    "unique(grocery$division)"
   ]
  },
  {
   "cell_type": "code",
   "execution_count": 58,
   "id": "0e411f1b",
   "metadata": {
    "ExecuteTime": {
     "end_time": "2022-02-02T00:25:54.129940Z",
     "start_time": "2022-02-02T00:25:54.109Z"
    }
   },
   "outputs": [
    {
     "name": "stdout",
     "output_type": "stream",
     "text": [
      "'data.frame':\t931 obs. of  9 variables:\n",
      " $ store                   : num  1 2 3 4 5 6 7 8 9 10 ...\n",
      " $ division                : Factor w/ 4 levels \"Fairview\",\"Pearl River\",..: 3 3 3 3 3 3 3 3 3 3 ...\n",
      " $ deli.sq.ft              : num  1794 2591 2989 2012 2989 ...\n",
      " $ regional.manager        : chr  \"J.J. Gittes\" \"J.J. Gittes\" \"J.J. Gittes\" \"J.J. Gittes\" ...\n",
      " $ sales.penetration       : num  0.0726 0.0706 0.0734 0.0759 0.0792 0.0697 0.0745 0.0735 0.082 0.0743 ...\n",
      " $ customer.penetration    : num  0.237 0.279 0.256 0.264 0.259 ...\n",
      " $ shrink.dollars          : num  101075 177221 157138 90216 124864 ...\n",
      " $ deli.sales              : num  274523 359230 503074 189357 397157 ...\n",
      " $ shrink.pct.of.deli.sales: num  0.368 0.493 0.312 0.476 0.314 ...\n"
     ]
    }
   ],
   "source": [
    "grocery$division = as.factor(grocery$division)\n",
    "str(grocery)"
   ]
  },
  {
   "cell_type": "code",
   "execution_count": 60,
   "id": "9ec04ac1",
   "metadata": {
    "ExecuteTime": {
     "end_time": "2022-02-02T00:27:02.387959Z",
     "start_time": "2022-02-02T00:27:02.365Z"
    }
   },
   "outputs": [
    {
     "data": {
      "text/html": [
       "<table class=\"dataframe\">\n",
       "<caption>A data.frame: 6 × 9</caption>\n",
       "<thead>\n",
       "\t<tr><th></th><th scope=col>store</th><th scope=col>division</th><th scope=col>deli.sq.ft</th><th scope=col>regional.manager</th><th scope=col>sales.penetration</th><th scope=col>customer.penetration</th><th scope=col>shrink.dollars</th><th scope=col>deli.sales</th><th scope=col>shrink.pct.of.deli.sales</th></tr>\n",
       "\t<tr><th></th><th scope=col>&lt;dbl&gt;</th><th scope=col>&lt;fct&gt;</th><th scope=col>&lt;dbl&gt;</th><th scope=col>&lt;chr&gt;</th><th scope=col>&lt;dbl&gt;</th><th scope=col>&lt;dbl&gt;</th><th scope=col>&lt;dbl&gt;</th><th scope=col>&lt;dbl&gt;</th><th scope=col>&lt;dbl&gt;</th></tr>\n",
       "</thead>\n",
       "<tbody>\n",
       "\t<tr><th scope=row>1</th><td>1</td><td>Summerfield</td><td>1794</td><td>J.J. Gittes</td><td>0.0726</td><td>0.2371</td><td>101075</td><td>274523</td><td>0.3682</td></tr>\n",
       "\t<tr><th scope=row>2</th><td>2</td><td>Summerfield</td><td>2591</td><td>J.J. Gittes</td><td>0.0706</td><td>0.2785</td><td>177221</td><td>359230</td><td>0.4933</td></tr>\n",
       "\t<tr><th scope=row>3</th><td>3</td><td>Summerfield</td><td>2989</td><td>J.J. Gittes</td><td>0.0734</td><td>0.2562</td><td>157138</td><td>503074</td><td>0.3124</td></tr>\n",
       "\t<tr><th scope=row>4</th><td>4</td><td>Summerfield</td><td>2012</td><td>J.J. Gittes</td><td>0.0759</td><td>0.2638</td><td> 90216</td><td>189357</td><td>0.4764</td></tr>\n",
       "\t<tr><th scope=row>5</th><td>5</td><td>Summerfield</td><td>2989</td><td>J.J. Gittes</td><td>0.0792</td><td>0.2588</td><td>124864</td><td>397157</td><td>0.3144</td></tr>\n",
       "\t<tr><th scope=row>6</th><td>6</td><td>Summerfield</td><td>2012</td><td>J.J. Gittes</td><td>0.0697</td><td>0.2259</td><td>120643</td><td>390920</td><td>0.3086</td></tr>\n",
       "</tbody>\n",
       "</table>\n"
      ],
      "text/latex": [
       "A data.frame: 6 × 9\n",
       "\\begin{tabular}{r|lllllllll}\n",
       "  & store & division & deli.sq.ft & regional.manager & sales.penetration & customer.penetration & shrink.dollars & deli.sales & shrink.pct.of.deli.sales\\\\\n",
       "  & <dbl> & <fct> & <dbl> & <chr> & <dbl> & <dbl> & <dbl> & <dbl> & <dbl>\\\\\n",
       "\\hline\n",
       "\t1 & 1 & Summerfield & 1794 & J.J. Gittes & 0.0726 & 0.2371 & 101075 & 274523 & 0.3682\\\\\n",
       "\t2 & 2 & Summerfield & 2591 & J.J. Gittes & 0.0706 & 0.2785 & 177221 & 359230 & 0.4933\\\\\n",
       "\t3 & 3 & Summerfield & 2989 & J.J. Gittes & 0.0734 & 0.2562 & 157138 & 503074 & 0.3124\\\\\n",
       "\t4 & 4 & Summerfield & 2012 & J.J. Gittes & 0.0759 & 0.2638 &  90216 & 189357 & 0.4764\\\\\n",
       "\t5 & 5 & Summerfield & 2989 & J.J. Gittes & 0.0792 & 0.2588 & 124864 & 397157 & 0.3144\\\\\n",
       "\t6 & 6 & Summerfield & 2012 & J.J. Gittes & 0.0697 & 0.2259 & 120643 & 390920 & 0.3086\\\\\n",
       "\\end{tabular}\n"
      ],
      "text/markdown": [
       "\n",
       "A data.frame: 6 × 9\n",
       "\n",
       "| <!--/--> | store &lt;dbl&gt; | division &lt;fct&gt; | deli.sq.ft &lt;dbl&gt; | regional.manager &lt;chr&gt; | sales.penetration &lt;dbl&gt; | customer.penetration &lt;dbl&gt; | shrink.dollars &lt;dbl&gt; | deli.sales &lt;dbl&gt; | shrink.pct.of.deli.sales &lt;dbl&gt; |\n",
       "|---|---|---|---|---|---|---|---|---|---|\n",
       "| 1 | 1 | Summerfield | 1794 | J.J. Gittes | 0.0726 | 0.2371 | 101075 | 274523 | 0.3682 |\n",
       "| 2 | 2 | Summerfield | 2591 | J.J. Gittes | 0.0706 | 0.2785 | 177221 | 359230 | 0.4933 |\n",
       "| 3 | 3 | Summerfield | 2989 | J.J. Gittes | 0.0734 | 0.2562 | 157138 | 503074 | 0.3124 |\n",
       "| 4 | 4 | Summerfield | 2012 | J.J. Gittes | 0.0759 | 0.2638 |  90216 | 189357 | 0.4764 |\n",
       "| 5 | 5 | Summerfield | 2989 | J.J. Gittes | 0.0792 | 0.2588 | 124864 | 397157 | 0.3144 |\n",
       "| 6 | 6 | Summerfield | 2012 | J.J. Gittes | 0.0697 | 0.2259 | 120643 | 390920 | 0.3086 |\n",
       "\n"
      ],
      "text/plain": [
       "  store division    deli.sq.ft regional.manager sales.penetration\n",
       "1 1     Summerfield 1794       J.J. Gittes      0.0726           \n",
       "2 2     Summerfield 2591       J.J. Gittes      0.0706           \n",
       "3 3     Summerfield 2989       J.J. Gittes      0.0734           \n",
       "4 4     Summerfield 2012       J.J. Gittes      0.0759           \n",
       "5 5     Summerfield 2989       J.J. Gittes      0.0792           \n",
       "6 6     Summerfield 2012       J.J. Gittes      0.0697           \n",
       "  customer.penetration shrink.dollars deli.sales shrink.pct.of.deli.sales\n",
       "1 0.2371               101075         274523     0.3682                  \n",
       "2 0.2785               177221         359230     0.4933                  \n",
       "3 0.2562               157138         503074     0.3124                  \n",
       "4 0.2638                90216         189357     0.4764                  \n",
       "5 0.2588               124864         397157     0.3144                  \n",
       "6 0.2259               120643         390920     0.3086                  "
      ]
     },
     "metadata": {},
     "output_type": "display_data"
    }
   ],
   "source": [
    "# Pulling a subset from the data\n",
    "summerfield = subset(grocery, division=='Summerfield')\n",
    "head(summerfield)"
   ]
  },
  {
   "cell_type": "code",
   "execution_count": 61,
   "id": "edb3bff1",
   "metadata": {
    "ExecuteTime": {
     "end_time": "2022-02-02T00:52:56.688088Z",
     "start_time": "2022-02-02T00:52:56.670Z"
    }
   },
   "outputs": [],
   "source": [
    "# Sampling the data\n",
    "set.seed(99)\n",
    "fairview = subset(grocery, division=='Fairview')\n",
    "my_fairview = fairview[sample(1:nrow(fairview), 18, replace = FALSE),]\n",
    "my_summerfield = summerfield[sample(1:nrow(summerfield), 15, replace = FALSE),]"
   ]
  },
  {
   "cell_type": "code",
   "execution_count": 62,
   "id": "7499eb4e",
   "metadata": {
    "ExecuteTime": {
     "end_time": "2022-02-02T00:53:31.460237Z",
     "start_time": "2022-02-02T00:53:31.444Z"
    }
   },
   "outputs": [
    {
     "data": {
      "text/plain": [
       "\n",
       "\tOne Sample t-test\n",
       "\n",
       "data:  my_fairview$customer.penetration\n",
       "t = 4.4878, df = 17, p-value = 0.0001621\n",
       "alternative hypothesis: true mean is greater than 0.2\n",
       "95 percent confidence interval:\n",
       " 0.2266754       Inf\n",
       "sample estimates:\n",
       "mean of x \n",
       "0.2435611 \n"
      ]
     },
     "metadata": {},
     "output_type": "display_data"
    }
   ],
   "source": [
    "t.test(my_fairview$customer.penetration, mu = 0.2, alternative = c('greater'))"
   ]
  },
  {
   "cell_type": "code",
   "execution_count": 63,
   "id": "a988aad3",
   "metadata": {
    "ExecuteTime": {
     "end_time": "2022-02-02T00:53:45.842669Z",
     "start_time": "2022-02-02T00:53:45.827Z"
    }
   },
   "outputs": [
    {
     "data": {
      "text/plain": [
       "\n",
       "\tOne Sample t-test\n",
       "\n",
       "data:  my_fairview$customer.penetration\n",
       "t = -0.66335, df = 17, p-value = 0.742\n",
       "alternative hypothesis: true mean is greater than 0.25\n",
       "95 percent confidence interval:\n",
       " 0.2266754       Inf\n",
       "sample estimates:\n",
       "mean of x \n",
       "0.2435611 \n"
      ]
     },
     "metadata": {},
     "output_type": "display_data"
    }
   ],
   "source": [
    "t.test(my_fairview$customer.penetration, mu = 0.25, alternative = c('greater'))"
   ]
  },
  {
   "cell_type": "code",
   "execution_count": 64,
   "id": "1cab05cd",
   "metadata": {
    "ExecuteTime": {
     "end_time": "2022-02-02T00:54:23.626271Z",
     "start_time": "2022-02-02T00:54:23.610Z"
    }
   },
   "outputs": [
    {
     "data": {
      "text/plain": [
       "\n",
       "\tOne Sample t-test\n",
       "\n",
       "data:  my_summerfield$customer.penetration\n",
       "t = 6.0039, df = 14, p-value = 1.617e-05\n",
       "alternative hypothesis: true mean is greater than 0.2\n",
       "95 percent confidence interval:\n",
       " 0.2383374       Inf\n",
       "sample estimates:\n",
       "mean of x \n",
       "0.2542533 \n"
      ]
     },
     "metadata": {},
     "output_type": "display_data"
    }
   ],
   "source": [
    "t.test(my_summerfield$customer.penetration, mu = 0.2, alternative = c('greater'))"
   ]
  },
  {
   "cell_type": "code",
   "execution_count": null,
   "id": "057bd58e",
   "metadata": {},
   "outputs": [],
   "source": []
  }
 ],
 "metadata": {
  "kernelspec": {
   "display_name": "R",
   "language": "R",
   "name": "ir"
  },
  "language_info": {
   "codemirror_mode": "r",
   "file_extension": ".r",
   "mimetype": "text/x-r-source",
   "name": "R",
   "pygments_lexer": "r",
   "version": "4.1.2"
  }
 },
 "nbformat": 4,
 "nbformat_minor": 5
}
